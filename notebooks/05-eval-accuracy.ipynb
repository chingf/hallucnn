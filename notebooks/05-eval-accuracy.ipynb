{
 "cells": [
  {
   "cell_type": "code",
   "execution_count": 36,
   "metadata": {},
   "outputs": [],
   "source": [
    "import os\n",
    "import sys\n",
    "import numpy as np\n",
    "import h5py\n",
    "import matplotlib.pyplot as plt\n",
    "import pandas as pd\n",
    "import pickle\n",
    "import seaborn as sns\n",
    "import datetime\n",
    "from scipy.stats import sem\n",
    "import matplotlib.cm as cm\n",
    "import pathlib\n",
    "import traceback\n",
    "import configs\n",
    "\n",
    "import torch\n",
    "from torch.utils.tensorboard import SummaryWriter\n",
    "from torch.utils.data import DataLoader\n",
    "from torch.utils.data import Subset\n",
    "from predify.utils.training import train_pcoders, eval_pcoders\n",
    "\n",
    "from models.networks_2022 import BranchedNetwork"
   ]
  },
  {
   "cell_type": "code",
   "execution_count": 37,
   "metadata": {},
   "outputs": [],
   "source": [
    "plt.rcParams['font.family'] = 'sans-serif'"
   ]
  },
  {
   "cell_type": "code",
   "execution_count": 38,
   "metadata": {},
   "outputs": [],
   "source": [
    "# This is bad practice! But the warnings are real annoying\n",
    "import warnings\n",
    "warnings.filterwarnings(\"ignore\")"
   ]
  },
  {
   "cell_type": "markdown",
   "metadata": {},
   "source": [
    "# Parameters"
   ]
  },
  {
   "cell_type": "code",
   "execution_count": 22,
   "metadata": {},
   "outputs": [],
   "source": [
    "exp = 'pnet'\n",
    "engram_dir = '/mnt/smb/locker/abbott-locker/hcnn/'\n",
    "checkpoints_dir = f'{engram_dir}1_checkpoints/'\n",
    "tensorboard_dir = f'{engram_dir}1_tensorboard/'\n",
    "activations_dir = f'{engram_dir}3_validation_activations/{exp}/'"
   ]
  },
  {
   "cell_type": "code",
   "execution_count": 14,
   "metadata": {},
   "outputs": [
    {
     "name": "stdout",
     "output_type": "stream",
     "text": [
      "Device: cuda:0\n"
     ]
    }
   ],
   "source": [
    "DEVICE = 'cuda:0' if torch.cuda.is_available() else 'cpu'\n",
    "print(f'Device: {DEVICE}')"
   ]
  },
  {
   "cell_type": "markdown",
   "metadata": {},
   "source": [
    "# Helper functions"
   ]
  },
  {
   "cell_type": "code",
   "execution_count": 15,
   "metadata": {},
   "outputs": [],
   "source": [
    "def get_accuracy(results):\n",
    "    labels = np.array(results['label'])\n",
    "    timesteps = []\n",
    "    accuracies = [] # p\n",
    "    delta_accuracies = [] # p - p_ff\n",
    "    \n",
    "    n_timesteps = 5\n",
    "    for i in range(labels.size):\n",
    "        label = labels[i]\n",
    "        ff_acc = None\n",
    "        for t in range(n_timesteps):\n",
    "            output = results[f'{t}_output'][i]\n",
    "            acc_t = (output == label).astype(float)\n",
    "            if t == 0:\n",
    "                ff_acc = acc_t\n",
    "            timesteps.append(t)\n",
    "            accuracies.append(acc_t)\n",
    "            delta_accuracies.append(acc_t - ff_acc)\n",
    "\n",
    "    timesteps = np.array(timesteps)\n",
    "    accuracies = np.array(accuracies)\n",
    "    delta_accuracies = np.array(delta_accuracies)\n",
    "            \n",
    "    return timesteps, accuracies, delta_accuracies"
   ]
  },
  {
   "cell_type": "code",
   "execution_count": 16,
   "metadata": {},
   "outputs": [],
   "source": [
    "bgs = ['pinkNoise', 'AudScene', 'Babble8Spkr']\n",
    "snrs = [-9.0, -6.0, -3.0, 0.0, 3.0]"
   ]
  },
  {
   "cell_type": "code",
   "execution_count": 17,
   "metadata": {},
   "outputs": [],
   "source": [
    "def plot_by_snr_individual(val_key, figname=None, yticks=None):\n",
    "    barWidth = 0.18\n",
    "    x1 = np.arange(5) - barWidth*5/2\n",
    "    colors = cm.get_cmap('Blues')(np.linspace(0.3, 0.85, 4))\n",
    "    \n",
    "    for _id in np.unique(df['ID']):\n",
    "        fig, ax = plt.subplots(figsize=(6.4, 4.8*0.8))\n",
    "        id_df = df[df['ID'] == _id]\n",
    "        print(np.mean(id_df[val_key]))\n",
    "        for snr_i, snr in enumerate(np.unique(df['SNR'])):\n",
    "            for t in [1, 2, 3, 4]:\n",
    "                vals = id_df[(id_df['SNR']==snr) & (id_df['Timesteps']==t)]\n",
    "                vals = vals[val_key]\n",
    "                vals = np.array(vals)\n",
    "                avg = np.mean(vals)\n",
    "                plt.bar(\n",
    "                    x1[snr_i] + barWidth*t, avg,\n",
    "                    width=barWidth, color=colors[t-1],\n",
    "                    label=t)\n",
    "        plt.xticks([0,1,2,3,4], [-9, -6, -3, 0, 3])\n",
    "        if yticks != None:\n",
    "            plt.yticks(yticks)\n",
    "        plt.ylabel(val_key)\n",
    "        plt.xlabel('SNR')\n",
    "        if figname is not None:\n",
    "            plt.savefig(f'{figname}.svg', dpi=300)\n",
    "        plt.show()"
   ]
  },
  {
   "cell_type": "code",
   "execution_count": 18,
   "metadata": {},
   "outputs": [],
   "source": [
    "def plot_by_snr_mean(val_key, figname=None, yticks=None):\n",
    "    barWidth = 0.18\n",
    "    x1 = np.arange(5) - barWidth*5/2\n",
    "    colors = cm.get_cmap('Blues')(np.linspace(0.3, 0.85, 4))\n",
    "    fig, ax = plt.subplots(figsize=(6.4, 4.8*0.8))\n",
    "\n",
    "    for snr_i, snr in enumerate(np.unique(df['SNR'])):\n",
    "        for t in [1, 2, 3, 4]:\n",
    "            vals = df[(df['SNR']==snr) & (df['Timesteps']==t)]\n",
    "            vals = vals[val_key]\n",
    "            vals = np.array(vals)\n",
    "            avg = np.mean(vals)\n",
    "            err = sem(vals)\n",
    "            label = t if snr_i==0 else None\n",
    "            plt.bar(\n",
    "                x1[snr_i] + barWidth*t, avg,\n",
    "                width=barWidth, color=colors[t-1],\n",
    "                yerr=err, capsize=0, label=label)\n",
    "    plt.xticks([0,1,2,3,4], [-9, -6, -3, 0, 3])\n",
    "    if yticks != None:\n",
    "        plt.yticks(yticks)\n",
    "    plt.ylabel(val_key)\n",
    "    plt.xlabel('SNR')\n",
    "    plt.axhline(0, color='lightgray')\n",
    "    plt.legend(title='Timesteps')\n",
    "    plt.tight_layout()\n",
    "    if figname is not None:\n",
    "        plt.savefig(f'{figname}.svg', dpi=300)\n",
    "    plt.show()"
   ]
  },
  {
   "cell_type": "code",
   "execution_count": 19,
   "metadata": {},
   "outputs": [],
   "source": [
    "def plot_by_bg_individual(val_key, figname=None, yticks=None):\n",
    "    barWidth = 0.18\n",
    "    x1 = np.arange(5) - barWidth*5/2\n",
    "    colors = cm.get_cmap('Blues')(np.linspace(0.3, 0.85, 4))\n",
    "    \n",
    "    for _id in np.unique(df['ID']):\n",
    "        fig, ax = plt.subplots(figsize=(6.4, 4.8*0.8))\n",
    "        id_df = df[df['ID'] == _id]\n",
    "        print(np.mean(id_df[val_key]))\n",
    "        for bg_i, bg in enumerate(['Babble8Spkr', 'AudScene', 'pinkNoise']):\n",
    "            for t in [1, 2, 3, 4]:\n",
    "                vals = id_df[(id_df['BG']==bg) & (id_df['Timesteps']==t)]\n",
    "                vals = vals[val_key]\n",
    "                vals = np.array(vals)\n",
    "                avg = np.mean(vals)\n",
    "                plt.bar(\n",
    "                    x1[bg_i] + barWidth*t, avg,\n",
    "                    width=barWidth, color=colors[t-1],\n",
    "                    label=t)\n",
    "        plt.xticks(\n",
    "            [0, 1, 2],\n",
    "            ['8-Speaker\\nBabble', 'Auditory\\nScene', 'Pink Noise'])\n",
    "        if yticks != None:\n",
    "            plt.yticks(yticks)\n",
    "        plt.ylabel(val_key)\n",
    "        if figname is not None:\n",
    "            plt.savefig(f'{figname}.svg', dpi=300)\n",
    "        plt.show()"
   ]
  },
  {
   "cell_type": "code",
   "execution_count": 20,
   "metadata": {},
   "outputs": [],
   "source": [
    "def plot_by_bg_mean(val_key, figname=None, yticks=None, ylim=None):\n",
    "    barWidth = 0.18\n",
    "    x1 = np.arange(5) - barWidth*5/2\n",
    "    colors = cm.get_cmap('Blues')(np.linspace(0.3, 0.85, 4))\n",
    "    fig, ax = plt.subplots(figsize=(6.4, 4.8*0.8))\n",
    "    for bg_i, bg in enumerate(['Babble8Spkr', 'AudScene', 'pinkNoise']):\n",
    "        for t in [1, 2, 3, 4]:\n",
    "            vals = df[(df['BG']==bg) & (df['Timesteps']==t)]\n",
    "            vals = vals[val_key]\n",
    "            vals = np.array(vals)\n",
    "            avg = np.mean(vals)\n",
    "            err = sem(vals)\n",
    "            plt.bar(\n",
    "                x1[bg_i] + barWidth*t, avg, yerr=err,\n",
    "                width=barWidth, color=colors[t-1],\n",
    "                label=t)\n",
    "    plt.xticks(\n",
    "        [0, 1, 2],\n",
    "        ['8-Speaker\\nBabble', 'Auditory\\nScene', 'Pink Noise'])\n",
    "    if yticks != None:\n",
    "        plt.yticks(yticks)\n",
    "    if ylim != None:\n",
    "        plt.ylim(ylim)\n",
    "    plt.ylabel(val_key)\n",
    "    if figname is not None:\n",
    "        plt.savefig(f'{figname}.png', dpi=300)\n",
    "    plt.show()"
   ]
  },
  {
   "cell_type": "markdown",
   "metadata": {},
   "source": [
    "# Collect Data"
   ]
  },
  {
   "cell_type": "code",
   "execution_count": 23,
   "metadata": {},
   "outputs": [],
   "source": [
    "data = {}\n",
    "data['Accuracy'] = [] # p\n",
    "data['$\\Delta$ Accuracy'] = [] # p - p_ff for each bg, snr\n",
    "data['Timesteps'] = []\n",
    "data['SNR'] = []\n",
    "data['BG'] = []\n",
    "data['ID'] = []\n",
    "\n",
    "for bg in bgs:\n",
    "    for snr in snrs:\n",
    "        activ_dir = f'{activations_dir}{bg}_snr{int(snr)}/'\n",
    "        for results_file in os.listdir(activ_dir):\n",
    "            results_filepath = f'{activ_dir}{results_file}'\n",
    "            try:\n",
    "                results = h5py.File(results_filepath, 'r')\n",
    "            except:\n",
    "                print(results_filepath)\n",
    "                traceback.print_exc()\n",
    "                continue\n",
    "            timesteps, accs, delta_accs = get_accuracy(results)\n",
    "\n",
    "            # Collect accuracy results by labels\n",
    "            for t in [0, 1, 2, 3, 4]:\n",
    "                idxs = timesteps==t\n",
    "                data['Accuracy'].append(np.mean(accs[idxs]))\n",
    "                data['$\\Delta$ Accuracy'].append(np.mean(delta_accs[idxs]))\n",
    "                data['Timesteps'].append(t)\n",
    "                data['SNR'].append(snr)\n",
    "                data['BG'].append(bg)\n",
    "                data['ID'].append(results_file)\n",
    "df = pd.DataFrame(data)\n",
    "\n",
    "bg_avgs = {}\n",
    "for bg in np.unique(df['BG']):\n",
    "    bg_avgs[bg] = {}\n",
    "    for snr in np.unique(df['SNR']):\n",
    "        ff_df = df[df['Timesteps']==0]\n",
    "        bg_avgs[bg][snr] = np.mean(\n",
    "            ff_df[(ff_df['BG'] == bg) & (ff_df['SNR'] ==snr)]['Accuracy']\n",
    "            )\n",
    "data['Relative Accuracy'] = [] # (p - p_ff)/p_ff\n",
    "for idx in range(len(data['Accuracy'])):\n",
    "    bg = data['BG'][idx]\n",
    "    snr = data['SNR'][idx]\n",
    "    delta_acc = data['$\\Delta$ Accuracy'][idx]\n",
    "    data['Relative Accuracy'].append(delta_acc/bg_avgs[bg][snr])\n",
    "df = pd.DataFrame(data)"
   ]
  },
  {
   "cell_type": "markdown",
   "metadata": {},
   "source": [
    "# Collapsed across BG"
   ]
  },
  {
   "cell_type": "code",
   "execution_count": 24,
   "metadata": {
    "scrolled": true
   },
   "outputs": [
    {
     "data": {
      "image/png": "[encoded data removed]",
      "text/plain": [
       "<Figure size 460.8x276.48 with 1 Axes>"
      ]
     },
     "metadata": {
      "needs_background": "light"
     },
     "output_type": "display_data"
    }
   ],
   "source": [
    "plot_by_snr_mean(\n",
    "    'Relative Accuracy', figname='snr_acc_separate',\n",
    "    yticks=[0, 0.05, 0.1]\n",
    "    )"
   ]
  },
  {
   "cell_type": "code",
   "execution_count": 25,
   "metadata": {
    "scrolled": true
   },
   "outputs": [
    {
     "data": {
      "image/png": "[encoded data removed]",
      "text/plain": [
       "<Figure size 460.8x276.48 with 1 Axes>"
      ]
     },
     "metadata": {
      "needs_background": "light"
     },
     "output_type": "display_data"
    }
   ],
   "source": [
    "plot_by_snr_mean('$\\Delta$ Accuracy')"
   ]
  },
  {
   "cell_type": "markdown",
   "metadata": {},
   "source": [
    "# Collapsed across SNR"
   ]
  },
  {
   "cell_type": "code",
   "execution_count": 26,
   "metadata": {},
   "outputs": [
    {
     "data": {
      "image/png": "[encoded data removed]",
      "text/plain": [
       "<Figure size 460.8x276.48 with 1 Axes>"
      ]
     },
     "metadata": {
      "needs_background": "light"
     },
     "output_type": "display_data"
    }
   ],
   "source": [
    "plot_by_bg_mean(\n",
    "    'Relative Accuracy', figname='bg_acc_separate',\n",
    "    yticks=[0, 0.05, 0.1], ylim=[-0.05, 0.11])"
   ]
  },
  {
   "cell_type": "markdown",
   "metadata": {},
   "source": [
    "# Splitting by FF or Clean Correct"
   ]
  },
  {
   "cell_type": "code",
   "execution_count": 50,
   "metadata": {},
   "outputs": [],
   "source": [
    "clean_correct = []\n",
    "ff_correct = []\n",
    "pred_correct = []\n",
    "\n",
    "for bg in bgs:\n",
    "    for snr in snrs:\n",
    "        activ_dir = f'{activations_dir}{bg}_snr{int(snr)}/'\n",
    "        for results_file in os.listdir(activ_dir):\n",
    "            results_filepath = f'{activ_dir}{results_file}'\n",
    "            try:\n",
    "                results = h5py.File(results_filepath, 'r')\n",
    "            except:\n",
    "                print(results_filepath)\n",
    "                traceback.print_exc()\n",
    "                continue\n",
    "            label = np.array(results['label'])\n",
    "            not_genre = label != 0\n",
    "            _clean_correct = (np.array(results['label']) == np.array(results['0_clean_output'])\n",
    "                ).astype(float)[not_genre].tolist()\n",
    "            _ff_correct = (np.array(results['label']) == np.array(results['0_output'])\n",
    "                ).astype(float)[not_genre].tolist()\n",
    "            _pred_correct = (np.array(results['label']) == np.array(results['4_output'])\n",
    "                ).astype(float)[not_genre].tolist()\n",
    "            clean_correct.extend(_clean_correct)\n",
    "            ff_correct.extend(_ff_correct)\n",
    "            pred_correct.extend(_pred_correct)"
   ]
  },
  {
   "cell_type": "code",
   "execution_count": 56,
   "metadata": {},
   "outputs": [],
   "source": [
    "clean_correct = np.array(clean_correct)\n",
    "ff_correct = np.array(ff_correct)\n",
    "pred_correct = np.array(pred_correct)"
   ]
  },
  {
   "cell_type": "code",
   "execution_count": 54,
   "metadata": {},
   "outputs": [
    {
     "data": {
      "image/png": "[encoded data removed]",
      "text/plain": [
       "<Figure size 540x540 with 1 Axes>"
      ]
     },
     "metadata": {
      "needs_background": "light"
     },
     "output_type": "display_data"
    }
   ],
   "source": [
    "from sklearn.metrics import confusion_matrix\n",
    "conf_matrix = confusion_matrix(y_true=clean_correct, y_pred=ff_correct)\n",
    "fig, ax = plt.subplots(figsize=(7.5, 7.5))\n",
    "ax.matshow(conf_matrix, cmap=plt.cm.Blues, alpha=0.3)\n",
    "for i in range(conf_matrix.shape[0]):\n",
    "    for j in range(conf_matrix.shape[1]):\n",
    "        ax.text(x=j, y=i,s=conf_matrix[i, j], va='center', ha='center', size='xx-large')\n",
    "plt.xlabel('FF Correct', fontsize=18)\n",
    "plt.ylabel('Clean Correct', fontsize=18)\n",
    "plt.title('Confusion Matrix', fontsize=18)\n",
    "plt.show()"
   ]
  },
  {
   "cell_type": "code",
   "execution_count": 53,
   "metadata": {},
   "outputs": [
    {
     "data": {
      "image/png": "[encoded data removed]",
      "text/plain": [
       "<Figure size 540x540 with 1 Axes>"
      ]
     },
     "metadata": {
      "needs_background": "light"
     },
     "output_type": "display_data"
    }
   ],
   "source": [
    "from sklearn.metrics import confusion_matrix\n",
    "conf_matrix = confusion_matrix(y_true=clean_correct, y_pred=pred_correct)\n",
    "fig, ax = plt.subplots(figsize=(7.5, 7.5))\n",
    "ax.matshow(conf_matrix, cmap=plt.cm.Blues, alpha=0.3)\n",
    "for i in range(conf_matrix.shape[0]):\n",
    "    for j in range(conf_matrix.shape[1]):\n",
    "        ax.text(x=j, y=i,s=conf_matrix[i, j], va='center', ha='center', size='xx-large')\n",
    "plt.xlabel('PNet Correct', fontsize=18)\n",
    "plt.ylabel('Clean Correct', fontsize=18)\n",
    "plt.title('Confusion Matrix', fontsize=18)\n",
    "plt.show()"
   ]
  },
  {
   "cell_type": "code",
   "execution_count": 55,
   "metadata": {},
   "outputs": [
    {
     "data": {
      "image/png": "[encoded data removed]",
      "text/plain": [
       "<Figure size 540x540 with 1 Axes>"
      ]
     },
     "metadata": {
      "needs_background": "light"
     },
     "output_type": "display_data"
    }
   ],
   "source": [
    "from sklearn.metrics import confusion_matrix\n",
    "conf_matrix = confusion_matrix(y_true=ff_correct, y_pred=pred_correct)\n",
    "fig, ax = plt.subplots(figsize=(7.5, 7.5))\n",
    "ax.matshow(conf_matrix, cmap=plt.cm.Blues, alpha=0.3)\n",
    "for i in range(conf_matrix.shape[0]):\n",
    "    for j in range(conf_matrix.shape[1]):\n",
    "        ax.text(x=j, y=i,s=conf_matrix[i, j], va='center', ha='center', size='xx-large')\n",
    "plt.xlabel('PNet Correct', fontsize=18)\n",
    "plt.ylabel('FF Correct', fontsize=18)\n",
    "plt.title('Confusion Matrix', fontsize=18)\n",
    "plt.show()"
   ]
  },
  {
   "cell_type": "code",
   "execution_count": 59,
   "metadata": {},
   "outputs": [],
   "source": [
    "ff_incorrect_but_pred_correct = np.logical_and(ff_correct==0, pred_correct==1)\n",
    "ff_correct_but_pred_incorrect = np.logical_and(ff_correct==1, pred_correct==0)"
   ]
  },
  {
   "cell_type": "code",
   "execution_count": 60,
   "metadata": {},
   "outputs": [
    {
     "name": "stdout",
     "output_type": "stream",
     "text": [
      "227\n",
      "38\n"
     ]
    }
   ],
   "source": [
    "_clean_correct = clean_correct[ff_incorrect_but_pred_correct]\n",
    "print(np.sum(_clean_correct==1))\n",
    "print(np.sum(_clean_correct==0))"
   ]
  },
  {
   "cell_type": "code",
   "execution_count": 63,
   "metadata": {},
   "outputs": [
    {
     "name": "stdout",
     "output_type": "stream",
     "text": [
      "6136\n",
      "1425\n"
     ]
    }
   ],
   "source": [
    "print(np.sum(clean_correct==1))\n",
    "print(np.sum(clean_correct==0))"
   ]
  },
  {
   "cell_type": "code",
   "execution_count": 71,
   "metadata": {},
   "outputs": [
    {
     "data": {
      "text/plain": [
       "0.8115328660230128"
      ]
     },
     "execution_count": 71,
     "metadata": {},
     "output_type": "execute_result"
    }
   ],
   "source": [
    "6136/(1425+6136)"
   ]
  },
  {
   "cell_type": "code",
   "execution_count": 70,
   "metadata": {},
   "outputs": [
    {
     "data": {
      "text/plain": [
       "0.8566037735849057"
      ]
     },
     "execution_count": 70,
     "metadata": {},
     "output_type": "execute_result"
    }
   ],
   "source": [
    "227/(38+227)"
   ]
  },
  {
   "cell_type": "code",
   "execution_count": 68,
   "metadata": {},
   "outputs": [
    {
     "name": "stdout",
     "output_type": "stream",
     "text": [
      "164\n",
      "19\n"
     ]
    }
   ],
   "source": [
    "_clean_correct = clean_correct[ff_correct_but_pred_incorrect]\n",
    "print(np.sum(_clean_correct==1))\n",
    "print(np.sum(_clean_correct==0))"
   ]
  },
  {
   "cell_type": "code",
   "execution_count": 72,
   "metadata": {},
   "outputs": [
    {
     "data": {
      "text/plain": [
       "0.8961748633879781"
      ]
     },
     "execution_count": 72,
     "metadata": {},
     "output_type": "execute_result"
    }
   ],
   "source": [
    "164/(164+19)"
   ]
  },
  {
   "cell_type": "code",
   "execution_count": null,
   "metadata": {},
   "outputs": [],
   "source": []
  }
 ],
 "metadata": {
  "kernelspec": {
   "display_name": "Python [conda env:.conda-hcnn]",
   "language": "python",
   "name": "conda-env-.conda-hcnn-py"
  },
  "language_info": {
   "codemirror_mode": {
    "name": "ipython",
    "version": 3
   },
   "file_extension": ".py",
   "mimetype": "text/x-python",
   "name": "python",
   "nbconvert_exporter": "python",
   "pygments_lexer": "ipython3",
   "version": "3.7.13"
  }
 },
 "nbformat": 4,
 "nbformat_minor": 5
}
