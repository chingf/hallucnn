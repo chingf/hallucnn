{
 "cells": [
  {
   "cell_type": "code",
   "execution_count": 3,
   "id": "e548e32b",
   "metadata": {},
   "outputs": [],
   "source": [
    "import os\n",
    "import sys\n",
    "import numpy as np\n",
    "import h5py\n",
    "import matplotlib.pyplot as plt\n",
    "import pandas as pd\n",
    "import pickle\n",
    "import seaborn as sns\n",
    "import configs\n",
    "\n",
    "import torch\n",
    "from torch.utils.tensorboard import SummaryWriter\n",
    "from torch.utils.data import DataLoader\n",
    "from torch.utils.data import Subset\n",
    "from predify.utils.training import train_pcoders, eval_pcoders\n",
    "\n",
    "from models.networks_2022 import BranchedNetwork"
   ]
  },
  {
   "cell_type": "code",
   "execution_count": 4,
   "id": "bc44daf9",
   "metadata": {},
   "outputs": [],
   "source": [
    "plt.rcParams['font.family'] = 'sans-serif'"
   ]
  },
  {
   "cell_type": "markdown",
   "id": "e198488a",
   "metadata": {},
   "source": [
    "# Parameters"
   ]
  },
  {
   "cell_type": "code",
   "execution_count": 5,
   "id": "6ccf32c8",
   "metadata": {},
   "outputs": [],
   "source": [
    "engram_dir = '/mnt/smb/locker/abbott-locker/hcnn/'\n",
    "checkpoints_dir = f'{engram_dir}1_checkpoints/'\n",
    "tensorboard_dir = f'{engram_dir}1_tensorboard/'\n",
    "activations_dir = f'{engram_dir}3_activations/pnet_cgram_shuffle/'"
   ]
  },
  {
   "cell_type": "code",
   "execution_count": 6,
   "id": "158a4ddb",
   "metadata": {},
   "outputs": [
    {
     "name": "stdout",
     "output_type": "stream",
     "text": [
      "Device: cpu\n"
     ]
    }
   ],
   "source": [
    "DEVICE = 'cuda:0' if torch.cuda.is_available() else 'cpu'\n",
    "print(f'Device: {DEVICE}')"
   ]
  },
  {
   "cell_type": "markdown",
   "id": "0ff3ee0c",
   "metadata": {},
   "source": [
    "# Function to collect accuracy values"
   ]
  },
  {
   "cell_type": "code",
   "execution_count": 7,
   "id": "2ae9dd76",
   "metadata": {},
   "outputs": [],
   "source": [
    "def eval_accuracy(results):\n",
    "    labels = np.array(results['label'])\n",
    "    timesteps = []\n",
    "    accuracies = []\n",
    "    rel_accuracies = []\n",
    "    ff_corrects = []\n",
    "    clean_corrects = []\n",
    "    \n",
    "    n_timesteps = 5\n",
    "    for i in range(labels.size):\n",
    "        label = labels[i]\n",
    "        ff_acc = None\n",
    "        for t in range(n_timesteps):\n",
    "            output = results[f'{t}_output'][i]\n",
    "            acc_t = (output == label).astype(float)\n",
    "            if t == 0:\n",
    "                ff_acc = acc_t\n",
    "            rel_acc_t = acc_t - ff_acc\n",
    "            timesteps.append(t)\n",
    "            accuracies.append(acc_t)\n",
    "            rel_accuracies.append(rel_acc_t)\n",
    "            ff_corrects.append(ff_acc)\n",
    "            clean_corrects.append(results['clean_correct'][i])\n",
    "\n",
    "    timesteps = np.array(timesteps)\n",
    "    accuracies = np.array(accuracies)\n",
    "    rel_accuracies = np.array(rel_accuracies)\n",
    "    ff_corrects = np.array(ff_corrects)\n",
    "    clean_corrects = np.array(clean_corrects)\n",
    "            \n",
    "    return timesteps, accuracies, rel_accuracies, ff_corrects, clean_corrects"
   ]
  },
  {
   "cell_type": "code",
   "execution_count": 8,
   "id": "4ac57acb",
   "metadata": {},
   "outputs": [],
   "source": [
    "# This is bad practice! But the warnings are real annoying\n",
    "import warnings\n",
    "warnings.filterwarnings(\"ignore\")"
   ]
  },
  {
   "cell_type": "code",
   "execution_count": 9,
   "id": "4338f1f7",
   "metadata": {},
   "outputs": [],
   "source": [
    "bgs = ['pinkNoise', 'AudScene', 'Babble8Spkr']\n",
    "snrs = [-9.0, -6.0, -3.0, 0.0, 3.0]"
   ]
  },
  {
   "cell_type": "markdown",
   "id": "d4aa2d9c",
   "metadata": {},
   "source": [
    "# By splitting trial type"
   ]
  },
  {
   "cell_type": "code",
   "execution_count": 10,
   "id": "28a0199d",
   "metadata": {},
   "outputs": [],
   "source": [
    "import datetime"
   ]
  },
  {
   "cell_type": "code",
   "execution_count": 11,
   "id": "20af43ed",
   "metadata": {},
   "outputs": [],
   "source": [
    "import pathlib"
   ]
  },
  {
   "cell_type": "code",
   "execution_count": null,
   "id": "ba6bea2e",
   "metadata": {},
   "outputs": [],
   "source": [
    "data = {}\n",
    "data['Accuracy'] = []\n",
    "data['Relative Accuracy'] = []\n",
    "\n",
    "# Shared by hyperparam set\n",
    "data['Timesteps'] = []\n",
    "data['SNR'] = []\n",
    "data['BG'] = []\n",
    "data['TF File'] = []\n",
    "\n",
    "# Splits\n",
    "data['FF Correct'] = []\n",
    "data['Clean Correct'] = []\n",
    "\n",
    "for bg in bgs:\n",
    "    for snr in snrs:\n",
    "        activ_dir = f'{activations_dir}{bg}_snr{int(snr)}/'\n",
    "        for results_file in os.listdir(activ_dir):\n",
    "            results_filepath = f'{activ_dir}{results_file}'\n",
    "            \n",
    "            birthtime = pathlib.Path(results_filepath).stat().st_ctime\n",
    "            creation_month = datetime.datetime.fromtimestamp(birthtime).month\n",
    "            #if creation_month != 8: continue\n",
    "                \n",
    "            results = h5py.File(results_filepath, 'r')\n",
    "            timesteps, accs, rel_accs, ff_corrects, clean_corrects = eval_accuracy(results)\n",
    "            accs *= 100\n",
    "            rel_accs *= 100\n",
    "\n",
    "            # Collect accuracy results by labels\n",
    "            for ff_acc in [True, False]:\n",
    "                for clean_acc in [True, False]:\n",
    "                    for t in [0, 1, 2, 3, 4]:\n",
    "                        idxs = np.logical_and(np.logical_and(\n",
    "                            timesteps==t, ff_corrects==ff_acc),\n",
    "                            clean_corrects==clean_acc\n",
    "                            )\n",
    "                        data['Accuracy'].append(np.mean(accs[idxs]))\n",
    "                        data['Relative Accuracy'].append(np.mean(rel_accs[idxs]))\n",
    "                        data['Timesteps'].append(t)\n",
    "                        data['SNR'].append(snr)\n",
    "                        data['BG'].append(bg)\n",
    "                        data['TF File'].append(results_file.split('.hdf5')[0])\n",
    "                        data['FF Correct'].append(ff_acc)\n",
    "                        data['Clean Correct'].append(clean_acc)\n",
    "df_split = pd.DataFrame(data)"
   ]
  },
  {
   "cell_type": "code",
   "execution_count": null,
   "id": "50494408",
   "metadata": {},
   "outputs": [],
   "source": [
    "np.mean(\n",
    "    df_split['Relative Accuracy'][\n",
    "        (df_split['FF Correct']==True)\n",
    "        ]\n",
    "    )"
   ]
  },
  {
   "cell_type": "code",
   "execution_count": null,
   "id": "c3ff9886",
   "metadata": {},
   "outputs": [],
   "source": [
    "np.mean(\n",
    "    df_split['Relative Accuracy'][\n",
    "        (df_split['FF Correct']==True) & (df_split['Clean Correct']==False)\n",
    "        ]\n",
    "    )"
   ]
  },
  {
   "cell_type": "code",
   "execution_count": null,
   "id": "7ff4ae12",
   "metadata": {},
   "outputs": [],
   "source": [
    "np.mean(\n",
    "    df_split['Relative Accuracy'][\n",
    "        (df_split['FF Correct']==False) & (df_split['Clean Correct']==False)\n",
    "        ]\n",
    "    )"
   ]
  },
  {
   "cell_type": "code",
   "execution_count": null,
   "id": "36fbc5e1",
   "metadata": {},
   "outputs": [],
   "source": [
    "np.mean(\n",
    "    df_split['Relative Accuracy'][\n",
    "        (df_split['FF Correct']==True) & (df_split['Clean Correct']==True)\n",
    "        ]\n",
    "    )"
   ]
  },
  {
   "cell_type": "code",
   "execution_count": null,
   "id": "51dc5a59",
   "metadata": {},
   "outputs": [],
   "source": [
    "np.mean(\n",
    "    df_split['Relative Accuracy'][\n",
    "        (df_split['FF Correct']==False) & (df_split['Clean Correct']==True)\n",
    "        ]\n",
    "    )"
   ]
  },
  {
   "cell_type": "markdown",
   "id": "ba691c0d",
   "metadata": {},
   "source": [
    "# All"
   ]
  },
  {
   "cell_type": "code",
   "execution_count": 12,
   "id": "09251bee",
   "metadata": {},
   "outputs": [],
   "source": [
    "data = {}\n",
    "data['Accuracy'] = []\n",
    "data['Relative Accuracy'] = []\n",
    "\n",
    "# Shared by hyperparam set\n",
    "data['Timesteps'] = []\n",
    "data['SNR'] = []\n",
    "data['BG'] = []\n",
    "\n",
    "for bg in bgs:\n",
    "    for snr in snrs:\n",
    "        activ_dir = f'{activations_dir}{bg}_snr{int(snr)}/'\n",
    "        for results_file in os.listdir(activ_dir):\n",
    "            results_filepath = f'{activ_dir}{results_file}'\n",
    "#             birthtime = pathlib.Path(results_filepath).stat().st_ctime\n",
    "#             creation_month = datetime.datetime.fromtimestamp(birthtime).month\n",
    "#             if creation_month != 8: continue\n",
    "            try:\n",
    "                results = h5py.File(results_filepath, 'r')\n",
    "            except:\n",
    "                print(results_filepath)\n",
    "                continue\n",
    "            timesteps, accs, rel_accs, ff_corrects, clean_corrects = eval_accuracy(results)\n",
    "            accs *= 100\n",
    "            rel_accs *= 100\n",
    "\n",
    "            # Collect accuracy results by labels\n",
    "            for t in [0, 1, 2, 3, 4]:\n",
    "                idxs = timesteps==t\n",
    "                rel_acc = np.mean(rel_accs[idxs])\n",
    "                data['Accuracy'].append(np.mean(accs[idxs]))\n",
    "                data['Relative Accuracy'].append(rel_acc)\n",
    "                data['Timesteps'].append(t)\n",
    "                data['SNR'].append(snr)\n",
    "                data['BG'].append(bg)\n",
    "df = pd.DataFrame(data)\n",
    "\n",
    "bg_avgs = {}\n",
    "for bg in np.unique(df['BG']):\n",
    "    bg_avgs[bg] = {}\n",
    "    for snr in np.unique(df['SNR']):\n",
    "        bg_avgs[bg][snr] = np.mean(\n",
    "            df[(df['BG'] == bg) & (df['SNR'] ==snr)]['Accuracy']\n",
    "            )\n",
    "data['Relative Accuracy (BG Corrected)'] = []\n",
    "for idx in range(len(data['Accuracy'])):\n",
    "    bg = data['BG'][idx]\n",
    "    snr = data['SNR'][idx]\n",
    "    rel_acc = data['Relative Accuracy'][idx]\n",
    "    data['Relative Accuracy (BG Corrected)'].append(\n",
    "        rel_acc/bg_avgs[bg][snr]\n",
    "        )\n",
    "df = pd.DataFrame(data)"
   ]
  },
  {
   "cell_type": "markdown",
   "id": "e1e32492",
   "metadata": {},
   "source": [
    "# Collapsed across BG"
   ]
  },
  {
   "cell_type": "code",
   "execution_count": 13,
   "id": "147c13a7",
   "metadata": {},
   "outputs": [
    {
     "data": {
      "image/png": "[encoded data removed]",
      "text/plain": [
       "<Figure size 460.8x276.48 with 1 Axes>"
      ]
     },
     "metadata": {
      "needs_background": "light"
     },
     "output_type": "display_data"
    }
   ],
   "source": [
    "from scipy.stats import sem\n",
    "import matplotlib.cm as cm\n",
    "# width of the bars\n",
    "barWidth = 0.18\n",
    "x1 = np.arange(5) - barWidth*5/2\n",
    "colors = cm.get_cmap('Blues')(np.linspace(0.3, 0.85, 4))\n",
    "fig, ax = plt.subplots(figsize=(6.4, 4.8*0.8))\n",
    "\n",
    "for snr_i, snr in enumerate(np.unique(df['SNR'])):\n",
    "    for t in [1, 2, 3, 4]:\n",
    "        vals = df[(df['SNR']==snr) & (df['Timesteps']==t)]\n",
    "        vals = vals['Relative Accuracy (BG Corrected)']\n",
    "        vals = np.array(vals)\n",
    "        avg = np.max(vals)\n",
    "        err = sem(vals)\n",
    "        plt.bar(\n",
    "            x1[snr_i] + barWidth*t, avg,\n",
    "            width=barWidth, color=colors[t-1],\n",
    "            label=t)\n",
    "plt.xticks([0,1,2,3,4], [-9, -6, -3, 0, 3])\n",
    "plt.ylabel('Max Proportional $\\Delta$\\nfrom FF Avg')\n",
    "plt.xlabel('SNR')\n",
    "plt.savefig('../figures/max_acc_by_snr.svg', dpi=300)\n",
    "plt.show()"
   ]
  },
  {
   "cell_type": "code",
   "execution_count": 14,
   "id": "8a01a643",
   "metadata": {
    "scrolled": true
   },
   "outputs": [
    {
     "data": {
      "image/png": "[encoded data removed]",
      "text/plain": [
       "<Figure size 460.8x276.48 with 1 Axes>"
      ]
     },
     "metadata": {
      "needs_background": "light"
     },
     "output_type": "display_data"
    }
   ],
   "source": [
    "from scipy.stats import sem\n",
    "import matplotlib.cm as cm\n",
    "# width of the bars\n",
    "barWidth = 0.18\n",
    "x1 = np.arange(5) - barWidth*5/2\n",
    "colors = cm.get_cmap('Blues')(np.linspace(0.3, 0.85, 4))\n",
    "fig, ax = plt.subplots(figsize=(6.4, 4.8*0.8))\n",
    "#fig, ax = plt.subplots(figsize=(2.5*1.5, 1.75*1.5))\n",
    "\n",
    "for snr_i, snr in enumerate(np.unique(df['SNR'])):\n",
    "    for t in [1, 2, 3, 4]:\n",
    "        vals = df[(df['SNR']==snr) & (df['Timesteps']==t)]\n",
    "        vals = vals['Relative Accuracy (BG Corrected)']\n",
    "        vals = np.array(vals)\n",
    "        avg = np.mean(vals)\n",
    "        err = sem(vals)\n",
    "        plt.bar(\n",
    "            x1[snr_i] + barWidth*t, avg,\n",
    "            width=barWidth, color=colors[t-1],\n",
    "            yerr=err, capsize=0, label=t)\n",
    "plt.xticks([0,1,2,3,4], [-9, -6, -3, 0, 3])\n",
    "plt.ylabel('Ratio Accuracy $\\Delta$\\nfrom FF Avg')\n",
    "plt.xlabel('SNR')\n",
    "plt.axhline(0, color='lightgray')\n",
    "plt.tight_layout()\n",
    "plt.savefig('../figures/mean_acc_by_snr.svg', dpi=300)\n",
    "plt.show()"
   ]
  },
  {
   "cell_type": "code",
   "execution_count": 15,
   "id": "ba3a1b56",
   "metadata": {
    "scrolled": true
   },
   "outputs": [
    {
     "data": {
      "image/png": "[encoded data removed]",
      "text/plain": [
       "<Figure size 460.8x276.48 with 1 Axes>"
      ]
     },
     "metadata": {
      "needs_background": "light"
     },
     "output_type": "display_data"
    }
   ],
   "source": [
    "from scipy.stats import sem\n",
    "import matplotlib.cm as cm\n",
    "# width of the bars\n",
    "barWidth = 0.18\n",
    "x1 = np.arange(5) - barWidth*5/2\n",
    "colors = cm.get_cmap('Blues')(np.linspace(0.3, 0.85, 4))\n",
    "fig, ax = plt.subplots(figsize=(6.4, 4.8*0.8))\n",
    "\n",
    "for snr_i, snr in enumerate(np.unique(df['SNR'])):\n",
    "    for t in [1, 2, 3, 4]:\n",
    "        vals = df[(df['SNR']==snr) & (df['Timesteps']==t)]\n",
    "        vals = vals['Relative Accuracy']\n",
    "        vals = np.array(vals)\n",
    "        avg = np.mean(vals)\n",
    "        err = sem(vals)\n",
    "        plt.bar(\n",
    "            x1[snr_i] + barWidth*t, avg,\n",
    "            width=barWidth, color=colors[t-1],\n",
    "            yerr=err, capsize=0, label=t)\n",
    "plt.xticks([0,1,2,3,4], [-9, -6, -3, 0, 3])\n",
    "plt.ylabel('Accuracy Change\\nfrom FF (%)')\n",
    "plt.xlabel('SNR')\n",
    "plt.show()"
   ]
  },
  {
   "cell_type": "code",
   "execution_count": 16,
   "id": "65f6e46e",
   "metadata": {},
   "outputs": [
    {
     "data": {
      "image/png": "[encoded data removed]",
      "text/plain": [
       "<Figure size 432x288 with 1 Axes>"
      ]
     },
     "metadata": {
      "needs_background": "light"
     },
     "output_type": "display_data"
    }
   ],
   "source": [
    "g = sns.barplot(\n",
    "    x='SNR', y='Accuracy', hue='Timesteps',\n",
    "    data=df, palette=\"Blues\"\n",
    "    )\n",
    "plt.ylabel('Accuracy Change\\nfrom FF (%)')\n",
    "plt.axhline(0, color='gray')\n",
    "plt.xticks([0, 1, 2, 3, 4])\n",
    "plt.savefig('acc.svg', dpi=300)\n",
    "plt.show(g)"
   ]
  },
  {
   "cell_type": "markdown",
   "id": "2ddc1d55",
   "metadata": {},
   "source": [
    "# Collapsed across SNR"
   ]
  },
  {
   "cell_type": "code",
   "execution_count": 17,
   "id": "7b41f6bb",
   "metadata": {},
   "outputs": [
    {
     "data": {
      "image/png": "[encoded data removed]",
      "text/plain": [
       "<Figure size 460.8x276.48 with 1 Axes>"
      ]
     },
     "metadata": {
      "needs_background": "light"
     },
     "output_type": "display_data"
    }
   ],
   "source": [
    "from scipy.stats import sem\n",
    "import matplotlib.cm as cm\n",
    "# width of the bars\n",
    "barWidth = 0.18\n",
    "x1 = np.arange(5) - barWidth*5/2\n",
    "colors = cm.get_cmap('Blues')(np.linspace(0.3, 0.85, 4))\n",
    "fig, ax = plt.subplots(figsize=(6.4, 4.8*0.8))\n",
    "\n",
    "for bg_i, bg in enumerate(['Babble8Spkr', 'AudScene', 'pinkNoise']):\n",
    "    for t in [1, 2, 3, 4]:\n",
    "        vals = df[(df['BG']==bg) & (df['Timesteps']==t)]['Relative Accuracy (BG Corrected)']\n",
    "        vals = np.array(vals)\n",
    "        rel_avg = np.max(vals)\n",
    "        err = sem(vals)\n",
    "        plt.bar(\n",
    "            x1[bg_i] + barWidth*t, rel_avg,\n",
    "            width=barWidth, color=colors[t-1],\n",
    "            label=t)\n",
    "plt.xticks(\n",
    "    [0, 1, 2],\n",
    "    ['8-Speaker\\nBabble', 'Auditory\\nScene', 'Pink Noise']\n",
    "    )\n",
    "plt.ylabel('Max Proportional $\\Delta$')\n",
    "plt.savefig('../figures/max_acc_by_bg.svg', dpi=300)\n",
    "plt.show()"
   ]
  },
  {
   "cell_type": "code",
   "execution_count": 18,
   "id": "54b872f9",
   "metadata": {},
   "outputs": [
    {
     "data": {
      "image/png": "[encoded data removed]",
      "text/plain": [
       "<Figure size 460.8x276.48 with 1 Axes>"
      ]
     },
     "metadata": {
      "needs_background": "light"
     },
     "output_type": "display_data"
    }
   ],
   "source": [
    "from scipy.stats import sem\n",
    "import matplotlib.cm as cm\n",
    "# width of the bars\n",
    "barWidth = 0.18\n",
    "x1 = np.arange(5) - barWidth*5/2\n",
    "colors = cm.get_cmap('Blues')(np.linspace(0.3, 0.85, 4))\n",
    "fig, ax = plt.subplots(figsize=(6.4, 4.8*0.8))\n",
    "\n",
    "for bg_i, bg in enumerate(['Babble8Spkr', 'AudScene', 'pinkNoise']):\n",
    "    for t in [1, 2, 3, 4]:\n",
    "        vals = df[(df['BG']==bg) & (df['Timesteps']==t)]['Relative Accuracy (BG Corrected)']\n",
    "        vals = np.array(vals)\n",
    "        rel_avg = np.mean(vals)\n",
    "        err = sem(vals)\n",
    "        plt.bar(\n",
    "            x1[bg_i] + barWidth*t, rel_avg,\n",
    "            width=barWidth, color=colors[t-1],\n",
    "            yerr=err, capsize=0, label=t)\n",
    "plt.xticks(\n",
    "    [0, 1, 2],\n",
    "    ['8-Speaker\\nBabble', 'Auditory\\nScene', 'Pink Noise']\n",
    "    )\n",
    "plt.ylabel('Proportional Change')\n",
    "plt.axhline(0, color='lightgray')\n",
    "plt.ylim(-0.02, 0.05)\n",
    "plt.tight_layout()\n",
    "plt.savefig('../figures/mean_acc_by_bg.svg', dpi=300)\n",
    "plt.show()"
   ]
  },
  {
   "cell_type": "code",
   "execution_count": 19,
   "id": "c2c9aa17",
   "metadata": {},
   "outputs": [
    {
     "data": {
      "image/png": "[encoded data removed]",
      "text/plain": [
       "<Figure size 460.8x276.48 with 1 Axes>"
      ]
     },
     "metadata": {
      "needs_background": "light"
     },
     "output_type": "display_data"
    }
   ],
   "source": [
    "from scipy.stats import sem\n",
    "import matplotlib.cm as cm\n",
    "# width of the bars\n",
    "barWidth = 0.18\n",
    "x1 = np.arange(5) - barWidth*5/2\n",
    "colors = cm.get_cmap('Blues')(np.linspace(0.3, 0.85, 4))\n",
    "fig, ax = plt.subplots(figsize=(6.4, 4.8*0.8))\n",
    "\n",
    "for bg_i, bg in enumerate(['Babble8Spkr', 'AudScene', 'pinkNoise']):\n",
    "    for t in [1, 2, 3, 4]:\n",
    "        vals = df[(df['BG']==bg) & (df['Timesteps']==t)]['Accuracy']\n",
    "        vals = np.array(vals)\n",
    "        rel_avg = np.mean(vals)\n",
    "        err = sem(vals)\n",
    "        plt.bar(\n",
    "            x1[bg_i] + barWidth*t, rel_avg,\n",
    "            width=barWidth, color=colors[t-1],\n",
    "            yerr=err, capsize=0, label=t)\n",
    "plt.xticks(\n",
    "    [0, 1, 2],\n",
    "    ['8-Speaker\\nBabble', 'Auditory\\nScene', 'Pink Noise']\n",
    "    )\n",
    "plt.ylabel('Proportional Change')\n",
    "plt.show()"
   ]
  },
  {
   "cell_type": "code",
   "execution_count": 20,
   "id": "59ca55c0",
   "metadata": {},
   "outputs": [
    {
     "data": {
      "image/png": "[encoded data removed]",
      "text/plain": [
       "<Figure size 460.8x276.48 with 1 Axes>"
      ]
     },
     "metadata": {
      "needs_background": "light"
     },
     "output_type": "display_data"
    }
   ],
   "source": [
    "from scipy.stats import sem\n",
    "import matplotlib.cm as cm\n",
    "# width of the bars\n",
    "barWidth = 0.18\n",
    "x1 = np.arange(5) - barWidth*5/2\n",
    "colors = cm.get_cmap('Blues')(np.linspace(0.3, 0.85, 4))\n",
    "fig, ax = plt.subplots(figsize=(6.4, 4.8*0.8))\n",
    "\n",
    "for bg_i, bg in enumerate(['Babble8Spkr', 'AudScene', 'pinkNoise']):\n",
    "    for t in [1, 2, 3, 4]:\n",
    "        vals = df[(df['BG']==bg) & (df['Timesteps']==t)]['Relative Accuracy']\n",
    "        vals = np.array(vals)\n",
    "        avg = np.mean(vals)\n",
    "        err = sem(vals)\n",
    "        plt.bar(\n",
    "            x1[bg_i] + barWidth*t, avg,\n",
    "            width=barWidth, color=colors[t-1],\n",
    "            yerr=err, capsize=0, label=t)\n",
    "plt.xticks(\n",
    "    [0, 1, 2],\n",
    "    ['8-Speaker\\nBabble', 'Auditory\\nScene', 'Pink Noise']\n",
    "    )\n",
    "plt.yticks([0., 0.5, 1.])\n",
    "plt.ylabel('Accuracy Change\\nfrom FF (%)')\n",
    "plt.show()"
   ]
  },
  {
   "cell_type": "code",
   "execution_count": 21,
   "id": "c5b848b5",
   "metadata": {},
   "outputs": [
    {
     "data": {
      "image/png": "[encoded data removed]",
      "text/plain": [
       "<Figure size 432x288 with 1 Axes>"
      ]
     },
     "metadata": {
      "needs_background": "light"
     },
     "output_type": "display_data"
    }
   ],
   "source": [
    "df = pd.DataFrame(data)\n",
    "g = sns.barplot(\n",
    "    x='BG', y='Accuracy', hue='Timesteps',\n",
    "    data=df, ci=None,\n",
    "    palette=\"Blues\"\n",
    "    )\n",
    "g.legend_.remove()\n",
    "plt.ylabel('Accuracy Change\\nfrom FF (%)')\n",
    "plt.axhline(0, color='gray')\n",
    "plt.savefig('acc.svg', dpi=300)\n",
    "plt.show(g)"
   ]
  },
  {
   "cell_type": "markdown",
   "id": "f8d22bb3",
   "metadata": {},
   "source": [
    "# As percent fold change"
   ]
  },
  {
   "cell_type": "code",
   "execution_count": null,
   "id": "b64a2da6",
   "metadata": {},
   "outputs": [],
   "source": [
    "from ReconstructionTrainingDataset import NoisyDataset"
   ]
  },
  {
   "cell_type": "code",
   "execution_count": null,
   "id": "fe34d110",
   "metadata": {},
   "outputs": [],
   "source": [
    "data2 = {}\n",
    "data2['Timesteps'] = []\n",
    "data2['Accuracy'] = []\n",
    "data2['SNR'] = []\n",
    "data2['BG'] = []\n",
    "for bg in bgs:\n",
    "    for snr in snrs:\n",
    "        dset = NoisyDataset(bg, snr)\n",
    "        results_path = f'{activations_dir}{bg}_snr{int(snr)}.hdf5'\n",
    "        results = h5py.File(results_path, 'r')\n",
    "        timesteps, accs = eval_accuracy(results, dset)\n",
    "        data2['Timesteps'].extend(timesteps)\n",
    "        data2['Accuracy'].extend([x*100 for x in accs])\n",
    "        data2['SNR'].extend([snr]*len(accs))\n",
    "        data2['BG'].extend([bg]*len(accs))"
   ]
  },
  {
   "cell_type": "code",
   "execution_count": null,
   "id": "89aa992d",
   "metadata": {},
   "outputs": [],
   "source": [
    "df = pd.DataFrame(data2)\n",
    "df = df[df['SNR']==-9.]\n",
    "df2 = {}\n",
    "df2['Accuracy'] = []\n",
    "df2['BG'] = []\n",
    "df2['Timestep'] = []\n",
    "for bg in np.unique(df['BG']):\n",
    "    avg = np.mean(df[(df['BG']==bg) & (df['Timesteps']==0)]['Accuracy'])\n",
    "    for t in np.unique(df['Timesteps']):\n",
    "        val = np.mean(df[(df['BG']==bg) & (df['Timesteps']==t)]['Accuracy'])\n",
    "        norm_val = val/avg\n",
    "        df2['Accuracy'].append(norm_val)\n",
    "        df2['BG'].append(bg)\n",
    "        df2['Timestep'].append(t)\n",
    "df2 = pd.DataFrame(df2) \n",
    "g = sns.barplot(\n",
    "    x='BG', y='Accuracy', hue='Timestep',\n",
    "    data=df2, ci=None,\n",
    "    palette=\"Blues\"\n",
    "    )\n",
    "g.legend_.remove()\n",
    "plt.ylabel('Fold Change\\nfrom FF')\n",
    "plt.axhline(0, color='gray')\n",
    "plt.savefig('acc.svg', dpi=300)\n",
    "plt.show(g)"
   ]
  },
  {
   "cell_type": "markdown",
   "id": "8e9bb334",
   "metadata": {},
   "source": [
    "# FF Incorrect, Clean Correct"
   ]
  },
  {
   "cell_type": "code",
   "execution_count": null,
   "id": "5b1b1235",
   "metadata": {},
   "outputs": [],
   "source": [
    "for bg in bgs:\n",
    "    data = {}\n",
    "    data['Timesteps'] = []\n",
    "    data['Accuracy'] = []\n",
    "    data['SNR'] = []\n",
    "    for snr in snrs:\n",
    "        dset = NoisyDataset(bg, snr)\n",
    "        results_path = f'{activations_dir}{bg}_snr{int(snr)}.hdf5'\n",
    "        results = h5py.File(results_path, 'r')\n",
    "        timesteps, accs = eval_accuracy(\n",
    "            results, dset, ff_correct=False, clean_correct=True\n",
    "            )\n",
    "        data['Timesteps'].extend(timesteps)\n",
    "        data['Accuracy'].extend(accs)\n",
    "        data['SNR'].extend([snr]*len(accs))\n",
    "    df = pd.DataFrame(data)\n",
    "    g = sns.lineplot(x='Timesteps', y='Accuracy', hue='SNR', data=df)\n",
    "    plt.title(f'{bg}')\n",
    "    plt.xticks([0, 1, 2, 3, 4])\n",
    "    plt.show(g)"
   ]
  },
  {
   "cell_type": "markdown",
   "id": "1d92bf06",
   "metadata": {},
   "source": [
    "# FF Correct, Clean Correct"
   ]
  },
  {
   "cell_type": "code",
   "execution_count": null,
   "id": "00e0ea9e",
   "metadata": {},
   "outputs": [],
   "source": [
    "for bg in bgs:\n",
    "    data = {}\n",
    "    data['Timesteps'] = []\n",
    "    data['Accuracy'] = []\n",
    "    data['SNR'] = []\n",
    "    for snr in snrs:\n",
    "        dset = NoisyDataset(bg, snr)\n",
    "        results_path = f'{activations_dir}{bg}_snr{int(snr)}.hdf5'\n",
    "        results = h5py.File(results_path, 'r')\n",
    "        timesteps, accs = eval_accuracy(\n",
    "            results, dset, ff_correct=True, clean_correct=True\n",
    "            )\n",
    "        data['Timesteps'].extend(timesteps)\n",
    "        data['Accuracy'].extend(accs)\n",
    "        data['SNR'].extend([snr]*len(accs))\n",
    "    df = pd.DataFrame(data)\n",
    "    g = sns.lineplot(x='Timesteps', y='Accuracy', hue='SNR', data=df)\n",
    "    plt.title(f'{bg}')\n",
    "    plt.xticks([0, 1, 2, 3, 4])\n",
    "    plt.show(g)"
   ]
  },
  {
   "cell_type": "markdown",
   "id": "278cb906",
   "metadata": {},
   "source": [
    "# FF Incorrect, Clean Incorrect"
   ]
  },
  {
   "cell_type": "code",
   "execution_count": null,
   "id": "4bbeccef",
   "metadata": {},
   "outputs": [],
   "source": [
    "for bg in bgs:\n",
    "    data = {}\n",
    "    data['Timesteps'] = []\n",
    "    data['Accuracy'] = []\n",
    "    data['SNR'] = []\n",
    "    for snr in snrs:\n",
    "        dset = NoisyDataset(bg, snr)\n",
    "        results_path = f'{activations_dir}{bg}_snr{int(snr)}.hdf5'\n",
    "        results = h5py.File(results_path, 'r')\n",
    "        timesteps, accs = eval_accuracy(\n",
    "            results, dset, ff_correct=False, clean_correct=False\n",
    "            )\n",
    "        data['Timesteps'].extend(timesteps)\n",
    "        data['Accuracy'].extend(accs)\n",
    "        data['SNR'].extend([snr]*len(accs))\n",
    "    df = pd.DataFrame(data)\n",
    "    g = sns.lineplot(x='Timesteps', y='Accuracy', hue='SNR', data=df)\n",
    "    plt.title(f'{bg}')\n",
    "    plt.xticks([0, 1, 2, 3, 4])\n",
    "    plt.show(g)"
   ]
  },
  {
   "cell_type": "code",
   "execution_count": null,
   "id": "daae202a",
   "metadata": {},
   "outputs": [],
   "source": []
  },
  {
   "cell_type": "code",
   "execution_count": null,
   "id": "9799b571",
   "metadata": {},
   "outputs": [],
   "source": []
  }
 ],
 "metadata": {
  "kernelspec": {
   "display_name": "Python 3 (ipykernel)",
   "language": "python",
   "name": "python3"
  },
  "language_info": {
   "codemirror_mode": {
    "name": "ipython",
    "version": 3
   },
   "file_extension": ".py",
   "mimetype": "text/x-python",
   "name": "python",
   "nbconvert_exporter": "python",
   "pygments_lexer": "ipython3",
   "version": "3.7.13"
  }
 },
 "nbformat": 4,
 "nbformat_minor": 5
}
