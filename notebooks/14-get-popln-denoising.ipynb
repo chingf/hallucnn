{
 "cells": [
  {
   "cell_type": "code",
   "execution_count": 1,
   "id": "75b3aa76",
   "metadata": {},
   "outputs": [],
   "source": [
    "import os\n",
    "import sys\n",
    "import numpy as np\n",
    "import matplotlib.pyplot as plt\n",
    "import pickle\n",
    "import h5py\n",
    "import seaborn as sns\n",
    "import pandas as pd\n",
    "from scipy.stats import pearsonr\n",
    "import configs\n",
    "\n",
    "import torch\n",
    "from torch.utils.tensorboard import SummaryWriter\n",
    "from torch.utils.data import DataLoader\n",
    "from torch.utils.data import Subset\n",
    "\n",
    "from predify.utils.training import train_pcoders, eval_pcoders\n",
    "\n",
    "from models.networks_2022 import BranchedNetwork\n",
    "from data.CleanSoundsDataset import CleanSoundsDataset"
   ]
  },
  {
   "cell_type": "markdown",
   "id": "440077cd",
   "metadata": {},
   "source": [
    "# Parameters"
   ]
  },
  {
   "cell_type": "code",
   "execution_count": 2,
   "id": "359c8f6d",
   "metadata": {},
   "outputs": [],
   "source": [
    "engram_dir = '/mnt/smb/locker/abbott-locker/hcnn/'\n",
    "checkpoints_dir = f'{engram_dir}checkpoints/'\n",
    "tensorboard_dir = f'{engram_dir}tensorboard/'\n",
    "activations_dir = f'{engram_dir}activations_pnet_all/'\n",
    "pickles_dir = f'{engram_dir}pickles/'"
   ]
  },
  {
   "cell_type": "code",
   "execution_count": 3,
   "id": "edcaf786",
   "metadata": {},
   "outputs": [
    {
     "name": "stdout",
     "output_type": "stream",
     "text": [
      "Device: cpu\n"
     ]
    }
   ],
   "source": [
    "DEVICE = 'cuda:0' if torch.cuda.is_available() else 'cpu'\n",
    "print(f'Device: {DEVICE}')"
   ]
  },
  {
   "cell_type": "markdown",
   "id": "70729386",
   "metadata": {},
   "source": [
    "# Save correlations with shuffles/mean-subtraction"
   ]
  },
  {
   "cell_type": "code",
   "execution_count": 4,
   "id": "2fe9c1e5",
   "metadata": {},
   "outputs": [],
   "source": [
    "file_prefix = 'repr_pearsonr'\n",
    "shuff_file_prefix = 'shuffle_pearsonr'\n",
    "bgs = ['pinkNoise', 'AudScene', 'Babble8Spkr']\n",
    "snrs = [-9.0, -6.0, -3.0, 0.0, 3.0]"
   ]
  },
  {
   "cell_type": "code",
   "execution_count": 5,
   "id": "57d22187",
   "metadata": {},
   "outputs": [],
   "source": [
    "layers = ['conv1', 'conv2', 'conv3', 'conv4_W', 'conv5_W']"
   ]
  },
  {
   "cell_type": "code",
   "execution_count": 6,
   "id": "706c1f51",
   "metadata": {},
   "outputs": [
    {
     "name": "stdout",
     "output_type": "stream",
     "text": [
      "pinkNoise, SNR -9.0\n",
      "pinkNoise, SNR -6.0\n",
      "pinkNoise, SNR -3.0\n",
      "pinkNoise, SNR 0.0\n",
      "pinkNoise, SNR 3.0\n",
      "AudScene, SNR -9.0\n",
      "AudScene, SNR -6.0\n",
      "AudScene, SNR -3.0\n",
      "AudScene, SNR 0.0\n",
      "AudScene, SNR 3.0\n",
      "Babble8Spkr, SNR -9.0\n",
      "Babble8Spkr, SNR -6.0\n",
      "Babble8Spkr, SNR -3.0\n",
      "Babble8Spkr, SNR 0.0\n",
      "Babble8Spkr, SNR 3.0\n"
     ]
    }
   ],
   "source": [
    "popln = {}\n",
    "popln['corr'] = []\n",
    "popln['corr_norm'] = []\n",
    "popln['corr_mean_sub'] = []\n",
    "popln['corr_norm_mean_sub'] = []\n",
    "popln['timestep'] = []\n",
    "popln['layer'] = []\n",
    "popln['bg'] = []\n",
    "popln['snr'] = []\n",
    "\n",
    "for bg in bgs:\n",
    "    for snr in snrs:\n",
    "        print(f'{bg}, SNR {snr}')        \n",
    "        with open(f'{pickles_dir}{file_prefix}_{bg}_snr{snr}.p', 'rb') as f:\n",
    "            results = pickle.load(f)\n",
    "            \n",
    "        # Load layer shuffle results\n",
    "        with open(f'{pickles_dir}{shuff_file_prefix}_{bg}_snr{snr}.p', 'rb') as f:\n",
    "            shuff_results = pickle.load(f)\n",
    "        \n",
    "        popln_shuff = {}\n",
    "        for l in layers:\n",
    "            popln_shuff[l] = np.nanmean(np.array(\n",
    "                shuff_results['popln_shuffle'])[\n",
    "                np.array(shuff_results['popln_layer'])==l\n",
    "                ])\n",
    "            \n",
    "        # Calculate popln normalized and un-normalized correlations\n",
    "        for i in range(len(results['popln_layer'])):\n",
    "            layer = results['popln_layer'][i]\n",
    "            if layer not in layers: continue\n",
    "            corr = results['popln_shuffle'][i]\n",
    "            corr_norm = corr/popln_shuff[layer]\n",
    "            popln['corr'].append(corr)\n",
    "            popln['corr_norm'].append(corr_norm)\n",
    "            popln['timestep'].append(results['popln_timestep'][i])\n",
    "            popln['layer'].append(layer)\n",
    "            popln['bg'].append(bg)\n",
    "            popln['snr'].append(snr)\n",
    "        \n",
    "# Calculate popln mean subtractions\n",
    "popln_mean = {}\n",
    "popln_norm_mean = {}\n",
    "for l in layers:\n",
    "    popln_mean[l] = np.nanmean(np.array(\n",
    "        popln['corr'])[np.logical_and(\n",
    "        np.array(popln['layer'])==l,\n",
    "        np.array(popln['timestep'])==0\n",
    "        )])\n",
    "    popln_norm_mean[l] = np.nanmean(np.array(\n",
    "        popln['corr_norm'])[np.logical_and(\n",
    "        np.array(popln['layer'])==l,\n",
    "        np.array(popln['timestep'])==0\n",
    "        )])\n",
    "\n",
    "for corr, corr_norm, layer in zip(popln['corr'], popln['corr_norm'], popln['layer']):\n",
    "    popln['corr_mean_sub'].append(corr - popln_mean[layer])\n",
    "    popln['corr_norm_mean_sub'].append(corr_norm - popln_norm_mean[layer])"
   ]
  },
  {
   "cell_type": "code",
   "execution_count": 7,
   "id": "307fb691",
   "metadata": {},
   "outputs": [],
   "source": [
    "with open(f'{pickles_dir}{file_prefix}_popln_collected.p', 'wb') as f:\n",
    "    pickle.dump(popln, f)"
   ]
  },
  {
   "cell_type": "code",
   "execution_count": null,
   "id": "8bfc431f",
   "metadata": {},
   "outputs": [],
   "source": []
  }
 ],
 "metadata": {
  "kernelspec": {
   "display_name": "Python 3 (ipykernel)",
   "language": "python",
   "name": "python3"
  },
  "language_info": {
   "codemirror_mode": {
    "name": "ipython",
    "version": 3
   },
   "file_extension": ".py",
   "mimetype": "text/x-python",
   "name": "python",
   "nbconvert_exporter": "python",
   "pygments_lexer": "ipython3",
   "version": "3.7.13"
  }
 },
 "nbformat": 4,
 "nbformat_minor": 5
}
