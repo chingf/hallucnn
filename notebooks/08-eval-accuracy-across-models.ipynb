{
 "cells": [
  {
   "cell_type": "code",
   "execution_count": 1,
   "metadata": {},
   "outputs": [],
   "source": [
    "import os\n",
    "import sys\n",
    "import numpy as np\n",
    "import h5py\n",
    "import matplotlib.pyplot as plt\n",
    "import pandas as pd\n",
    "import pickle\n",
    "import seaborn as sns\n",
    "import datetime\n",
    "from scipy.stats import sem\n",
    "import matplotlib.cm as cm\n",
    "import pathlib\n",
    "import traceback\n",
    "import configs\n",
    "\n",
    "import torch\n",
    "from torch.utils.tensorboard import SummaryWriter\n",
    "from torch.utils.data import DataLoader\n",
    "from torch.utils.data import Subset\n",
    "from predify.utils.training import train_pcoders, eval_pcoders\n",
    "\n",
    "from models.networks_2022 import BranchedNetwork"
   ]
  },
  {
   "cell_type": "code",
   "execution_count": 2,
   "metadata": {},
   "outputs": [],
   "source": [
    "plt.rcParams['font.family'] = 'sans-serif'"
   ]
  },
  {
   "cell_type": "code",
   "execution_count": 3,
   "metadata": {},
   "outputs": [],
   "source": [
    "# This is bad practice! But the warnings are real annoying\n",
    "import warnings\n",
    "warnings.filterwarnings(\"ignore\")"
   ]
  },
  {
   "cell_type": "markdown",
   "metadata": {},
   "source": [
    "# Parameters"
   ]
  },
  {
   "cell_type": "code",
   "execution_count": 4,
   "metadata": {},
   "outputs": [],
   "source": [
    "engram_dir = '/mnt/smb/locker/abbott-locker/hcnn/'\n",
    "checkpoints_dir = f'{engram_dir}1_checkpoints/'\n",
    "tensorboard_dir = f'{engram_dir}1_tensorboard/'\n",
    "activations_dir = f'{engram_dir}3_activations/'"
   ]
  },
  {
   "cell_type": "code",
   "execution_count": 5,
   "metadata": {},
   "outputs": [],
   "source": [
    "models = ['pnet_merged', 'pnet_freq_shuffle', 'pnet_temp_shuffle']\n",
    "model_names = ['Main', 'Freq. Shuffled', 'Temp. Shuffled']"
   ]
  },
  {
   "cell_type": "code",
   "execution_count": 6,
   "metadata": {},
   "outputs": [
    {
     "name": "stdout",
     "output_type": "stream",
     "text": [
      "Device: cuda:0\n"
     ]
    }
   ],
   "source": [
    "DEVICE = 'cuda:0' if torch.cuda.is_available() else 'cpu'\n",
    "print(f'Device: {DEVICE}')"
   ]
  },
  {
   "cell_type": "markdown",
   "metadata": {},
   "source": [
    "# Helper functions"
   ]
  },
  {
   "cell_type": "code",
   "execution_count": 7,
   "metadata": {},
   "outputs": [],
   "source": [
    "def get_accuracy(results):\n",
    "    labels = np.array(results['label'])\n",
    "    timesteps = []\n",
    "    accuracies = [] # p\n",
    "    delta_accuracies = [] # p - p_ff\n",
    "    \n",
    "    n_timesteps = 5\n",
    "    for i in range(labels.size):\n",
    "        label = labels[i]\n",
    "        ff_acc = None\n",
    "        for t in range(n_timesteps):\n",
    "            output = results[f'{t}_output'][i]\n",
    "            acc_t = (output == label).astype(float)\n",
    "            if t == 0:\n",
    "                ff_acc = acc_t\n",
    "            timesteps.append(t)\n",
    "            accuracies.append(acc_t)\n",
    "            delta_accuracies.append(acc_t - ff_acc)\n",
    "\n",
    "    timesteps = np.array(timesteps)\n",
    "    accuracies = np.array(accuracies)\n",
    "    delta_accuracies = np.array(delta_accuracies)\n",
    "            \n",
    "    return timesteps, accuracies, delta_accuracies"
   ]
  },
  {
   "cell_type": "code",
   "execution_count": 8,
   "metadata": {},
   "outputs": [],
   "source": [
    "def get_data(model):\n",
    "    data = {}\n",
    "    data['Accuracy'] = [] # p\n",
    "    data['$\\Delta$ Accuracy'] = [] # p - p_ff for each bg, snr\n",
    "    data['Timesteps'] = []\n",
    "    data['SNR'] = []\n",
    "    data['BG'] = []\n",
    "    data['ID'] = []\n",
    "\n",
    "    for bg in bgs:\n",
    "        for snr in snrs:\n",
    "            activ_dir = f'{activations_dir}{model}/{bg}_snr{int(snr)}/'\n",
    "            for results_file in os.listdir(activ_dir):\n",
    "                results_filepath = f'{activ_dir}{results_file}'\n",
    "                try:\n",
    "                    results = h5py.File(results_filepath, 'r')\n",
    "                except:\n",
    "                    print(results_filepath)\n",
    "                    traceback.print_exc()\n",
    "                    continue\n",
    "                timesteps, accs, delta_accs = get_accuracy(results)\n",
    "\n",
    "                # Collect accuracy results by labels\n",
    "                for t in [0, 1, 2, 3, 4]:\n",
    "                    idxs = timesteps==t\n",
    "                    data['Accuracy'].append(np.mean(accs[idxs]))\n",
    "                    data['$\\Delta$ Accuracy'].append(np.mean(delta_accs[idxs]))\n",
    "                    data['Timesteps'].append(t)\n",
    "                    data['SNR'].append(snr)\n",
    "                    data['BG'].append(bg)\n",
    "                    data['ID'].append(results_file)\n",
    "    df = pd.DataFrame(data)\n",
    "\n",
    "    bg_avgs = {}\n",
    "    for bg in np.unique(df['BG']):\n",
    "        bg_avgs[bg] = {}\n",
    "        for snr in np.unique(df['SNR']):\n",
    "            ff_df = df[df['Timesteps']==0]\n",
    "            bg_avgs[bg][snr] = np.mean(\n",
    "                ff_df[(ff_df['BG'] == bg) & (ff_df['SNR'] ==snr)]['Accuracy']\n",
    "                )\n",
    "    data['Relative Accuracy'] = [] # (p - p_ff)/p_ff\n",
    "    for idx in range(len(data['Accuracy'])):\n",
    "        bg = data['BG'][idx]\n",
    "        snr = data['SNR'][idx]\n",
    "        delta_acc = data['$\\Delta$ Accuracy'][idx]\n",
    "        data['Relative Accuracy'].append(delta_acc/bg_avgs[bg][snr])\n",
    "    df = pd.DataFrame(data)\n",
    "    return df"
   ]
  },
  {
   "cell_type": "markdown",
   "metadata": {},
   "source": [
    "# Plot over SNR"
   ]
  },
  {
   "cell_type": "code",
   "execution_count": 9,
   "metadata": {},
   "outputs": [],
   "source": [
    "bgs = ['pinkNoise', 'AudScene', 'Babble8Spkr']\n",
    "snrs = [-9.0, -6.0, -3.0, 0.0, 3.0]"
   ]
  },
  {
   "cell_type": "code",
   "execution_count": 10,
   "metadata": {},
   "outputs": [],
   "source": [
    "model_dfs = []\n",
    "for model in models:\n",
    "    model_dfs.append(get_data(model))"
   ]
  },
  {
   "cell_type": "code",
   "execution_count": 11,
   "metadata": {},
   "outputs": [
    {
     "data": {
      "image/png": "[encoded data removed]",
      "text/plain": [
       "<Figure size 460.8x276.48 with 1 Axes>"
      ]
     },
     "metadata": {
      "needs_background": "light"
     },
     "output_type": "display_data"
    }
   ],
   "source": [
    "barWidth = 0.2\n",
    "x1 = np.arange(5) - barWidth*1.75/2\n",
    "fig, ax = plt.subplots(figsize=(6.4, 4.8*0.8))\n",
    "colors = ['C0', 'C1', 'C2', 'C3', 'C4']\n",
    "\n",
    "for snr_i, snr in enumerate(np.unique(model_dfs[0]['SNR'])):\n",
    "    t = 4\n",
    "    for model_idx, model in enumerate(models):\n",
    "        model_name = model_names[model_idx]\n",
    "        model_df = model_dfs[model_idx]\n",
    "        df = model_df[(model_df['SNR']==snr) & (model_df['BG']!='Babble8Spkr')]\n",
    "        vals = df['Relative Accuracy']\n",
    "        vals = np.array(vals)\n",
    "        avg = np.mean(vals)\n",
    "        err = sem(vals)\n",
    "        label = model_name if snr_i==0 else None\n",
    "        plt.bar(\n",
    "            x1[snr_i] + barWidth*model_idx, avg,\n",
    "            width=barWidth, color=colors[model_idx],\n",
    "            yerr=err, capsize=0, label=label)\n",
    "plt.xticks([0,1,2,3,4], [-9, -6, -3, 0, 3])\n",
    "plt.ylabel('Relative Accuracy\\n(timestep-averaged)')\n",
    "plt.xlabel('SNR')\n",
    "plt.axhline(0, color='lightgray')\n",
    "plt.legend(title='Model')\n",
    "plt.yticks([0., 0.05])\n",
    "plt.tight_layout()\n",
    "plt.savefig('control.png', dpi=300)\n",
    "plt.show()"
   ]
  },
  {
   "cell_type": "markdown",
   "metadata": {},
   "source": [
    "# Plot over BG"
   ]
  },
  {
   "cell_type": "code",
   "execution_count": 12,
   "metadata": {},
   "outputs": [
    {
     "data": {
      "image/png": "[encoded data removed]",
      "text/plain": [
       "<Figure size 345.6x276.48 with 1 Axes>"
      ]
     },
     "metadata": {
      "needs_background": "light"
     },
     "output_type": "display_data"
    }
   ],
   "source": [
    "barWidth = 0.2\n",
    "x1 = np.arange(5) - barWidth*1.75/2\n",
    "colors = ['C0', 'C1', 'C2', 'C3', 'C4']\n",
    "fig, ax = plt.subplots(figsize=(6.4*0.75, 4.8*0.8))\n",
    "\n",
    "for bg_i, bg in enumerate(['AudScene', 'pinkNoise']):\n",
    "    t = 4\n",
    "    for model_idx, model in enumerate(models):\n",
    "        model_name = model_names[model_idx]\n",
    "        model_df = model_dfs[model_idx]\n",
    "        df = model_df[(model_df['BG']==bg) & (model_df['Timesteps']==t)]\n",
    "        vals = df['Relative Accuracy']\n",
    "        vals = np.array(vals)\n",
    "        avg = np.mean(vals)\n",
    "        err = sem(vals)\n",
    "        plt.bar(\n",
    "            x1[bg_i] + barWidth*model_idx, avg, yerr=err,\n",
    "            width=barWidth, color=colors[model_idx],\n",
    "            label=t)\n",
    "plt.xticks(\n",
    "    [0, 1],\n",
    "    ['Auditory Scene', 'Pink Noise'])\n",
    "plt.ylabel('Relative Accuracy\\n(timestep-averaged)')\n",
    "plt.yticks([0., 0.05, 0.1])\n",
    "plt.tight_layout()\n",
    "plt.savefig('control_bg.png', dpi=300)\n",
    "plt.show()"
   ]
  },
  {
   "cell_type": "code",
   "execution_count": null,
   "metadata": {},
   "outputs": [],
   "source": []
  }
 ],
 "metadata": {
  "kernelspec": {
   "display_name": "Python [conda env:.conda-hcnn]",
   "language": "python",
   "name": "conda-env-.conda-hcnn-py"
  },
  "language_info": {
   "codemirror_mode": {
    "name": "ipython",
    "version": 3
   },
   "file_extension": ".py",
   "mimetype": "text/x-python",
   "name": "python",
   "nbconvert_exporter": "python",
   "pygments_lexer": "ipython3",
   "version": "3.7.13"
  }
 },
 "nbformat": 4,
 "nbformat_minor": 2
}
