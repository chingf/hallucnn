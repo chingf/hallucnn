{
 "cells": [
  {
   "cell_type": "code",
   "execution_count": 1,
   "metadata": {},
   "outputs": [],
   "source": [
    "import os\n",
    "import sys\n",
    "import numpy as np\n",
    "import h5py\n",
    "import matplotlib.pyplot as plt\n",
    "import pandas as pd\n",
    "import pickle\n",
    "import seaborn as sns\n",
    "import configs\n",
    "\n",
    "import torch\n",
    "from torch.utils.tensorboard import SummaryWriter\n",
    "from torch.utils.data import DataLoader\n",
    "from torch.utils.data import Subset\n",
    "\n",
    "from predify.utils.training import train_pcoders, eval_pcoders\n",
    "\n",
    "from models.networks_2022 import BranchedNetwork"
   ]
  },
  {
   "cell_type": "markdown",
   "metadata": {},
   "source": [
    "# Parameters"
   ]
  },
  {
   "cell_type": "code",
   "execution_count": 2,
   "metadata": {},
   "outputs": [],
   "source": [
    "engram_dir = '/mnt/smb/locker/abbott-locker/hcnn/'\n",
    "checkpoints_dir = f'{engram_dir}1_checkpoints/'\n",
    "tensorboard_dir = f'{engram_dir}1_tensorboard/'"
   ]
  },
  {
   "cell_type": "code",
   "execution_count": 20,
   "metadata": {},
   "outputs": [],
   "source": [
    "base_activation_dir = f'{engram_dir}3_validation_activations/merged/'"
   ]
  },
  {
   "cell_type": "code",
   "execution_count": 21,
   "metadata": {},
   "outputs": [],
   "source": [
    "activations_dirs = [\n",
    "    f'{base_activation_dir}erm_ablation_merged/',\n",
    "    f'{base_activation_dir}pnet_merged/'\n",
    "    ]\n",
    "axis_names = ['Error Term Ablation', 'No Ablation']"
   ]
  },
  {
   "cell_type": "code",
   "execution_count": 29,
   "metadata": {},
   "outputs": [],
   "source": [
    "activations_dirs = [\n",
    "    f'{base_activation_dir}fbm_ablation_merged/',\n",
    "    f'{base_activation_dir}pnet_merged/'\n",
    "    ]\n",
    "axis_names = ['Feedback Ablation', 'No Ablation']"
   ]
  },
  {
   "cell_type": "code",
   "execution_count": 30,
   "metadata": {},
   "outputs": [
    {
     "name": "stdout",
     "output_type": "stream",
     "text": [
      "Device: cuda:0\n"
     ]
    }
   ],
   "source": [
    "DEVICE = 'cuda:0' if torch.cuda.is_available() else 'cpu'\n",
    "print(f'Device: {DEVICE}')"
   ]
  },
  {
   "cell_type": "markdown",
   "metadata": {},
   "source": [
    "# Function to collect accuracy values"
   ]
  },
  {
   "cell_type": "code",
   "execution_count": 31,
   "metadata": {},
   "outputs": [],
   "source": [
    "def eval_accuracy(results):\n",
    "    labels = np.array(results['label'])\n",
    "    timesteps = []\n",
    "    accuracies = []\n",
    "    rel_accuracies = []\n",
    "    ff_corrects = []\n",
    "    clean_corrects = []\n",
    "    \n",
    "    n_timesteps = 5\n",
    "    for i in range(labels.size):\n",
    "        label = labels[i]\n",
    "        ff_acc = None\n",
    "        for t in range(n_timesteps):\n",
    "            output = results[f'{t}_output'][i]\n",
    "            acc_t = (output == label).astype(float)\n",
    "            if t == 0:\n",
    "                ff_acc = acc_t\n",
    "            rel_acc_t = acc_t - ff_acc\n",
    "            timesteps.append(t)\n",
    "            accuracies.append(acc_t)\n",
    "            rel_accuracies.append(rel_acc_t)\n",
    "            ff_corrects.append(ff_acc)\n",
    "            clean_corrects.append(results['clean_correct'][i])\n",
    "\n",
    "    timesteps = np.array(timesteps)\n",
    "    accuracies = np.array(accuracies)\n",
    "    rel_accuracies = np.array(rel_accuracies)\n",
    "    ff_corrects = np.array(ff_corrects)\n",
    "    clean_corrects = np.array(clean_corrects)\n",
    "            \n",
    "    return timesteps, accuracies, rel_accuracies, ff_corrects, clean_corrects"
   ]
  },
  {
   "cell_type": "code",
   "execution_count": 32,
   "metadata": {},
   "outputs": [],
   "source": [
    "# This is bad practice! But the warnings are real annoying\n",
    "import warnings\n",
    "warnings.filterwarnings(\"ignore\")"
   ]
  },
  {
   "cell_type": "code",
   "execution_count": 33,
   "metadata": {},
   "outputs": [],
   "source": [
    "bgs = ['pinkNoise', 'AudScene', 'Babble8Spkr']\n",
    "snrs = [-9.0, -6.0, -3.0, 0.0, 3.0]"
   ]
  },
  {
   "cell_type": "markdown",
   "metadata": {},
   "source": [
    "# Collect data"
   ]
  },
  {
   "cell_type": "code",
   "execution_count": 34,
   "metadata": {},
   "outputs": [
    {
     "data": {
      "text/plain": [
       "'/mnt/smb/locker/abbott-locker/hcnn/3_validation_activations/merged/pnet_merged/Babble8Spkr_snr3/'"
      ]
     },
     "execution_count": 34,
     "metadata": {},
     "output_type": "execute_result"
    }
   ],
   "source": [
    "activ_dir"
   ]
  },
  {
   "cell_type": "code",
   "execution_count": 35,
   "metadata": {},
   "outputs": [
    {
     "data": {
      "text/plain": [
       "'/mnt/smb/locker/abbott-locker/hcnn/3_validation_activations/merged/pnet_merged/Babble8Spkr_snr3/'"
      ]
     },
     "execution_count": 35,
     "metadata": {},
     "output_type": "execute_result"
    }
   ],
   "source": [
    "activ_dir"
   ]
  },
  {
   "cell_type": "code",
   "execution_count": 36,
   "metadata": {},
   "outputs": [],
   "source": [
    "dfs = []\n",
    "for activations_dir in activations_dirs:\n",
    "    data = {}\n",
    "    data['Accuracy'] = []\n",
    "    data['Relative Accuracy'] = []\n",
    "\n",
    "    # Shared by hyperparam set\n",
    "    data['Timesteps'] = []\n",
    "    data['SNR'] = []\n",
    "    data['BG'] = []\n",
    "\n",
    "    for bg in bgs:\n",
    "        for snr in snrs:\n",
    "            activ_dir = f'{activations_dir}{bg}_snr{int(snr)}/'\n",
    "            if not os.path.isdir(activ_dir): continue\n",
    "            for results_file in os.listdir(activ_dir):\n",
    "                results_filepath = f'{activ_dir}{results_file}'\n",
    "                results = h5py.File(results_filepath, 'r')\n",
    "                timesteps, accs, rel_accs, ff_corrects, clean_corrects = eval_accuracy(results)\n",
    "                accs *= 100\n",
    "                rel_accs *= 100\n",
    "\n",
    "                # Collect accuracy results by labels\n",
    "                for t in [0, 1, 2, 3, 4]:\n",
    "                    idxs = timesteps==t\n",
    "                    rel_acc = np.mean(rel_accs[idxs])\n",
    "                    data['Accuracy'].append(np.mean(accs[idxs]))\n",
    "                    data['Relative Accuracy'].append(rel_acc)\n",
    "                    data['Timesteps'].append(t)\n",
    "                    data['SNR'].append(snr)\n",
    "                    data['BG'].append(bg)\n",
    "    df = pd.DataFrame(data)\n",
    "\n",
    "    bg_avgs = {}\n",
    "    for bg in np.unique(df['BG']):\n",
    "        bg_avgs[bg] = {}\n",
    "        for snr in np.unique(df['SNR']):\n",
    "            bg_avgs[bg][snr] = np.mean(\n",
    "                df[(df['BG'] == bg) & (df['SNR'] ==snr)]['Accuracy']\n",
    "                )\n",
    "    data['Relative Accuracy (BG Corrected)'] = []\n",
    "    for idx in range(len(data['Accuracy'])):\n",
    "        bg = data['BG'][idx]\n",
    "        snr = data['SNR'][idx]\n",
    "        rel_acc = data['Relative Accuracy'][idx]\n",
    "        data['Relative Accuracy (BG Corrected)'].append(\n",
    "            rel_acc/bg_avgs[bg][snr]\n",
    "            )\n",
    "    df = pd.DataFrame(data)\n",
    "    dfs.append(df)"
   ]
  },
  {
   "cell_type": "markdown",
   "metadata": {},
   "source": [
    "# Make Scatter"
   ]
  },
  {
   "cell_type": "code",
   "execution_count": 37,
   "metadata": {},
   "outputs": [],
   "source": [
    "df0 = dfs[0]\n",
    "df1 = dfs[1]"
   ]
  },
  {
   "cell_type": "code",
   "execution_count": 38,
   "metadata": {},
   "outputs": [
    {
     "data": {
      "image/png": "[encoded data removed]",
      "text/plain": [
       "<Figure size 216x216 with 1 Axes>"
      ]
     },
     "metadata": {
      "needs_background": "light"
     },
     "output_type": "display_data"
    }
   ],
   "source": [
    "fig, ax = plt.subplots(figsize=(3,3))\n",
    "ax.set_aspect('equal')\n",
    "for bg in np.unique(dfs[0]['BG']):\n",
    "    for snr in np.unique(dfs[0]['SNR']):\n",
    "        val0 = np.mean(df0[(df0['BG']==bg) & (df0['SNR']==snr) & (df0['Timesteps']==4)]['Relative Accuracy (BG Corrected)'])\n",
    "        val1 = np.mean(df1[(df1['BG']==bg) & (df1['SNR']==snr) & (df1['Timesteps']==4)]['Relative Accuracy (BG Corrected)'])\n",
    "        ax.scatter(val0, val1, color='dimgray')\n",
    "plt.ylim(-0.03, 0.11)\n",
    "plt.xlim(-0.03, 0.11)\n",
    "plt.plot([-0.1, 0.15], [-0.1, 0.15], color='gray', linestyle='--')\n",
    "plt.xlabel(axis_names[0])\n",
    "plt.ylabel(axis_names[1])\n",
    "plt.xticks([0.0, 0.05, 0.1])\n",
    "plt.yticks([0.0, 0.05, 0.1])\n",
    "ax.set_aspect('equal')\n",
    "plt.tight_layout()\n",
    "plt.savefig('erm_ablation_scatter.png', dpi=300)\n",
    "plt.show()"
   ]
  },
  {
   "cell_type": "code",
   "execution_count": null,
   "metadata": {},
   "outputs": [],
   "source": []
  }
 ],
 "metadata": {
  "kernelspec": {
   "display_name": "Python [conda env:.conda-hcnn]",
   "language": "python",
   "name": "conda-env-.conda-hcnn-py"
  },
  "language_info": {
   "codemirror_mode": {
    "name": "ipython",
    "version": 3
   },
   "file_extension": ".py",
   "mimetype": "text/x-python",
   "name": "python",
   "nbconvert_exporter": "python",
   "pygments_lexer": "ipython3",
   "version": "3.7.13"
  }
 },
 "nbformat": 4,
 "nbformat_minor": 5
}
