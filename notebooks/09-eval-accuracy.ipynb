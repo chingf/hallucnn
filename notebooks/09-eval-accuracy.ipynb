{
 "cells": [
  {
   "cell_type": "code",
   "execution_count": 23,
   "id": "f2a59db0",
   "metadata": {},
   "outputs": [],
   "source": [
    "import os\n",
    "import sys\n",
    "import numpy as np\n",
    "import h5py\n",
    "import matplotlib.pyplot as plt\n",
    "import pandas as pd\n",
    "import pickle\n",
    "import seaborn as sns\n",
    "import configs\n",
    "\n",
    "import torch\n",
    "from torch.utils.tensorboard import SummaryWriter\n",
    "from torch.utils.data import DataLoader\n",
    "from torch.utils.data import Subset\n",
    "\n",
    "from predify.utils.training import train_pcoders, eval_pcoders\n",
    "\n",
    "from models.networks_2022 import BranchedNetwork"
   ]
  },
  {
   "cell_type": "markdown",
   "id": "283b7933",
   "metadata": {},
   "source": [
    "# Parameters"
   ]
  },
  {
   "cell_type": "code",
   "execution_count": 24,
   "id": "a76ea94e",
   "metadata": {},
   "outputs": [],
   "source": [
    "engram_dir = '/mnt/smb/locker/abbott-locker/hcnn/'\n",
    "checkpoints_dir = f'{engram_dir}checkpoints/'\n",
    "tensorboard_dir = f'{engram_dir}tensorboard/'\n",
    "activations_dir = f'{engram_dir}activations_pnet_snr3/'"
   ]
  },
  {
   "cell_type": "code",
   "execution_count": 25,
   "id": "3c878997",
   "metadata": {},
   "outputs": [
    {
     "name": "stdout",
     "output_type": "stream",
     "text": [
      "Device: cuda:0\n"
     ]
    }
   ],
   "source": [
    "DEVICE = 'cuda:0' if torch.cuda.is_available() else 'cpu'\n",
    "print(f'Device: {DEVICE}')"
   ]
  },
  {
   "cell_type": "markdown",
   "id": "003cb624",
   "metadata": {},
   "source": [
    "# Function to collect accuracy values"
   ]
  },
  {
   "cell_type": "code",
   "execution_count": 26,
   "id": "5aa256d2",
   "metadata": {},
   "outputs": [],
   "source": [
    "def eval_accuracy(results):\n",
    "    labels = np.array(results['label'])\n",
    "    timesteps = []\n",
    "    accuracies = []\n",
    "    rel_accuracies = []\n",
    "    ff_corrects = []\n",
    "    clean_corrects = []\n",
    "    \n",
    "    n_timesteps = 5\n",
    "    for i in range(labels.size):\n",
    "        label = labels[i]\n",
    "        ff_acc = None\n",
    "        for t in range(n_timesteps):\n",
    "            output = results[f'{t}_output'][i]\n",
    "            acc_t = (output == label).astype(float)\n",
    "            if t == 0:\n",
    "                ff_acc = acc_t\n",
    "            rel_acc_t = acc_t - ff_acc\n",
    "            timesteps.append(t)\n",
    "            accuracies.append(acc_t)\n",
    "            rel_accuracies.append(rel_acc_t)\n",
    "            ff_corrects.append(ff_acc)\n",
    "            clean_corrects.append(results['clean_correct'][i])\n",
    "\n",
    "    timesteps = np.array(timesteps)\n",
    "    accuracies = np.array(accuracies)\n",
    "    rel_accuracies = np.array(rel_accuracies)\n",
    "    ff_corrects = np.array(ff_corrects)\n",
    "    clean_corrects = np.array(clean_corrects)\n",
    "            \n",
    "    return timesteps, accuracies, rel_accuracies, ff_corrects, clean_corrects"
   ]
  },
  {
   "cell_type": "code",
   "execution_count": 27,
   "id": "9c82f79a",
   "metadata": {},
   "outputs": [],
   "source": [
    "# This is bad practice! But the warnings are real annoying\n",
    "import warnings\n",
    "warnings.filterwarnings(\"ignore\")"
   ]
  },
  {
   "cell_type": "code",
   "execution_count": 28,
   "id": "9eb76562",
   "metadata": {},
   "outputs": [],
   "source": [
    "bgs = ['pinkNoise', 'AudScene', 'Babble8Spkr']\n",
    "snrs = [-9.0, -6.0, -3.0, 0.0, 3.0]"
   ]
  },
  {
   "cell_type": "markdown",
   "id": "fa189a50",
   "metadata": {},
   "source": [
    "# By splitting trial type"
   ]
  },
  {
   "cell_type": "code",
   "execution_count": 4,
   "id": "71418f4f",
   "metadata": {},
   "outputs": [],
   "source": [
    "import datetime"
   ]
  },
  {
   "cell_type": "code",
   "execution_count": 5,
   "id": "c3c91608",
   "metadata": {},
   "outputs": [],
   "source": [
    "import pathlib"
   ]
  },
  {
   "cell_type": "code",
   "execution_count": null,
   "id": "4538e9ed",
   "metadata": {},
   "outputs": [],
   "source": [
    "data = {}\n",
    "data['Accuracy'] = []\n",
    "data['Relative Accuracy'] = []\n",
    "\n",
    "# Shared by hyperparam set\n",
    "data['Timesteps'] = []\n",
    "data['SNR'] = []\n",
    "data['BG'] = []\n",
    "data['TF File'] = []\n",
    "\n",
    "# Splits\n",
    "data['FF Correct'] = []\n",
    "data['Clean Correct'] = []\n",
    "\n",
    "for bg in bgs:\n",
    "    for snr in snrs:\n",
    "        activ_dir = f'{activations_dir}{bg}_snr{int(snr)}/'\n",
    "        for results_file in os.listdir(activ_dir):\n",
    "            results_filepath = f'{activ_dir}{results_file}'\n",
    "            \n",
    "            birthtime = pathlib.Path(results_filepath).stat().st_ctime\n",
    "            creation_month = datetime.datetime.fromtimestamp(birthtime).month\n",
    "            if creation_month != 8: continue\n",
    "                \n",
    "            results = h5py.File(results_filepath, 'r')\n",
    "            timesteps, accs, rel_accs, ff_corrects, clean_corrects = eval_accuracy(results)\n",
    "            accs *= 100\n",
    "            rel_accs *= 100\n",
    "\n",
    "            # Collect accuracy results by labels\n",
    "            for ff_acc in [True, False]:\n",
    "                for clean_acc in [True, False]:\n",
    "                    for t in [0, 1, 2, 3, 4]:\n",
    "                        idxs = np.logical_and(np.logical_and(\n",
    "                            timesteps==t, ff_corrects==ff_acc),\n",
    "                            clean_corrects==clean_acc\n",
    "                            )\n",
    "                        data['Accuracy'].append(np.mean(accs[idxs]))\n",
    "                        data['Relative Accuracy'].append(np.mean(rel_accs[idxs]))\n",
    "                        data['Timesteps'].append(t)\n",
    "                        data['SNR'].append(snr)\n",
    "                        data['BG'].append(bg)\n",
    "                        data['TF File'].append(results_file.split('.hdf5')[0])\n",
    "                        data['FF Correct'].append(ff_acc)\n",
    "                        data['Clean Correct'].append(clean_acc)\n",
    "df_split = pd.DataFrame(data)"
   ]
  },
  {
   "cell_type": "code",
   "execution_count": 11,
   "id": "a27059b0",
   "metadata": {},
   "outputs": [
    {
     "data": {
      "text/plain": [
       "-5.89808129556256"
      ]
     },
     "execution_count": 11,
     "metadata": {},
     "output_type": "execute_result"
    }
   ],
   "source": [
    "np.mean(\n",
    "    df_split['Relative Accuracy'][\n",
    "        (df_split['FF Correct']==True)\n",
    "        ]\n",
    "    )"
   ]
  },
  {
   "cell_type": "code",
   "execution_count": 12,
   "id": "ddb9ab7f",
   "metadata": {},
   "outputs": [
    {
     "data": {
      "text/plain": [
       "-7.877497931592433"
      ]
     },
     "execution_count": 12,
     "metadata": {},
     "output_type": "execute_result"
    }
   ],
   "source": [
    "np.mean(\n",
    "    df_split['Relative Accuracy'][\n",
    "        (df_split['FF Correct']==True) & (df_split['Clean Correct']==False)\n",
    "        ]\n",
    "    )"
   ]
  },
  {
   "cell_type": "code",
   "execution_count": 13,
   "id": "1945f7ff",
   "metadata": {},
   "outputs": [
    {
     "data": {
      "text/plain": [
       "1.146608891298559"
      ]
     },
     "execution_count": 13,
     "metadata": {},
     "output_type": "execute_result"
    }
   ],
   "source": [
    "np.mean(\n",
    "    df_split['Relative Accuracy'][\n",
    "        (df_split['FF Correct']==False) & (df_split['Clean Correct']==False)\n",
    "        ]\n",
    "    )"
   ]
  },
  {
   "cell_type": "code",
   "execution_count": 14,
   "id": "7ceefe5e",
   "metadata": {},
   "outputs": [
    {
     "data": {
      "text/plain": [
       "-3.918664659532668"
      ]
     },
     "execution_count": 14,
     "metadata": {},
     "output_type": "execute_result"
    }
   ],
   "source": [
    "np.mean(\n",
    "    df_split['Relative Accuracy'][\n",
    "        (df_split['FF Correct']==True) & (df_split['Clean Correct']==True)\n",
    "        ]\n",
    "    )"
   ]
  },
  {
   "cell_type": "code",
   "execution_count": 15,
   "id": "42129b36",
   "metadata": {},
   "outputs": [
    {
     "data": {
      "text/plain": [
       "3.222296777593922"
      ]
     },
     "execution_count": 15,
     "metadata": {},
     "output_type": "execute_result"
    }
   ],
   "source": [
    "np.mean(\n",
    "    df_split['Relative Accuracy'][\n",
    "        (df_split['FF Correct']==False) & (df_split['Clean Correct']==True)\n",
    "        ]\n",
    "    )"
   ]
  },
  {
   "cell_type": "markdown",
   "id": "457da87d",
   "metadata": {},
   "source": [
    "# All"
   ]
  },
  {
   "cell_type": "code",
   "execution_count": 29,
   "id": "60f1cdc7",
   "metadata": {},
   "outputs": [],
   "source": [
    "data = {}\n",
    "data['Accuracy'] = []\n",
    "data['Relative Accuracy'] = []\n",
    "\n",
    "# Shared by hyperparam set\n",
    "data['Timesteps'] = []\n",
    "data['SNR'] = []\n",
    "data['BG'] = []\n",
    "\n",
    "for bg in bgs:\n",
    "    for snr in snrs:\n",
    "        activ_dir = f'{activations_dir}{bg}_snr{int(snr)}/'\n",
    "        for results_file in os.listdir(activ_dir):\n",
    "            results_filepath = f'{activ_dir}{results_file}'\n",
    "#             birthtime = pathlib.Path(results_filepath).stat().st_ctime\n",
    "#             creation_month = datetime.datetime.fromtimestamp(birthtime).month\n",
    "#             if creation_month != 8: continue\n",
    "            results = h5py.File(results_filepath, 'r')\n",
    "            timesteps, accs, rel_accs, ff_corrects, clean_corrects = eval_accuracy(results)\n",
    "            accs *= 100\n",
    "            rel_accs *= 100\n",
    "\n",
    "            # Collect accuracy results by labels\n",
    "            for t in [0, 1, 2, 3, 4]:\n",
    "                idxs = timesteps==t\n",
    "                rel_acc = np.mean(rel_accs[idxs])\n",
    "                data['Accuracy'].append(np.mean(accs[idxs]))\n",
    "                data['Relative Accuracy'].append(rel_acc)\n",
    "                data['Timesteps'].append(t)\n",
    "                data['SNR'].append(snr)\n",
    "                data['BG'].append(bg)\n",
    "df = pd.DataFrame(data)\n",
    "\n",
    "bg_avgs = {}\n",
    "for bg in np.unique(df['BG']):\n",
    "    bg_avgs[bg] = {}\n",
    "    for snr in np.unique(df['SNR']):\n",
    "        bg_avgs[bg][snr] = np.mean(\n",
    "            df[(df['BG'] == bg) & (df['SNR'] ==snr)]['Accuracy']\n",
    "            )\n",
    "data['Relative Accuracy (BG Corrected)'] = []\n",
    "for idx in range(len(data['Accuracy'])):\n",
    "    bg = data['BG'][idx]\n",
    "    snr = data['SNR'][idx]\n",
    "    rel_acc = data['Relative Accuracy'][idx]\n",
    "    data['Relative Accuracy (BG Corrected)'].append(\n",
    "        rel_acc/bg_avgs[bg][snr]\n",
    "        )\n",
    "df = pd.DataFrame(data)"
   ]
  },
  {
   "cell_type": "markdown",
   "id": "31cac73f",
   "metadata": {},
   "source": [
    "# Collapsed across BG"
   ]
  },
  {
   "cell_type": "code",
   "execution_count": 30,
   "id": "82f947f1",
   "metadata": {},
   "outputs": [
    {
     "data": {
      "image/png": "[encoded data removed]",
      "text/plain": [
       "<Figure size 460.8x276.48 with 1 Axes>"
      ]
     },
     "metadata": {
      "needs_background": "light"
     },
     "output_type": "display_data"
    }
   ],
   "source": [
    "from scipy.stats import sem\n",
    "import matplotlib.cm as cm\n",
    "# width of the bars\n",
    "barWidth = 0.18\n",
    "x1 = np.arange(5) - barWidth*5/2\n",
    "colors = cm.get_cmap('Blues')(np.linspace(0.3, 0.85, 4))\n",
    "fig, ax = plt.subplots(figsize=(6.4, 4.8*0.8))\n",
    "\n",
    "for snr_i, snr in enumerate(np.unique(df['SNR'])):\n",
    "    for t in [1, 2, 3, 4]:\n",
    "        vals = df[(df['SNR']==snr) & (df['Timesteps']==t)]\n",
    "        vals = vals['Relative Accuracy (BG Corrected)']\n",
    "        vals = np.array(vals)\n",
    "        avg = np.max(vals)\n",
    "        err = sem(vals)\n",
    "        plt.bar(\n",
    "            x1[snr_i] + barWidth*t, avg,\n",
    "            width=barWidth, color=colors[t-1],\n",
    "            label=t)\n",
    "plt.xticks([0,1,2,3,4], [-9, -6, -3, 0, 3])\n",
    "plt.ylabel('Proportional Change\\nfrom FF Avg')\n",
    "plt.xlabel('SNR')\n",
    "plt.savefig('acc_snr.svg', dpi=300)\n",
    "plt.show()"
   ]
  },
  {
   "cell_type": "code",
   "execution_count": 31,
   "id": "7d3db08f",
   "metadata": {
    "scrolled": true
   },
   "outputs": [
    {
     "data": {
      "image/png": "[encoded data removed]",
      "text/plain": [
       "<Figure size 460.8x276.48 with 1 Axes>"
      ]
     },
     "metadata": {
      "needs_background": "light"
     },
     "output_type": "display_data"
    }
   ],
   "source": [
    "from scipy.stats import sem\n",
    "import matplotlib.cm as cm\n",
    "# width of the bars\n",
    "barWidth = 0.18\n",
    "x1 = np.arange(5) - barWidth*5/2\n",
    "colors = cm.get_cmap('Blues')(np.linspace(0.3, 0.85, 4))\n",
    "fig, ax = plt.subplots(figsize=(6.4, 4.8*0.8))\n",
    "\n",
    "for snr_i, snr in enumerate(np.unique(df['SNR'])):\n",
    "    for t in [1, 2, 3, 4]:\n",
    "        vals = df[(df['SNR']==snr) & (df['Timesteps']==t)]\n",
    "        vals = vals['Relative Accuracy (BG Corrected)']\n",
    "        vals = np.array(vals)\n",
    "        avg = np.mean(vals)\n",
    "        err = sem(vals)\n",
    "        plt.bar(\n",
    "            x1[snr_i] + barWidth*t, avg,\n",
    "            width=barWidth, color=colors[t-1],\n",
    "            yerr=err, capsize=0, label=t)\n",
    "plt.xticks([0,1,2,3,4], [-9, -6, -3, 0, 3])\n",
    "plt.ylabel('Proportional Change\\nfrom FF Avg')\n",
    "plt.xlabel('SNR')\n",
    "plt.savefig('acc_snr.svg', dpi=300)\n",
    "plt.show()"
   ]
  },
  {
   "cell_type": "code",
   "execution_count": 32,
   "id": "412f14ab",
   "metadata": {
    "scrolled": true
   },
   "outputs": [
    {
     "data": {
      "image/png": "[encoded data removed]",
      "text/plain": [
       "<Figure size 460.8x276.48 with 1 Axes>"
      ]
     },
     "metadata": {
      "needs_background": "light"
     },
     "output_type": "display_data"
    }
   ],
   "source": [
    "from scipy.stats import sem\n",
    "import matplotlib.cm as cm\n",
    "# width of the bars\n",
    "barWidth = 0.18\n",
    "x1 = np.arange(5) - barWidth*5/2\n",
    "colors = cm.get_cmap('Blues')(np.linspace(0.3, 0.85, 4))\n",
    "fig, ax = plt.subplots(figsize=(6.4, 4.8*0.8))\n",
    "\n",
    "for snr_i, snr in enumerate(np.unique(df['SNR'])):\n",
    "    for t in [1, 2, 3, 4]:\n",
    "        vals = df[(df['SNR']==snr) & (df['Timesteps']==t)]\n",
    "        vals = vals['Relative Accuracy']\n",
    "        vals = np.array(vals)\n",
    "        avg = np.mean(vals)\n",
    "        err = sem(vals)\n",
    "        plt.bar(\n",
    "            x1[snr_i] + barWidth*t, avg,\n",
    "            width=barWidth, color=colors[t-1],\n",
    "            yerr=err, capsize=0, label=t)\n",
    "plt.xticks([0,1,2,3,4], [-9, -6, -3, 0, 3])\n",
    "plt.yticks([0., 0.5, 1.])\n",
    "plt.ylabel('Accuracy Change\\nfrom FF (%)')\n",
    "plt.xlabel('SNR')\n",
    "plt.show()"
   ]
  },
  {
   "cell_type": "code",
   "execution_count": 33,
   "id": "a694e90d",
   "metadata": {},
   "outputs": [
    {
     "data": {
      "image/png": "[encoded data removed]",
      "text/plain": [
       "<Figure size 432x288 with 1 Axes>"
      ]
     },
     "metadata": {
      "needs_background": "light"
     },
     "output_type": "display_data"
    }
   ],
   "source": [
    "g = sns.barplot(\n",
    "    x='SNR', y='Accuracy', hue='Timesteps',\n",
    "    data=df, palette=\"Blues\"\n",
    "    )\n",
    "plt.ylabel('Accuracy Change\\nfrom FF (%)')\n",
    "plt.axhline(0, color='gray')\n",
    "plt.xticks([0, 1, 2, 3, 4])\n",
    "plt.savefig('acc.svg', dpi=300)\n",
    "plt.show(g)"
   ]
  },
  {
   "cell_type": "markdown",
   "id": "e271d215",
   "metadata": {},
   "source": [
    "# Collapsed across SNR"
   ]
  },
  {
   "cell_type": "code",
   "execution_count": 34,
   "id": "a5c8545d",
   "metadata": {},
   "outputs": [
    {
     "data": {
      "image/png": "[encoded data removed]",
      "text/plain": [
       "<Figure size 460.8x276.48 with 1 Axes>"
      ]
     },
     "metadata": {
      "needs_background": "light"
     },
     "output_type": "display_data"
    }
   ],
   "source": [
    "from scipy.stats import sem\n",
    "import matplotlib.cm as cm\n",
    "# width of the bars\n",
    "barWidth = 0.18\n",
    "x1 = np.arange(5) - barWidth*5/2\n",
    "colors = cm.get_cmap('Blues')(np.linspace(0.3, 0.85, 4))\n",
    "fig, ax = plt.subplots(figsize=(6.4, 4.8*0.8))\n",
    "\n",
    "for bg_i, bg in enumerate(['Babble8Spkr', 'AudScene', 'pinkNoise']):\n",
    "    for t in [1, 2, 3, 4]:\n",
    "        vals = df[(df['BG']==bg) & (df['Timesteps']==t)]['Relative Accuracy (BG Corrected)']\n",
    "        vals = np.array(vals)\n",
    "        rel_avg = np.max(vals)\n",
    "        err = sem(vals)\n",
    "        plt.bar(\n",
    "            x1[bg_i] + barWidth*t, rel_avg,\n",
    "            width=barWidth, color=colors[t-1],\n",
    "            label=t)\n",
    "plt.xticks(\n",
    "    [0, 1, 2],\n",
    "    ['8-Speaker\\nBabble', 'Auditory\\nScene', 'Pink Noise']\n",
    "    )\n",
    "plt.ylabel('Proportional Change')\n",
    "plt.savefig('acc_bg.svg', dpi=300)\n",
    "plt.show()"
   ]
  },
  {
   "cell_type": "code",
   "execution_count": 35,
   "id": "08eb7bb0",
   "metadata": {},
   "outputs": [
    {
     "data": {
      "image/png": "[encoded data removed]",
      "text/plain": [
       "<Figure size 460.8x276.48 with 1 Axes>"
      ]
     },
     "metadata": {
      "needs_background": "light"
     },
     "output_type": "display_data"
    }
   ],
   "source": [
    "from scipy.stats import sem\n",
    "import matplotlib.cm as cm\n",
    "# width of the bars\n",
    "barWidth = 0.18\n",
    "x1 = np.arange(5) - barWidth*5/2\n",
    "colors = cm.get_cmap('Blues')(np.linspace(0.3, 0.85, 4))\n",
    "fig, ax = plt.subplots(figsize=(6.4, 4.8*0.8))\n",
    "\n",
    "for bg_i, bg in enumerate(['Babble8Spkr', 'AudScene', 'pinkNoise']):\n",
    "    for t in [1, 2, 3, 4]:\n",
    "        vals = df[(df['BG']==bg) & (df['Timesteps']==t)]['Relative Accuracy (BG Corrected)']\n",
    "        vals = np.array(vals)\n",
    "        rel_avg = np.mean(vals)\n",
    "        err = sem(vals)\n",
    "        plt.bar(\n",
    "            x1[bg_i] + barWidth*t, rel_avg,\n",
    "            width=barWidth, color=colors[t-1],\n",
    "            yerr=err, capsize=0, label=t)\n",
    "plt.xticks(\n",
    "    [0, 1, 2],\n",
    "    ['8-Speaker\\nBabble', 'Auditory\\nScene', 'Pink Noise']\n",
    "    )\n",
    "plt.ylabel('Proportional Change')\n",
    "plt.savefig('acc_bg.svg', dpi=300)\n",
    "plt.show()"
   ]
  },
  {
   "cell_type": "code",
   "execution_count": 36,
   "id": "f158d087",
   "metadata": {},
   "outputs": [
    {
     "data": {
      "image/png": "[encoded data removed]",
      "text/plain": [
       "<Figure size 460.8x276.48 with 1 Axes>"
      ]
     },
     "metadata": {
      "needs_background": "light"
     },
     "output_type": "display_data"
    }
   ],
   "source": [
    "from scipy.stats import sem\n",
    "import matplotlib.cm as cm\n",
    "# width of the bars\n",
    "barWidth = 0.18\n",
    "x1 = np.arange(5) - barWidth*5/2\n",
    "colors = cm.get_cmap('Blues')(np.linspace(0.3, 0.85, 4))\n",
    "fig, ax = plt.subplots(figsize=(6.4, 4.8*0.8))\n",
    "\n",
    "for bg_i, bg in enumerate(['Babble8Spkr', 'AudScene', 'pinkNoise']):\n",
    "    for t in [1, 2, 3, 4]:\n",
    "        vals = df[(df['BG']==bg) & (df['Timesteps']==t)]['Accuracy']\n",
    "        vals = np.array(vals)\n",
    "        rel_avg = np.mean(vals)\n",
    "        err = sem(vals)\n",
    "        plt.bar(\n",
    "            x1[bg_i] + barWidth*t, rel_avg,\n",
    "            width=barWidth, color=colors[t-1],\n",
    "            yerr=err, capsize=0, label=t)\n",
    "plt.xticks(\n",
    "    [0, 1, 2],\n",
    "    ['8-Speaker\\nBabble', 'Auditory\\nScene', 'Pink Noise']\n",
    "    )\n",
    "plt.ylabel('Proportional Change')\n",
    "plt.show()"
   ]
  },
  {
   "cell_type": "code",
   "execution_count": 37,
   "id": "af3f44a9",
   "metadata": {},
   "outputs": [
    {
     "data": {
      "image/png": "[encoded data removed]",
      "text/plain": [
       "<Figure size 460.8x276.48 with 1 Axes>"
      ]
     },
     "metadata": {
      "needs_background": "light"
     },
     "output_type": "display_data"
    }
   ],
   "source": [
    "from scipy.stats import sem\n",
    "import matplotlib.cm as cm\n",
    "# width of the bars\n",
    "barWidth = 0.18\n",
    "x1 = np.arange(5) - barWidth*5/2\n",
    "colors = cm.get_cmap('Blues')(np.linspace(0.3, 0.85, 4))\n",
    "fig, ax = plt.subplots(figsize=(6.4, 4.8*0.8))\n",
    "\n",
    "for bg_i, bg in enumerate(['Babble8Spkr', 'AudScene', 'pinkNoise']):\n",
    "    for t in [1, 2, 3, 4]:\n",
    "        vals = df[(df['BG']==bg) & (df['Timesteps']==t)]['Relative Accuracy']\n",
    "        vals = np.array(vals)\n",
    "        avg = np.mean(vals)\n",
    "        err = sem(vals)\n",
    "        plt.bar(\n",
    "            x1[bg_i] + barWidth*t, avg,\n",
    "            width=barWidth, color=colors[t-1],\n",
    "            yerr=err, capsize=0, label=t)\n",
    "plt.xticks(\n",
    "    [0, 1, 2],\n",
    "    ['8-Speaker\\nBabble', 'Auditory\\nScene', 'Pink Noise']\n",
    "    )\n",
    "plt.yticks([0., 0.5, 1.])\n",
    "plt.ylabel('Accuracy Change\\nfrom FF (%)')\n",
    "plt.show()"
   ]
  },
  {
   "cell_type": "code",
   "execution_count": 38,
   "id": "0212e7d8",
   "metadata": {},
   "outputs": [
    {
     "data": {
      "image/png": "[encoded data removed]",
      "text/plain": [
       "<Figure size 432x288 with 1 Axes>"
      ]
     },
     "metadata": {
      "needs_background": "light"
     },
     "output_type": "display_data"
    }
   ],
   "source": [
    "df = pd.DataFrame(data)\n",
    "g = sns.barplot(\n",
    "    x='BG', y='Accuracy', hue='Timesteps',\n",
    "    data=df, ci=None,\n",
    "    palette=\"Blues\"\n",
    "    )\n",
    "g.legend_.remove()\n",
    "plt.ylabel('Accuracy Change\\nfrom FF (%)')\n",
    "plt.axhline(0, color='gray')\n",
    "plt.savefig('acc.svg', dpi=300)\n",
    "plt.show(g)"
   ]
  },
  {
   "cell_type": "markdown",
   "id": "1b0ba430",
   "metadata": {},
   "source": [
    "# As percent fold change"
   ]
  },
  {
   "cell_type": "code",
   "execution_count": 23,
   "id": "041fb675",
   "metadata": {},
   "outputs": [
    {
     "ename": "ModuleNotFoundError",
     "evalue": "No module named 'ReconstructionTrainingDataset'",
     "output_type": "error",
     "traceback": [
      "\u001b[0;31m---------------------------------------------------------------------------\u001b[0m",
      "\u001b[0;31mModuleNotFoundError\u001b[0m                       Traceback (most recent call last)",
      "\u001b[0;32m/tmp/ipykernel_10110/3849256826.py\u001b[0m in \u001b[0;36m<module>\u001b[0;34m\u001b[0m\n\u001b[0;32m----> 1\u001b[0;31m \u001b[0;32mfrom\u001b[0m \u001b[0mReconstructionTrainingDataset\u001b[0m \u001b[0;32mimport\u001b[0m \u001b[0mNoisyDataset\u001b[0m\u001b[0;34m\u001b[0m\u001b[0;34m\u001b[0m\u001b[0m\n\u001b[0m",
      "\u001b[0;31mModuleNotFoundError\u001b[0m: No module named 'ReconstructionTrainingDataset'"
     ]
    }
   ],
   "source": [
    "from ReconstructionTrainingDataset import NoisyDataset"
   ]
  },
  {
   "cell_type": "code",
   "execution_count": null,
   "id": "d4004b6e",
   "metadata": {},
   "outputs": [],
   "source": [
    "data2 = {}\n",
    "data2['Timesteps'] = []\n",
    "data2['Accuracy'] = []\n",
    "data2['SNR'] = []\n",
    "data2['BG'] = []\n",
    "for bg in bgs:\n",
    "    for snr in snrs:\n",
    "        dset = NoisyDataset(bg, snr)\n",
    "        results_path = f'{activations_dir}{bg}_snr{int(snr)}.hdf5'\n",
    "        results = h5py.File(results_path, 'r')\n",
    "        timesteps, accs = eval_accuracy(results, dset)\n",
    "        data2['Timesteps'].extend(timesteps)\n",
    "        data2['Accuracy'].extend([x*100 for x in accs])\n",
    "        data2['SNR'].extend([snr]*len(accs))\n",
    "        data2['BG'].extend([bg]*len(accs))"
   ]
  },
  {
   "cell_type": "code",
   "execution_count": null,
   "id": "22844e74",
   "metadata": {},
   "outputs": [],
   "source": [
    "df = pd.DataFrame(data2)\n",
    "df = df[df['SNR']==-9.]\n",
    "df2 = {}\n",
    "df2['Accuracy'] = []\n",
    "df2['BG'] = []\n",
    "df2['Timestep'] = []\n",
    "for bg in np.unique(df['BG']):\n",
    "    avg = np.mean(df[(df['BG']==bg) & (df['Timesteps']==0)]['Accuracy'])\n",
    "    for t in np.unique(df['Timesteps']):\n",
    "        val = np.mean(df[(df['BG']==bg) & (df['Timesteps']==t)]['Accuracy'])\n",
    "        norm_val = val/avg\n",
    "        df2['Accuracy'].append(norm_val)\n",
    "        df2['BG'].append(bg)\n",
    "        df2['Timestep'].append(t)\n",
    "df2 = pd.DataFrame(df2) \n",
    "g = sns.barplot(\n",
    "    x='BG', y='Accuracy', hue='Timestep',\n",
    "    data=df2, ci=None,\n",
    "    palette=\"Blues\"\n",
    "    )\n",
    "g.legend_.remove()\n",
    "plt.ylabel('Fold Change\\nfrom FF')\n",
    "plt.axhline(0, color='gray')\n",
    "plt.savefig('acc.svg', dpi=300)\n",
    "plt.show(g)"
   ]
  },
  {
   "cell_type": "markdown",
   "id": "43d32e23",
   "metadata": {},
   "source": [
    "# FF Incorrect, Clean Correct"
   ]
  },
  {
   "cell_type": "code",
   "execution_count": null,
   "id": "f35e45fc",
   "metadata": {},
   "outputs": [],
   "source": [
    "for bg in bgs:\n",
    "    data = {}\n",
    "    data['Timesteps'] = []\n",
    "    data['Accuracy'] = []\n",
    "    data['SNR'] = []\n",
    "    for snr in snrs:\n",
    "        dset = NoisyDataset(bg, snr)\n",
    "        results_path = f'{activations_dir}{bg}_snr{int(snr)}.hdf5'\n",
    "        results = h5py.File(results_path, 'r')\n",
    "        timesteps, accs = eval_accuracy(\n",
    "            results, dset, ff_correct=False, clean_correct=True\n",
    "            )\n",
    "        data['Timesteps'].extend(timesteps)\n",
    "        data['Accuracy'].extend(accs)\n",
    "        data['SNR'].extend([snr]*len(accs))\n",
    "    df = pd.DataFrame(data)\n",
    "    g = sns.lineplot(x='Timesteps', y='Accuracy', hue='SNR', data=df)\n",
    "    plt.title(f'{bg}')\n",
    "    plt.xticks([0, 1, 2, 3, 4])\n",
    "    plt.show(g)"
   ]
  },
  {
   "cell_type": "markdown",
   "id": "0b90babf",
   "metadata": {},
   "source": [
    "# FF Correct, Clean Correct"
   ]
  },
  {
   "cell_type": "code",
   "execution_count": null,
   "id": "59896c7d",
   "metadata": {},
   "outputs": [],
   "source": [
    "for bg in bgs:\n",
    "    data = {}\n",
    "    data['Timesteps'] = []\n",
    "    data['Accuracy'] = []\n",
    "    data['SNR'] = []\n",
    "    for snr in snrs:\n",
    "        dset = NoisyDataset(bg, snr)\n",
    "        results_path = f'{activations_dir}{bg}_snr{int(snr)}.hdf5'\n",
    "        results = h5py.File(results_path, 'r')\n",
    "        timesteps, accs = eval_accuracy(\n",
    "            results, dset, ff_correct=True, clean_correct=True\n",
    "            )\n",
    "        data['Timesteps'].extend(timesteps)\n",
    "        data['Accuracy'].extend(accs)\n",
    "        data['SNR'].extend([snr]*len(accs))\n",
    "    df = pd.DataFrame(data)\n",
    "    g = sns.lineplot(x='Timesteps', y='Accuracy', hue='SNR', data=df)\n",
    "    plt.title(f'{bg}')\n",
    "    plt.xticks([0, 1, 2, 3, 4])\n",
    "    plt.show(g)"
   ]
  },
  {
   "cell_type": "markdown",
   "id": "964ac3ad",
   "metadata": {},
   "source": [
    "# FF Incorrect, Clean Incorrect"
   ]
  },
  {
   "cell_type": "code",
   "execution_count": null,
   "id": "dfc3cfca",
   "metadata": {},
   "outputs": [],
   "source": [
    "for bg in bgs:\n",
    "    data = {}\n",
    "    data['Timesteps'] = []\n",
    "    data['Accuracy'] = []\n",
    "    data['SNR'] = []\n",
    "    for snr in snrs:\n",
    "        dset = NoisyDataset(bg, snr)\n",
    "        results_path = f'{activations_dir}{bg}_snr{int(snr)}.hdf5'\n",
    "        results = h5py.File(results_path, 'r')\n",
    "        timesteps, accs = eval_accuracy(\n",
    "            results, dset, ff_correct=False, clean_correct=False\n",
    "            )\n",
    "        data['Timesteps'].extend(timesteps)\n",
    "        data['Accuracy'].extend(accs)\n",
    "        data['SNR'].extend([snr]*len(accs))\n",
    "    df = pd.DataFrame(data)\n",
    "    g = sns.lineplot(x='Timesteps', y='Accuracy', hue='SNR', data=df)\n",
    "    plt.title(f'{bg}')\n",
    "    plt.xticks([0, 1, 2, 3, 4])\n",
    "    plt.show(g)"
   ]
  },
  {
   "cell_type": "code",
   "execution_count": null,
   "id": "08f8a674",
   "metadata": {},
   "outputs": [],
   "source": []
  },
  {
   "cell_type": "code",
   "execution_count": null,
   "id": "d49f29e0",
   "metadata": {},
   "outputs": [],
   "source": []
  }
 ],
 "metadata": {
  "kernelspec": {
   "display_name": "Python 3 (ipykernel)",
   "language": "python",
   "name": "python3"
  },
  "language_info": {
   "codemirror_mode": {
    "name": "ipython",
    "version": 3
   },
   "file_extension": ".py",
   "mimetype": "text/x-python",
   "name": "python",
   "nbconvert_exporter": "python",
   "pygments_lexer": "ipython3",
   "version": "3.7.13"
  }
 },
 "nbformat": 4,
 "nbformat_minor": 5
}
