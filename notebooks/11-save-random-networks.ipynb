{
 "cells": [
  {
   "cell_type": "code",
   "execution_count": 27,
   "metadata": {},
   "outputs": [],
   "source": [
    "import os\n",
    "from tensorboard.backend.event_processing import event_accumulator\n",
    "import matplotlib.pyplot as plt\n",
    "import numpy as np\n",
    "import seaborn as sns\n",
    "import pandas as pd\n",
    "import torch\n",
    "from models.networks_2022 import BranchedNetwork\n",
    "from models.pbranchednetwork_all import PBranchedNetwork_AllSeparateHP"
   ]
  },
  {
   "cell_type": "code",
   "execution_count": 28,
   "metadata": {},
   "outputs": [],
   "source": [
    "engram_dir = '/mnt/smb/locker/abbott-locker/hcnn/'"
   ]
  },
  {
   "cell_type": "markdown",
   "metadata": {},
   "source": [
    "# 1. Random network with default initialization\n",
    "Kaiming uniform is the PyTorch default"
   ]
  },
  {
   "cell_type": "code",
   "execution_count": 3,
   "metadata": {},
   "outputs": [],
   "source": [
    "random_name = 'untrained_random_kaiming'\n",
    "random_chckpt_dir = f'{engram_dir}1_checkpoints/{random_name}/'\n",
    "os.makedirs(random_chckpt_dir, exist_ok=True)"
   ]
  },
  {
   "cell_type": "code",
   "execution_count": 29,
   "metadata": {},
   "outputs": [
    {
     "name": "stderr",
     "output_type": "stream",
     "text": [
      "/share/ctn/users/cf2794/Code/hallucnn/src/models/layers.py:78: UserWarning: Inconsistent tf pad calculation in ConvLayer.\n",
      "  warnings.warn('Inconsistent tf pad calculation in ConvLayer.')\n",
      "/share/ctn/users/cf2794/Code/hallucnn/src/models/layers.py:173: UserWarning: Inconsistent tf pad calculation: 0, 1\n",
      "  warnings.warn(f'Inconsistent tf pad calculation: {pad_left}, {pad_right}')\n"
     ]
    },
    {
     "data": {
      "text/plain": [
       "<All keys matched successfully>"
      ]
     },
     "execution_count": 29,
     "metadata": {},
     "output_type": "execute_result"
    }
   ],
   "source": [
    "net = BranchedNetwork()\n",
    "net.load_state_dict(torch.load(f'{engram_dir}networks_2022_weights.pt'))"
   ]
  },
  {
   "cell_type": "code",
   "execution_count": 5,
   "metadata": {},
   "outputs": [],
   "source": [
    "for i in range(7):\n",
    "    pnet = PBranchedNetwork_AllSeparateHP(\n",
    "        net, build_graph=True, random_init=False\n",
    "        )\n",
    "    save_path = f'{random_chckpt_dir}'\n",
    "    save_path += f'{random_name}-{i}-regular.pth'\n",
    "    torch.save(pnet.state_dict(), save_path)"
   ]
  },
  {
   "cell_type": "markdown",
   "metadata": {},
   "source": [
    "# 2. Random network with distribution-match"
   ]
  },
  {
   "cell_type": "markdown",
   "metadata": {},
   "source": [
    "### Set up destination parameters"
   ]
  },
  {
   "cell_type": "code",
   "execution_count": 3,
   "metadata": {},
   "outputs": [],
   "source": [
    "net_name = 'untrained_random_matched'\n",
    "dest_chckpt_dir = f'{engram_dir}1_checkpoints/{net_name}/'\n",
    "os.makedirs(dest_chckpt_dir, exist_ok=True)"
   ]
  },
  {
   "cell_type": "markdown",
   "metadata": {},
   "source": [
    "### Get source weights"
   ]
  },
  {
   "cell_type": "code",
   "execution_count": 4,
   "metadata": {},
   "outputs": [],
   "source": [
    "source_net_name = 'pnet'\n",
    "source_net_chckpt = 1960\n",
    "source_chckpt_dir = f'{engram_dir}1_checkpoints/{source_net_name}/'\n",
    "source_state_dict_path = f'{source_chckpt_dir}{source_net_name}-{source_net_chckpt}-regular.pth'"
   ]
  },
  {
   "cell_type": "code",
   "execution_count": 5,
   "metadata": {},
   "outputs": [],
   "source": [
    "source_state_dict = torch.load(\n",
    "    source_state_dict_path, map_location=torch.device('cpu'))"
   ]
  },
  {
   "cell_type": "code",
   "execution_count": 15,
   "metadata": {},
   "outputs": [],
   "source": [
    "bias_distrib = np.concatenate((\n",
    "    source_state_dict['pcoder1.pmodule.1.bias'].numpy(),\n",
    "    source_state_dict['pcoder2.pmodule.1.bias'].numpy(),\n",
    "    source_state_dict['pcoder3.pmodule.1.bias'].numpy(),\n",
    "    source_state_dict['pcoder4.pmodule.0.bias'].numpy(),\n",
    "    source_state_dict['pcoder5.pmodule.0.bias'].numpy()\n",
    "    ))"
   ]
  },
  {
   "cell_type": "code",
   "execution_count": 26,
   "metadata": {},
   "outputs": [],
   "source": [
    "for i in range(7):\n",
    "    new_state_dict = torch.load(\n",
    "        source_state_dict_path, map_location=torch.device('cpu'))\n",
    "    for bias_name in [\n",
    "        'pcoder1.pmodule.1.bias', 'pcoder2.pmodule.1.bias',\n",
    "        'pcoder3.pmodule.1.bias', 'pcoder4.pmodule.0.bias',\n",
    "        'pcoder5.pmodule.0.bias']:\n",
    "        new_state_dict[bias_name] = torch.tensor(np.random.choice(\n",
    "            bias_distrib, size=source_state_dict[bias_name].shape\n",
    "            ))\n",
    "\n",
    "    for weight_name in [\n",
    "        'pcoder1.pmodule.1.weight', 'pcoder2.pmodule.1.weight',\n",
    "        'pcoder3.pmodule.1.weight', 'pcoder4.pmodule.0.weight',\n",
    "        'pcoder5.pmodule.0.weight'\n",
    "        ]:\n",
    "        source_distrib = source_state_dict[weight_name].flatten().numpy()\n",
    "        new_state_dict[weight_name] = torch.tensor(np.random.choice(\n",
    "            source_distrib, size=source_state_dict[weight_name].shape\n",
    "            ))\n",
    "    save_path = f'{dest_chckpt_dir}'\n",
    "    save_path += f'{net_name}-{i}-regular.pth'\n",
    "    torch.save(new_state_dict, save_path)"
   ]
  },
  {
   "cell_type": "code",
   "execution_count": null,
   "metadata": {},
   "outputs": [],
   "source": []
  }
 ],
 "metadata": {
  "kernelspec": {
   "display_name": "Python [conda env:.conda-hcnn]",
   "language": "python",
   "name": "conda-env-.conda-hcnn-py"
  },
  "language_info": {
   "codemirror_mode": {
    "name": "ipython",
    "version": 3
   },
   "file_extension": ".py",
   "mimetype": "text/x-python",
   "name": "python",
   "nbconvert_exporter": "python",
   "pygments_lexer": "ipython3",
   "version": "3.7.13"
  }
 },
 "nbformat": 4,
 "nbformat_minor": 2
}
