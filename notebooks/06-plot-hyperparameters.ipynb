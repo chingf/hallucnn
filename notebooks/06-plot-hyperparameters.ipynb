{
 "cells": [
  {
   "cell_type": "code",
   "execution_count": 1,
   "id": "b46f3cd2",
   "metadata": {},
   "outputs": [],
   "source": [
    "import os\n",
    "from tensorboard.backend.event_processing import event_accumulator\n",
    "import matplotlib.pyplot as plt\n",
    "import numpy as np\n",
    "import configs\n",
    "import seaborn as sns\n",
    "import pandas as pd\n",
    "import h5py"
   ]
  },
  {
   "cell_type": "code",
   "execution_count": 2,
   "id": "c5559d76",
   "metadata": {},
   "outputs": [],
   "source": [
    "exp = 'pnet_pt3'\n",
    "engram_dir = '/mnt/smb/locker/abbott-locker/hcnn/'\n",
    "tensorboard_dir = f'{engram_dir}2_hyperp/{exp}/'\n",
    "activations_dir = f'{engram_dir}3_activations/{exp}/'\n",
    "plot_ci = True"
   ]
  },
  {
   "cell_type": "code",
   "execution_count": 3,
   "id": "daa6bfe9",
   "metadata": {},
   "outputs": [],
   "source": [
    "load_valid_scores = True"
   ]
  },
  {
   "cell_type": "markdown",
   "id": "4bea025d",
   "metadata": {},
   "source": [
    "# Helper functions"
   ]
  },
  {
   "cell_type": "code",
   "execution_count": 4,
   "id": "67c81d33",
   "metadata": {},
   "outputs": [],
   "source": [
    "def eval_accuracy(results, timestep=4):\n",
    "    \"\"\" t is the timestep to eval \"\"\"\n",
    "    labels = np.array(results['label'])\n",
    "    timesteps = []\n",
    "    accuracies = []\n",
    "    rel_accuracies = []\n",
    "    ff_corrects = []\n",
    "    clean_corrects = []\n",
    "    n_timesteps = 5\n",
    "    \n",
    "    for i in range(labels.size):\n",
    "        label = labels[i]\n",
    "        ff_acc = None\n",
    "        for t in range(n_timesteps):\n",
    "            output = results[f'{t}_output'][i]\n",
    "            acc_t = (output == label).astype(float)\n",
    "            if t == 0:\n",
    "                ff_acc = acc_t\n",
    "            rel_acc_t = acc_t - ff_acc\n",
    "            if  t != timestep:\n",
    "                continue\n",
    "            timesteps.append(t)\n",
    "            accuracies.append(acc_t)\n",
    "            rel_accuracies.append(rel_acc_t)\n",
    "            ff_corrects.append(ff_acc)\n",
    "            clean_corrects.append(results['clean_correct'][i])\n",
    "\n",
    "    timesteps = np.array(timesteps)\n",
    "    accuracies = np.array(accuracies)\n",
    "    rel_accuracies = np.array(rel_accuracies)\n",
    "    ff_corrects = np.array(ff_corrects)\n",
    "    clean_corrects = np.array(clean_corrects)\n",
    "            \n",
    "    return timesteps, accuracies, rel_accuracies, ff_corrects, clean_corrects"
   ]
  },
  {
   "cell_type": "markdown",
   "id": "b73d66d4",
   "metadata": {},
   "source": [
    "# Collect hyperparameter values"
   ]
  },
  {
   "cell_type": "code",
   "execution_count": 5,
   "id": "8f5acb6f",
   "metadata": {},
   "outputs": [],
   "source": [
    "feedforward = []\n",
    "feedback = []\n",
    "memory = []\n",
    "error_scaling = []\n",
    "iteration = []\n",
    "bg = []\n",
    "snr = []\n",
    "layers = []\n",
    "epochs = []\n",
    "valid_scores = []\n",
    "\n",
    "for tfdir in os.listdir(tensorboard_dir):\n",
    "    if 'hyper' not in tfdir: continue\n",
    "    noise_info = tfdir.split('_')\n",
    "    noise_snr = float(noise_info[-1][3:])\n",
    "    noise_bg = noise_info[1]\n",
    "    \n",
    "    # Collect tensorboard files of interest\n",
    "    tfdir = tensorboard_dir + tfdir + '/'\n",
    "    tfdir_files = os.listdir(tfdir)\n",
    "    if not plot_ci:\n",
    "        if len(tfdir_files) > 1:\n",
    "            print('More than one TF file; check it is correct.')\n",
    "        tfdir_files = [tfdir_files[0]]\n",
    "    \n",
    "    for _iter, tfdir_file in enumerate(tfdir_files):\n",
    "        tf_file = tfdir + tfdir_file\n",
    "        ea = event_accumulator.EventAccumulator(tf_file)\n",
    "        ea.Reload()\n",
    "        try:\n",
    "            _eval_acc = ea.Scalars(f'NoisyPerf/Epoch#80')[0].value\n",
    "        except:\n",
    "            continue   \n",
    "        if load_valid_scores:\n",
    "            file_id = tfdir_file.split('edu.')[-1]\n",
    "            activ_path = f'{activations_dir}{noise_bg}_snr{int(noise_snr)}/{file_id}.hdf5'\n",
    "            activ_results = h5py.File(activ_path, 'r')\n",
    "            _, _, rel_acc, _, _ = eval_accuracy(activ_results)\n",
    "            #_, acc, _, _, _ = eval_accuracy(activ_results)\n",
    "            score = np.mean(rel_acc)\n",
    "\n",
    "        for i in range(1, 6):\n",
    "            _feedforward = [x.value for x in ea.Scalars(f\"Hyperparam/pcoder{i}_feedforward\")]\n",
    "            _feedback = [x.value for x in ea.Scalars(f\"Hyperparam/pcoder{i}_feedback\")]\n",
    "            _memory = [x.value for x in ea.Scalars(f\"Hyperparam/pcoder{i}_memory\")]\n",
    "            _error_scaling = [x.value for x in ea.Scalars(f\"Hyperparam/pcoder{i}_error\")]\n",
    "            \n",
    "            feedforward.extend(_feedforward)\n",
    "            feedback.extend(_feedback)\n",
    "            memory.extend(_memory)\n",
    "            error_scaling.extend(_error_scaling)\n",
    "            layers.extend([i]*len(_feedforward))\n",
    "            epochs.extend([e+1 for e in range(len(_feedforward))])\n",
    "            iteration.extend([_iter]*len(_feedforward))\n",
    "            bg.extend([noise_bg]*len(_feedforward))\n",
    "            snr.extend([noise_snr]*len(_feedforward))\n",
    "            valid_scores.extend([score]*len(_feedforward))\n",
    "\n",
    "# Make pandas dataframe\n",
    "df = pd.DataFrame({\n",
    "    'Feedforward': feedforward,\n",
    "    'Feedback': feedback,\n",
    "    'Memory': memory,\n",
    "    'Error Scaling': error_scaling,\n",
    "    'Background Noise': bg,\n",
    "    'SNR': snr, \n",
    "    'Layer': layers,\n",
    "    'Epoch': epochs,\n",
    "    'Validation Score': valid_scores\n",
    "    })\n"
   ]
  },
  {
   "cell_type": "code",
   "execution_count": null,
   "id": "fbcb459d",
   "metadata": {},
   "outputs": [],
   "source": []
  },
  {
   "cell_type": "code",
   "execution_count": 6,
   "id": "aa955375",
   "metadata": {},
   "outputs": [],
   "source": [
    "max_epoch = np.max(epochs)"
   ]
  },
  {
   "cell_type": "code",
   "execution_count": 7,
   "id": "9e6a19bd",
   "metadata": {},
   "outputs": [],
   "source": [
    "df = df[df['Epoch'] == max_epoch]"
   ]
  },
  {
   "cell_type": "markdown",
   "id": "685f4767",
   "metadata": {},
   "source": [
    "# As a function of SNR, collapsed across layers"
   ]
  },
  {
   "cell_type": "code",
   "execution_count": 8,
   "id": "14d0293c",
   "metadata": {},
   "outputs": [
    {
     "name": "stderr",
     "output_type": "stream",
     "text": [
      "findfont: Font family ['Arial'] not found. Falling back to DejaVu Sans.\n",
      "findfont: Font family ['Arial'] not found. Falling back to DejaVu Sans.\n"
     ]
    },
    {
     "data": {
      "image/png": "[encoded data removed]",
      "text/plain": [
       "<Figure size 864x216 with 4 Axes>"
      ]
     },
     "metadata": {
      "needs_background": "light"
     },
     "output_type": "display_data"
    }
   ],
   "source": [
    "fig, axs = plt.subplots(1, 4, figsize = (12,3))\n",
    "sns.lineplot(\n",
    "    x='SNR', y='Feedforward', ax=axs[0], data=df)\n",
    "sns.lineplot(\n",
    "    x='SNR', y='Feedback', ax=axs[1], data=df, legend=None)\n",
    "sns.lineplot(\n",
    "    x='SNR', y='Memory', ax=axs[2], data=df, legend=None)\n",
    "sns.lineplot(\n",
    "    x='SNR', y='Error Scaling', ax=axs[3], data=df, legend=None)\n",
    "for ax in axs:\n",
    "    ax.set_ylim(-0.01, 0.5)\n",
    "    #ax.axhline(0, color='blue', linestyle='--')\n",
    "plt.tight_layout()\n",
    "plt.show()"
   ]
  },
  {
   "cell_type": "markdown",
   "id": "bb190749",
   "metadata": {},
   "source": [
    "# As a function of layers, collapsed across SNR/BG"
   ]
  },
  {
   "cell_type": "code",
   "execution_count": 9,
   "id": "4701d3f4",
   "metadata": {},
   "outputs": [
    {
     "name": "stderr",
     "output_type": "stream",
     "text": [
      "findfont: Font family ['Arial'] not found. Falling back to DejaVu Sans.\n"
     ]
    },
    {
     "data": {
      "image/png": "[encoded data removed]",
      "text/plain": [
       "<Figure size 864x216 with 4 Axes>"
      ]
     },
     "metadata": {
      "needs_background": "light"
     },
     "output_type": "display_data"
    },
    {
     "name": "stdout",
     "output_type": "stream",
     "text": [
      "\n",
      "\n",
      "\n"
     ]
    }
   ],
   "source": [
    "fig, axs = plt.subplots(1, 4, figsize = (12,3))\n",
    "sns.lineplot(\n",
    "    x='Layer', y='Feedforward', ax=axs[0], data=df)\n",
    "sns.lineplot(\n",
    "    x='Layer', y='Feedback', ax=axs[1], data=df[df['Layer']!=5],\n",
    "    legend=None)\n",
    "axs[1].scatter(\n",
    "    5, 0., marker='X', color='C0', alpha=0.8, s=150, linewidths=0)\n",
    "sns.lineplot(\n",
    "    x='Layer', y='Memory', ax=axs[2], data=df, legend=None)\n",
    "sns.lineplot(\n",
    "    x='Layer', y='Error Scaling', ax=axs[3], data=df,\n",
    "    legend=None)\n",
    "for ax in axs:\n",
    "    ax.set_ylim(-0.05, 0.8)\n",
    "    ax.set_xticks([1,2,3,4,5])\n",
    "    ax.set_yticks([0.0, 0.5])\n",
    "plt.suptitle(f'All Background Noises and SNRs', fontsize=14)\n",
    "plt.tight_layout()\n",
    "plt.show()\n",
    "print('\\n\\n')"
   ]
  },
  {
   "cell_type": "markdown",
   "id": "494e1d2b",
   "metadata": {},
   "source": [
    "# Hyperparameters, scaled by performance"
   ]
  },
  {
   "cell_type": "code",
   "execution_count": 10,
   "id": "a19ef937",
   "metadata": {},
   "outputs": [],
   "source": [
    "new_df = df.copy()\n",
    "for bg in np.unique(df['Background Noise']):\n",
    "    for snr in np.unique(df['SNR']):\n",
    "        scores = df[\n",
    "            (df['Background Noise'] == bg) & (df['SNR'] == snr)\n",
    "            ]['Validation Score']\n",
    "        max_score = np.max(scores)\n",
    "        min_score = np.min(scores)\n",
    "        new_df.loc[\n",
    "            (new_df['Background Noise'] == bg) & (new_df['SNR'] == snr)\n",
    "            , ['Validation Score']] = (scores - min_score)/(max_score+1E-5)"
   ]
  },
  {
   "cell_type": "code",
   "execution_count": 11,
   "id": "0a838bf6",
   "metadata": {},
   "outputs": [
    {
     "data": {
      "image/png": "[encoded data removed]",
      "text/plain": [
       "<Figure size 864x216 with 4 Axes>"
      ]
     },
     "metadata": {
      "needs_background": "light"
     },
     "output_type": "display_data"
    }
   ],
   "source": [
    "fig, axs = plt.subplots(1, 4, figsize = (12,3))\n",
    "for hyp_idx, hyp in enumerate(['Feedforward', 'Feedback', 'Memory', 'Error Scaling']):\n",
    "    layerwise_plot = []\n",
    "    for layer in np.arange(1, 6):\n",
    "        scores = new_df[new_df['Layer'] == layer]['Validation Score']\n",
    "        hyp_vals = new_df[new_df['Layer'] == layer][hyp]\n",
    "        weighted_hyp_vals = np.average(hyp_vals, weights=scores)\n",
    "        if hyp == 'Feedback' and layer == 5: break\n",
    "        layerwise_plot.append(weighted_hyp_vals)\n",
    "    axs[hyp_idx].plot(layerwise_plot)\n",
    "    axs[hyp_idx].set_title(hyp)\n",
    "axs[1].scatter(4, 0., marker='X', color='C0', alpha=0.8, s=150, linewidths=0)\n",
    "for ax in axs:\n",
    "    ax.set_ylim(-0.05, 0.8)\n",
    "    ax.set_xticks(np.arange(5), np.arange(5)+1)\n",
    "    ax.set_yticks([0.0, 0.5])\n",
    "    ax.set_xlabel('Layer')\n",
    "plt.suptitle(f'All Background Noises and SNRs', fontsize=14)\n",
    "plt.tight_layout()\n",
    "plt.show()"
   ]
  },
  {
   "cell_type": "code",
   "execution_count": null,
   "id": "ea4d159f",
   "metadata": {},
   "outputs": [],
   "source": [
    "fig, axs = plt.subplots(1, 4, figsize = (12,3))\n",
    "for hyp_idx, hyp in enumerate(['Feedforward', 'Feedback', 'Memory', 'Error Scaling']):\n",
    "    layerwise_plot = []\n",
    "    snr_list = [-9., -6., -3.,  0.,  3.]\n",
    "    for snr in snr_list:\n",
    "        scores = new_df[new_df['SNR'] == snr]['Validation Score']\n",
    "        hyp_vals = new_df[new_df['SNR'] == snr][hyp]\n",
    "        weighted_hyp_vals = np.average(hyp_vals, weights=scores)\n",
    "        layerwise_plot.append(weighted_hyp_vals)\n",
    "    axs[hyp_idx].plot(layerwise_plot)\n",
    "    axs[hyp_idx].set_title(hyp)\n",
    "for ax in axs:\n",
    "    ax.set_ylim(-0.01, 0.5)\n",
    "    ax.set_xticks(np.arange(len(snr_list)), snr_list)\n",
    "    #ax.set_yticks([0.0, 0.5])\n",
    "    ax.set_xlabel('SNR')\n",
    "plt.suptitle(f'All Background Noises and Layers', fontsize=14)\n",
    "plt.tight_layout()\n",
    "plt.show()"
   ]
  },
  {
   "cell_type": "code",
   "execution_count": null,
   "id": "639931fc",
   "metadata": {},
   "outputs": [],
   "source": []
  }
 ],
 "metadata": {
  "kernelspec": {
   "display_name": "Python 3 (ipykernel)",
   "language": "python",
   "name": "python3"
  },
  "language_info": {
   "codemirror_mode": {
    "name": "ipython",
    "version": 3
   },
   "file_extension": ".py",
   "mimetype": "text/x-python",
   "name": "python",
   "nbconvert_exporter": "python",
   "pygments_lexer": "ipython3",
   "version": "3.7.13"
  }
 },
 "nbformat": 4,
 "nbformat_minor": 5
}
