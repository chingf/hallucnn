{
 "cells": [
  {
   "cell_type": "code",
   "execution_count": 85,
   "id": "1d516823",
   "metadata": {},
   "outputs": [],
   "source": [
    "import h5py\n",
    "import numpy as np\n",
    "import pickle"
   ]
  },
  {
   "cell_type": "markdown",
   "id": "907c5da2",
   "metadata": {},
   "source": [
    "# Parameters"
   ]
  },
  {
   "cell_type": "code",
   "execution_count": 1,
   "id": "16d68e8e",
   "metadata": {},
   "outputs": [],
   "source": [
    "bgs = ['Babble8Spkr']\n",
    "snrs = [-9]"
   ]
  },
  {
   "cell_type": "code",
   "execution_count": 57,
   "id": "c6f14034",
   "metadata": {},
   "outputs": [],
   "source": [
    "cgram_dir = '/mnt/smb/locker/abbott-locker/hcnn/'"
   ]
  },
  {
   "cell_type": "code",
   "execution_count": 58,
   "id": "502481f8",
   "metadata": {},
   "outputs": [],
   "source": [
    "f_in = h5py.File(f'{cgram_dir}auditory_scene_-9_fixed.hdf5', 'r')"
   ]
  },
  {
   "cell_type": "code",
   "execution_count": 59,
   "id": "ddb137b1",
   "metadata": {},
   "outputs": [],
   "source": [
    "is_valid = np.array(f_in['is_valid'])"
   ]
  },
  {
   "cell_type": "code",
   "execution_count": 71,
   "id": "d79feb32",
   "metadata": {},
   "outputs": [],
   "source": [
    "labels = np.array(f_in['labels'])"
   ]
  },
  {
   "cell_type": "code",
   "execution_count": 64,
   "id": "8fdaf5d1",
   "metadata": {},
   "outputs": [],
   "source": [
    "data = np.array(f_in['data'])"
   ]
  },
  {
   "cell_type": "code",
   "execution_count": 65,
   "id": "94d40d06",
   "metadata": {},
   "outputs": [
    {
     "data": {
      "text/plain": [
       "(5000, 65600)"
      ]
     },
     "execution_count": 65,
     "metadata": {},
     "output_type": "execute_result"
    }
   ],
   "source": [
    "data.shape"
   ]
  },
  {
   "cell_type": "code",
   "execution_count": 66,
   "id": "24a28525",
   "metadata": {},
   "outputs": [
    {
     "name": "stdout",
     "output_type": "stream",
     "text": [
      "0\n",
      "[]\n"
     ]
    }
   ],
   "source": [
    "blanks = []\n",
    "for x in range(5000):\n",
    "    if np.sum(data[x]) == 0:\n",
    "        blanks.append(x)\n",
    "print(len(blanks))\n",
    "print(blanks)"
   ]
  },
  {
   "cell_type": "code",
   "execution_count": 69,
   "id": "39e15c44",
   "metadata": {},
   "outputs": [],
   "source": [
    "key = np.load(f'{cgram_dir}PsychophysicsWord2017W_999c6fc475be1e82e114ab9865aa5459e4fd329d.__META_key.npy')"
   ]
  },
  {
   "cell_type": "code",
   "execution_count": 81,
   "id": "4204eb86",
   "metadata": {},
   "outputs": [],
   "source": [
    "new_labels = np.array([\n",
    "    np.argwhere(key==l).item() for l in labels\n",
    "    ])"
   ]
  },
  {
   "cell_type": "code",
   "execution_count": 87,
   "id": "f4743b97",
   "metadata": {},
   "outputs": [
    {
     "data": {
      "text/plain": [
       "(530,)"
      ]
     },
     "execution_count": 87,
     "metadata": {},
     "output_type": "execute_result"
    }
   ],
   "source": [
    "key.shape"
   ]
  },
  {
   "cell_type": "code",
   "execution_count": null,
   "id": "952c5e1c",
   "metadata": {},
   "outputs": [],
   "source": []
  }
 ],
 "metadata": {
  "kernelspec": {
   "display_name": "Python 3",
   "language": "python",
   "name": "python3"
  },
  "language_info": {
   "codemirror_mode": {
    "name": "ipython",
    "version": 3
   },
   "file_extension": ".py",
   "mimetype": "text/x-python",
   "name": "python",
   "nbconvert_exporter": "python",
   "pygments_lexer": "ipython3",
   "version": "3.6.13"
  }
 },
 "nbformat": 4,
 "nbformat_minor": 5
}
