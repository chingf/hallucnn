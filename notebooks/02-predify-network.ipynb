{
 "cells": [
  {
   "cell_type": "code",
   "execution_count": 1,
   "id": "f6b53ab0",
   "metadata": {},
   "outputs": [],
   "source": [
    "import predify\n",
    "from networks_2022 import BranchedNetwork"
   ]
  },
  {
   "cell_type": "code",
   "execution_count": 2,
   "id": "a5c2d5a5",
   "metadata": {},
   "outputs": [
    {
     "name": "stderr",
     "output_type": "stream",
     "text": [
      "/share/issa/users/es3773/hallucnn/src/models/layers.py:78: UserWarning: Inconsistent tf pad calculation in ConvLayer.\n",
      "  warnings.warn('Inconsistent tf pad calculation in ConvLayer.')\n",
      "/share/issa/users/es3773/hallucnn/src/models/layers.py:173: UserWarning: Inconsistent tf pad calculation: 0, 1\n",
      "  warnings.warn(f'Inconsistent tf pad calculation: {pad_left}, {pad_right}')\n"
     ]
    }
   ],
   "source": [
    "net = BranchedNetwork()"
   ]
  },
  {
   "cell_type": "code",
   "execution_count": 7,
   "id": "1237af1a",
   "metadata": {},
   "outputs": [],
   "source": [
    "toml_file = 'shared'"
   ]
  },
  {
   "cell_type": "code",
   "execution_count": 8,
   "id": "78a8a954",
   "metadata": {},
   "outputs": [],
   "source": [
    "predify.predify(net, f'pconfigs/{toml_file}.toml')"
   ]
  },
  {
   "cell_type": "code",
   "execution_count": null,
   "id": "e2595f0b",
   "metadata": {},
   "outputs": [],
   "source": []
  }
 ],
 "metadata": {
  "kernelspec": {
   "display_name": "Python 3",
   "language": "python",
   "name": "python3"
  },
  "language_info": {
   "codemirror_mode": {
    "name": "ipython",
    "version": 3
   },
   "file_extension": ".py",
   "mimetype": "text/x-python",
   "name": "python",
   "nbconvert_exporter": "python",
   "pygments_lexer": "ipython3",
   "version": "3.6.13"
  }
 },
 "nbformat": 4,
 "nbformat_minor": 5
}
