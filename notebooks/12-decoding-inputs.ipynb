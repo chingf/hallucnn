{
 "cells": [
  {
   "cell_type": "code",
   "execution_count": 1,
   "metadata": {},
   "outputs": [],
   "source": [
    "import os\n",
    "import sys\n",
    "import numpy as np\n",
    "import h5py\n",
    "import matplotlib.pyplot as plt\n",
    "import pandas as pd\n",
    "import pickle\n",
    "import seaborn as sns\n",
    "import datetime\n",
    "from scipy.stats import sem\n",
    "import matplotlib.cm as cm\n",
    "import pathlib\n",
    "import traceback\n",
    "import configs\n",
    "\n",
    "import torch\n",
    "from torch.utils.tensorboard import SummaryWriter\n",
    "from torch.utils.data import DataLoader\n",
    "from torch.utils.data import Subset\n",
    "from predify.utils.training import train_pcoders, eval_pcoders\n",
    "\n",
    "from models.networks_2022 import BranchedNetwork"
   ]
  },
  {
   "cell_type": "code",
   "execution_count": 2,
   "metadata": {},
   "outputs": [],
   "source": [
    "netname = 'pnet'\n",
    "engram_dir = '/mnt/smb/locker/abbott-locker/hcnn/'\n",
    "activations_dir = f'{engram_dir}3_activations/{netname}/'"
   ]
  },
  {
   "cell_type": "code",
   "execution_count": 3,
   "metadata": {},
   "outputs": [
    {
     "name": "stdout",
     "output_type": "stream",
     "text": [
      "Device: cpu\n"
     ]
    }
   ],
   "source": [
    "DEVICE = 'cuda:0' if torch.cuda.is_available() else 'cpu'\n",
    "print(f'Device: {DEVICE}')"
   ]
  },
  {
   "cell_type": "code",
   "execution_count": 4,
   "metadata": {},
   "outputs": [],
   "source": [
    "bgs = ['pinkNoise', 'AudScene', 'Babble8Spkr']\n",
    "snrs = [-9.0, -6.0, -3.0, 0.0, 3.0]"
   ]
  },
  {
   "cell_type": "code",
   "execution_count": 5,
   "metadata": {},
   "outputs": [],
   "source": [
    "for bg in bgs:\n",
    "    for snr in snrs:\n",
    "        activ_dir = f'{activations_dir}{bg}_snr{int(snr)}/'\n",
    "        for results_file in os.listdir(activ_dir):\n",
    "            results_filepath = f'{activ_dir}{results_file}'\n",
    "            results = h5py.File(results_filepath, 'r')\n",
    "        break\n",
    "    break"
   ]
  },
  {
   "cell_type": "code",
   "execution_count": 6,
   "metadata": {},
   "outputs": [
    {
     "data": {
      "text/plain": [
       "<KeysViewHDF5 ['0_clean_logits', '0_clean_output', '0_logits', '0_output', '1_clean_logits', '1_clean_output', '1_logits', '1_output', '2_clean_logits', '2_clean_output', '2_logits', '2_output', '3_clean_logits', '3_clean_output', '3_logits', '3_output', '4_clean_logits', '4_clean_output', '4_logits', '4_output', 'clean_correct', 'conv1_0_activations', 'conv1_0_clean_activations', 'conv1_1_activations', 'conv1_1_clean_activations', 'conv1_2_activations', 'conv1_2_clean_activations', 'conv1_3_activations', 'conv1_3_clean_activations', 'conv1_4_activations', 'conv1_4_clean_activations', 'conv2_0_activations', 'conv2_0_clean_activations', 'conv2_1_activations', 'conv2_1_clean_activations', 'conv2_2_activations', 'conv2_2_clean_activations', 'conv2_3_activations', 'conv2_3_clean_activations', 'conv2_4_activations', 'conv2_4_clean_activations', 'conv3_0_activations', 'conv3_0_clean_activations', 'conv3_1_activations', 'conv3_1_clean_activations', 'conv3_2_activations', 'conv3_2_clean_activations', 'conv3_3_activations', 'conv3_3_clean_activations', 'conv3_4_activations', 'conv3_4_clean_activations', 'conv4_W_0_activations', 'conv4_W_0_clean_activations', 'conv4_W_1_activations', 'conv4_W_1_clean_activations', 'conv4_W_2_activations', 'conv4_W_2_clean_activations', 'conv4_W_3_activations', 'conv4_W_3_clean_activations', 'conv4_W_4_activations', 'conv4_W_4_clean_activations', 'conv5_W_0_activations', 'conv5_W_0_clean_activations', 'conv5_W_1_activations', 'conv5_W_1_clean_activations', 'conv5_W_2_activations', 'conv5_W_2_clean_activations', 'conv5_W_3_activations', 'conv5_W_3_clean_activations', 'conv5_W_4_activations', 'conv5_W_4_clean_activations', 'fc6_W_0_activations', 'fc6_W_0_clean_activations', 'fc6_W_1_activations', 'fc6_W_1_clean_activations', 'fc6_W_2_activations', 'fc6_W_2_clean_activations', 'fc6_W_3_activations', 'fc6_W_3_clean_activations', 'fc6_W_4_activations', 'fc6_W_4_clean_activations', 'label', 'pnet_correct']>"
      ]
     },
     "execution_count": 6,
     "metadata": {},
     "output_type": "execute_result"
    }
   ],
   "source": [
    "results.keys()"
   ]
  },
  {
   "cell_type": "code",
   "execution_count": 7,
   "metadata": {},
   "outputs": [
    {
     "data": {
      "text/plain": [
       "array([  0.,   1.,   2.,   3.,   4.,   5.,   6.,   7.,   8.,   9.,  10.,\n",
       "        11.,  12.,  13.,   0.,  14.,  15.,  16.,  17.,  18.,   0.,  22.,\n",
       "        23.,  24.,  25.,  26.,  27.,  28.,  29.,  31.,  32.,  33.,  34.,\n",
       "        35.,  36.,  37.,  38.,  39.,  40.,  41.,  42.,  43.,  44.,  45.,\n",
       "         0.,  46.,  47.,  48.,  49.,  50.,  51.,  52.,  53.,  54.,  55.,\n",
       "        56.,  57.,   0.,  58.,  59.,  60.,  61.,  62.,  63.,  64.,  65.,\n",
       "        66.,  67.,  68.,  69.,  70.,  71.,  72.,  73.,  74.,  75.,  76.,\n",
       "        77.,  79.,  80.,   0.,  81.,  82.,  83.,  84.,  85.,   0.,  86.,\n",
       "        87.,  88.,  89.,  90.,  91.,  92.,  93.,  94.,  95.,  96.,  97.,\n",
       "        98.,  99., 100., 102., 103., 104., 105., 106., 107., 109., 110.,\n",
       "       111., 112.,   0., 113., 114., 115., 116., 117., 118., 119., 120.,\n",
       "       121., 122., 123., 124., 125., 126., 127., 128., 129., 130., 131.,\n",
       "       132., 133., 134., 135., 136., 137.,   0., 138., 139., 140., 141.,\n",
       "       142., 143., 144.,   0., 145.,   0., 146., 147., 148., 149.,   0.,\n",
       "       150., 151., 152., 153., 154., 155., 156., 157., 158., 159., 160.,\n",
       "       161., 162., 163., 164., 165., 166., 167., 168., 169., 170., 171.,\n",
       "       172., 173., 174., 175., 176., 177., 178., 179., 180., 181., 182.,\n",
       "       183., 184., 185., 186., 187., 188., 189., 190., 191., 192.,   0.,\n",
       "       193., 194., 195., 196., 197., 198., 199., 200., 201., 202., 203.,\n",
       "       204., 205., 206., 207., 208., 209., 210., 211.,   0., 212., 213.,\n",
       "       214.,   0., 215., 216., 217., 218., 219., 220., 221., 222., 223.,\n",
       "         0.,   0., 224., 225., 226., 227., 228., 229.,   0., 230., 231.,\n",
       "       232., 233., 234., 235., 236., 237., 238., 239., 240., 241., 242.,\n",
       "       243., 244., 245., 246., 247., 248.,   0., 249., 251., 252., 253.,\n",
       "       254., 255., 256., 257., 258., 259., 260., 261., 262., 263., 264.,\n",
       "         0., 265., 266., 267., 268., 269., 270., 271., 272., 273., 274.,\n",
       "       276., 277., 278., 279., 280., 281., 282.,   0., 283., 284., 285.,\n",
       "       286., 287.,   0., 288.,   0., 289., 291., 292., 293., 294.,   0.,\n",
       "       295., 296., 297., 298., 299., 300., 301., 302., 303., 304.,   0.,\n",
       "         0., 305.,   0.,   0., 306., 307., 308., 309., 311., 312., 314.,\n",
       "       315., 316., 317., 318., 319., 320., 321., 322., 323., 324., 325.,\n",
       "       326., 327., 328.,   0., 330., 331., 332., 333., 334., 335., 336.,\n",
       "       337.,   0., 338., 339., 340.,   0., 341., 342., 343., 344.,   0.,\n",
       "       345., 346., 347., 348., 349., 350., 351., 352., 353., 354., 355.,\n",
       "       356., 357., 358., 359., 360., 361., 362., 363., 364., 365., 366.,\n",
       "       367., 368., 369., 370., 371., 372., 373., 374., 375., 376., 377.,\n",
       "       378., 379., 380., 381., 382., 383., 384., 385., 386., 387., 388.,\n",
       "       389., 390., 391., 392., 393., 394., 395., 396., 397., 398., 399.,\n",
       "       400., 401., 402., 403., 404., 405., 406., 407., 408., 409., 410.,\n",
       "       411., 412., 413., 414., 415., 416.,   0., 417., 418., 419., 421.,\n",
       "       422., 423., 424., 425., 426., 427., 428., 429., 430., 431., 432.,\n",
       "         0., 433., 434., 435., 436., 437., 438., 439.,   0., 440., 442.,\n",
       "       443., 444., 445., 446., 447., 448., 449., 450., 451., 452., 453.,\n",
       "       454., 455., 456., 457., 458., 459., 460., 461.,   0., 463., 464.,\n",
       "       465., 466., 467.,   0., 468., 469., 470., 471., 472., 473., 474.,\n",
       "       475., 476., 477., 478.,   0., 479.,   0.,   0., 480.,   0., 481.,\n",
       "       482.,   0., 483., 484., 485.,   0., 486.,   0., 487., 488., 489.,\n",
       "       490., 491., 492., 493., 495., 496., 497., 498., 499.],\n",
       "      dtype=float32)"
      ]
     },
     "execution_count": 7,
     "metadata": {},
     "output_type": "execute_result"
    }
   ],
   "source": [
    "np.array(results['label'])"
   ]
  },
  {
   "cell_type": "code",
   "execution_count": 8,
   "metadata": {},
   "outputs": [],
   "source": [
    "from data.ValidationDataset import NoisyDataset"
   ]
  },
  {
   "cell_type": "code",
   "execution_count": 9,
   "metadata": {},
   "outputs": [
    {
     "ename": "ValueError",
     "evalue": "invalid literal for int() with base 10: '-9.0'",
     "output_type": "error",
     "traceback": [
      "\u001b[0;31m---------------------------------------------------------------------------\u001b[0m",
      "\u001b[0;31mValueError\u001b[0m                                Traceback (most recent call last)",
      "\u001b[0;32m/tmp/ipykernel_2890/3642532316.py\u001b[0m in \u001b[0;36m<module>\u001b[0;34m\u001b[0m\n\u001b[0;32m----> 1\u001b[0;31m \u001b[0mx\u001b[0m \u001b[0;34m=\u001b[0m \u001b[0mNoisyDataset\u001b[0m\u001b[0;34m(\u001b[0m\u001b[0;34m'pinkNoise'\u001b[0m\u001b[0;34m,\u001b[0m \u001b[0;34m'-9.0'\u001b[0m\u001b[0;34m)\u001b[0m\u001b[0;34m\u001b[0m\u001b[0;34m\u001b[0m\u001b[0m\n\u001b[0m",
      "\u001b[0;32m/share/ctn/users/cf2794/Code/hallucnn/src/data/ValidationDataset.py\u001b[0m in \u001b[0;36m__init__\u001b[0;34m(self, bg, snr, orig_dset)\u001b[0m\n\u001b[1;32m     50\u001b[0m         \u001b[0;32melse\u001b[0m\u001b[0;34m:\u001b[0m\u001b[0;34m\u001b[0m\u001b[0;34m\u001b[0m\u001b[0m\n\u001b[1;32m     51\u001b[0m             with h5py.File(\n\u001b[0;32m---> 52\u001b[0;31m                 \u001b[0;34mf'{engram_dir}psychophysics_{bg}_{int(snr)}_fixed.hdf5'\u001b[0m\u001b[0;34m,\u001b[0m \u001b[0;34m'r'\u001b[0m\u001b[0;34m\u001b[0m\u001b[0;34m\u001b[0m\u001b[0m\n\u001b[0m\u001b[1;32m     53\u001b[0m                 ) as f:\n\u001b[1;32m     54\u001b[0m                 \u001b[0mself\u001b[0m\u001b[0;34m.\u001b[0m\u001b[0mnoisy_in\u001b[0m \u001b[0;34m=\u001b[0m \u001b[0mnp\u001b[0m\u001b[0;34m.\u001b[0m\u001b[0marray\u001b[0m\u001b[0;34m(\u001b[0m\u001b[0mf\u001b[0m\u001b[0;34m[\u001b[0m\u001b[0;34m'data'\u001b[0m\u001b[0;34m]\u001b[0m\u001b[0;34m)\u001b[0m\u001b[0;34m.\u001b[0m\u001b[0mreshape\u001b[0m\u001b[0;34m(\u001b[0m\u001b[0;34m(\u001b[0m\u001b[0;34m-\u001b[0m\u001b[0;36m1\u001b[0m\u001b[0;34m,\u001b[0m \u001b[0;36m164\u001b[0m\u001b[0;34m,\u001b[0m \u001b[0;36m400\u001b[0m\u001b[0;34m)\u001b[0m\u001b[0;34m)\u001b[0m\u001b[0;34m*\u001b[0m\u001b[0;36m1000\u001b[0m\u001b[0;34m\u001b[0m\u001b[0;34m\u001b[0m\u001b[0m\n",
      "\u001b[0;31mValueError\u001b[0m: invalid literal for int() with base 10: '-9.0'"
     ]
    }
   ],
   "source": [
    "x = NoisyDataset('pinkNoise', '-9.0')"
   ]
  },
  {
   "cell_type": "code",
   "execution_count": null,
   "metadata": {},
   "outputs": [],
   "source": []
  }
 ],
 "metadata": {
  "kernelspec": {
   "display_name": "Python [conda env:.conda-hcnn]",
   "language": "python",
   "name": "conda-env-.conda-hcnn-py"
  },
  "language_info": {
   "codemirror_mode": {
    "name": "ipython",
    "version": 3
   },
   "file_extension": ".py",
   "mimetype": "text/x-python",
   "name": "python",
   "nbconvert_exporter": "python",
   "pygments_lexer": "ipython3",
   "version": "3.7.13"
  }
 },
 "nbformat": 4,
 "nbformat_minor": 2
}
