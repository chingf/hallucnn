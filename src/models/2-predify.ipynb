{
 "cells": [
  {
   "cell_type": "code",
   "execution_count": 1,
   "id": "61b194bc",
   "metadata": {},
   "outputs": [],
   "source": [
    "import predify\n",
    "from networks_2022 import BranchedNetwork"
   ]
  },
  {
   "cell_type": "code",
   "execution_count": 2,
   "id": "dcc6f67a",
   "metadata": {},
   "outputs": [
    {
     "name": "stderr",
     "output_type": "stream",
     "text": [
      "/share/issa/users/es3773/temp-hallucnn/src/models/layers.py:78: UserWarning: Inconsistent tf pad calculation in ConvLayer.\n",
      "  warnings.warn('Inconsistent tf pad calculation in ConvLayer.')\n",
      "/share/issa/users/es3773/temp-hallucnn/src/models/layers.py:173: UserWarning: Inconsistent tf pad calculation: 0, 1\n",
      "  warnings.warn(f'Inconsistent tf pad calculation: {pad_left}, {pad_right}')\n"
     ]
    }
   ],
   "source": [
    "net = BranchedNetwork()"
   ]
  },
  {
   "cell_type": "code",
   "execution_count": 3,
   "id": "114f45b6",
   "metadata": {},
   "outputs": [
    {
     "name": "stderr",
     "output_type": "stream",
     "text": [
      "/share/issa/users/es3773/predify/predify/base.py:158: UserWarning: 'predictor' is not defined for PCoder number 0. A default module will be inferred based on the other PCoders.\n",
      "  config = parse_toml(config_file)\n",
      "/share/issa/users/es3773/predify/predify/base.py:158: UserWarning: 'hyperparameters' is not defined for PCoder number 0. Default values of feedforward=0.3, feedback=0.3, pc=0.01 will be set.\n",
      "  config = parse_toml(config_file)\n",
      "/home/es3773/.local/lib/python3.7/site-packages/torch/nn/functional.py:780: UserWarning: Note that order of the arguments: ceil_mode and return_indices will changeto match the args list in nn.MaxPool2d in a future release.\n",
      "  warnings.warn(\"Note that order of the arguments: ceil_mode and return_indices will change\"\n"
     ]
    }
   ],
   "source": [
    "predify.predify(net, 'pconfigs/conv1_default.toml')"
   ]
  },
  {
   "cell_type": "code",
   "execution_count": 5,
   "id": "f63abe76",
   "metadata": {},
   "outputs": [
    {
     "name": "stderr",
     "output_type": "stream",
     "text": [
      "/Users/chingfang/opt/anaconda3/envs/hcnn/lib/python3.9/site-packages/predify/base.py:158: UserWarning: 'predictor' is not defined for PCoder number 0. A default module will be inferred based on the other PCoders.\n",
      "  config = parse_toml(config_file)\n",
      "/Users/chingfang/opt/anaconda3/envs/hcnn/lib/python3.9/site-packages/predify/base.py:158: UserWarning: 'hyperparameters' is not defined for PCoder number 0. Default values of feedforward=0.3, feedback=0.3, pc=0.01 will be set.\n",
      "  config = parse_toml(config_file)\n",
      "/Users/chingfang/opt/anaconda3/envs/hcnn/lib/python3.9/site-packages/predify/base.py:158: UserWarning: 'predictor' is not defined for PCoder number 1. A default module will be inferred based on the other PCoders.\n",
      "  config = parse_toml(config_file)\n",
      "/Users/chingfang/opt/anaconda3/envs/hcnn/lib/python3.9/site-packages/predify/base.py:158: UserWarning: 'hyperparameters' is not defined for PCoder number 1. Default values of feedforward=0.3, feedback=0.3, pc=0.01 will be set.\n",
      "  config = parse_toml(config_file)\n",
      "/Users/chingfang/opt/anaconda3/envs/hcnn/lib/python3.9/site-packages/predify/base.py:158: UserWarning: 'predictor' is not defined for PCoder number 2. A default module will be inferred based on the other PCoders.\n",
      "  config = parse_toml(config_file)\n",
      "/Users/chingfang/opt/anaconda3/envs/hcnn/lib/python3.9/site-packages/predify/base.py:158: UserWarning: 'hyperparameters' is not defined for PCoder number 2. Default values of feedforward=0.3, feedback=0.3, pc=0.01 will be set.\n",
      "  config = parse_toml(config_file)\n",
      "/Users/chingfang/opt/anaconda3/envs/hcnn/lib/python3.9/site-packages/torch/nn/functional.py:780: UserWarning: Note that order of the arguments: ceil_mode and return_indices will changeto match the args list in nn.MaxPool2d in a future release.\n",
      "  warnings.warn(\"Note that order of the arguments: ceil_mode and return_indices will change\"\n"
     ]
    }
   ],
   "source": [
    "predify.predify(net, 'pconfigs/a1_default.toml')"
   ]
  },
  {
   "cell_type": "code",
   "execution_count": 6,
   "id": "a2c35381",
   "metadata": {},
   "outputs": [
    {
     "name": "stderr",
     "output_type": "stream",
     "text": [
      "/Users/chingfang/opt/anaconda3/envs/hcnn/lib/python3.9/site-packages/predify/base.py:158: UserWarning: 'predictor' is not defined for PCoder number 3. A default module will be inferred based on the other PCoders.\n",
      "  config = parse_toml(config_file)\n",
      "/Users/chingfang/opt/anaconda3/envs/hcnn/lib/python3.9/site-packages/predify/base.py:158: UserWarning: 'hyperparameters' is not defined for PCoder number 3. Default values of feedforward=0.3, feedback=0.3, pc=0.01 will be set.\n",
      "  config = parse_toml(config_file)\n",
      "/Users/chingfang/opt/anaconda3/envs/hcnn/lib/python3.9/site-packages/predify/base.py:158: UserWarning: 'predictor' is not defined for PCoder number 4. A default module will be inferred based on the other PCoders.\n",
      "  config = parse_toml(config_file)\n",
      "/Users/chingfang/opt/anaconda3/envs/hcnn/lib/python3.9/site-packages/predify/base.py:158: UserWarning: 'hyperparameters' is not defined for PCoder number 4. Default values of feedforward=0.3, feedback=0.3, pc=0.01 will be set.\n",
      "  config = parse_toml(config_file)\n"
     ]
    }
   ],
   "source": [
    "predify.predify(net, 'pconfigs/all_default.toml')"
   ]
  },
  {
   "cell_type": "code",
   "execution_count": null,
   "id": "ae0b2a41",
   "metadata": {},
   "outputs": [],
   "source": []
  }
 ],
 "metadata": {
  "kernelspec": {
   "display_name": "Python 3 (ipykernel)",
   "language": "python",
   "name": "python3"
  },
  "language_info": {
   "codemirror_mode": {
    "name": "ipython",
    "version": 3
   },
   "file_extension": ".py",
   "mimetype": "text/x-python",
   "name": "python",
   "nbconvert_exporter": "python",
   "pygments_lexer": "ipython3",
   "version": "3.9.7"
  }
 },
 "nbformat": 4,
 "nbformat_minor": 5
}
