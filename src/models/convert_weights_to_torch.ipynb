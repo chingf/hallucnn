{
 "cells": [
  {
   "cell_type": "code",
   "execution_count": 1,
   "id": "76e047c9",
   "metadata": {},
   "outputs": [],
   "source": [
    "import numpy as np\n",
    "import os\n",
    "import sys\n",
    "import torch\n",
    "import pickle\n",
    "import re\n",
    "from collections import OrderedDict\n",
    "from networks_2022 import BranchedNetwork"
   ]
  },
  {
   "cell_type": "code",
   "execution_count": 2,
   "id": "8e62bcbf",
   "metadata": {},
   "outputs": [],
   "source": [
    "# process raw weights "
   ]
  },
  {
   "cell_type": "code",
   "execution_count": 4,
   "id": "e891a740",
   "metadata": {},
   "outputs": [],
   "source": [
    "import pickle"
   ]
  },
  {
   "cell_type": "code",
   "execution_count": 5,
   "id": "3eb925e0",
   "metadata": {},
   "outputs": [],
   "source": [
    "weights_path = './weights/'\n",
    "with open(weights_path+ 'net7_tf_2020w_naturalistic_not_resampled_held_out_speaker_NOTIMIT_seed_0_1en4.0.0001.sum_0.0001_ckpt_7conv5_W_py3.cpy', 'rb') as f:\n",
    "    weights_biases = pickle.load(f,  encoding=\"latin1\")\n"
   ]
  },
  {
   "cell_type": "code",
   "execution_count": 6,
   "id": "3a2f4ab1",
   "metadata": {},
   "outputs": [
    {
     "name": "stdout",
     "output_type": "stream",
     "text": [
      "conv5_G\n",
      "fctop_W\n",
      "conv4_G\n",
      "fc6_W\n",
      "fc6_G\n",
      "conv3\n",
      "conv4_W\n",
      "conv2\n",
      "fctop_G\n",
      "conv5_W\n",
      "conv1\n"
     ]
    }
   ],
   "source": [
    "files = os.listdir(weights_path)\n",
    "\n",
    "weights_biases = {}\n",
    "for f in files:\n",
    "    if 'py3' in f:\n",
    "        \n",
    "        layer = f.split('7')[2].split('.cpy')[0].split('_py3')[0]\n",
    "        print(layer)\n",
    "        with open(weights_path+ f, 'rb') as f_:\n",
    "            wb = pickle.load(f_,  encoding=\"latin1\")\n",
    "            weights_biases[layer] = wb"
   ]
  },
  {
   "cell_type": "code",
   "execution_count": 7,
   "id": "c1072bb9",
   "metadata": {},
   "outputs": [],
   "source": [
    "word_branch = weights_biases"
   ]
  },
  {
   "cell_type": "code",
   "execution_count": 8,
   "id": "3e527545",
   "metadata": {},
   "outputs": [],
   "source": [
    "genre_branch= weights_biases"
   ]
  },
  {
   "cell_type": "code",
   "execution_count": 9,
   "id": "e85d463c",
   "metadata": {},
   "outputs": [
    {
     "name": "stderr",
     "output_type": "stream",
     "text": [
      "/Users/chingfang/Code/hallucnn/src/models/layers.py:78: UserWarning: Inconsistent tf pad calculation in ConvLayer.\n",
      "  warnings.warn('Inconsistent tf pad calculation in ConvLayer.')\n",
      "/Users/chingfang/Code/hallucnn/src/models/layers.py:173: UserWarning: Inconsistent tf pad calculation: 0, 1\n",
      "  warnings.warn(f'Inconsistent tf pad calculation: {pad_left}, {pad_right}')\n"
     ]
    }
   ],
   "source": [
    "bn = BranchedNetwork()\n",
    "keys = bn.state_dict().keys()"
   ]
  },
  {
   "cell_type": "code",
   "execution_count": 10,
   "id": "6b9b76f4",
   "metadata": {},
   "outputs": [],
   "source": [
    "regex = re.compile('(\\w+_branch)\\.(\\w+)\\.block\\.(?:0\\.)*(\\w+)')"
   ]
  },
  {
   "cell_type": "code",
   "execution_count": 11,
   "id": "a3a3498d",
   "metadata": {},
   "outputs": [
    {
     "name": "stdout",
     "output_type": "stream",
     "text": [
      "speech_branch.conv1.block.0.weight\n",
      "torch.Size([96, 1, 6, 14])\n",
      "speech_branch.conv1.block.0.bias\n",
      "torch.Size([96])\n",
      "speech_branch.conv2.block.0.weight\n",
      "torch.Size([256, 96, 5, 5])\n",
      "speech_branch.conv2.block.0.bias\n",
      "torch.Size([256])\n",
      "speech_branch.conv3.block.0.weight\n",
      "torch.Size([512, 256, 3, 3])\n",
      "speech_branch.conv3.block.0.bias\n",
      "torch.Size([512])\n",
      "speech_branch.conv4_W.block.0.weight\n",
      "torch.Size([1024, 512, 3, 3])\n",
      "speech_branch.conv4_W.block.0.bias\n",
      "torch.Size([1024])\n",
      "speech_branch.conv5_W.block.0.weight\n",
      "torch.Size([512, 1024, 3, 3])\n",
      "speech_branch.conv5_W.block.0.bias\n",
      "torch.Size([512])\n",
      "speech_branch.fc6_W.block.0.weight\n",
      "torch.Size([4096, 18432])\n",
      "speech_branch.fc6_W.block.0.bias\n",
      "torch.Size([4096])\n",
      "speech_branch.fctop_W.block.weight\n",
      "torch.Size([531, 4096])\n",
      "speech_branch.fctop_W.block.bias\n",
      "torch.Size([531])\n",
      "genre_branch.conv1.block.0.weight\n",
      "torch.Size([96, 1, 6, 14])\n",
      "genre_branch.conv1.block.0.bias\n",
      "torch.Size([96])\n",
      "genre_branch.conv2.block.0.weight\n",
      "torch.Size([256, 96, 5, 5])\n",
      "genre_branch.conv2.block.0.bias\n",
      "torch.Size([256])\n",
      "genre_branch.conv3.block.0.weight\n",
      "torch.Size([512, 256, 3, 3])\n",
      "genre_branch.conv3.block.0.bias\n",
      "torch.Size([512])\n",
      "genre_branch.conv4_G.block.0.weight\n",
      "torch.Size([1024, 512, 3, 3])\n",
      "genre_branch.conv4_G.block.0.bias\n",
      "torch.Size([1024])\n",
      "genre_branch.conv5_G.block.0.weight\n",
      "torch.Size([512, 1024, 3, 3])\n",
      "genre_branch.conv5_G.block.0.bias\n",
      "torch.Size([512])\n",
      "genre_branch.fc6_G.block.0.weight\n",
      "torch.Size([4096, 18432])\n",
      "genre_branch.fc6_G.block.0.bias\n",
      "torch.Size([4096])\n",
      "genre_branch.fctop_G.block.weight\n",
      "torch.Size([42, 4096])\n",
      "genre_branch.fctop_G.block.bias\n",
      "torch.Size([42])\n"
     ]
    }
   ],
   "source": [
    "state_dict = OrderedDict()\n",
    "for key in keys:\n",
    "    print(key)\n",
    "    key_groups = regex.match(key)\n",
    "    branch = key_groups.group(1)\n",
    "    layer = key_groups.group(2)\n",
    "    struct = key_groups.group(3)\n",
    "    struct = 'W' if 'weight' in struct else 'b'\n",
    "    if layer.startswith('fc') and layer.endswith('W'):\n",
    "        arr = word_branch[layer][struct]\n",
    "    elif layer.startswith('fc') and layer.endswith('G'):\n",
    "        arr = genre_branch[layer][struct]\n",
    "    else:\n",
    "        arr = weights_biases[layer][struct]\n",
    "    arr = torch.tensor(arr)\n",
    "    if len(arr.shape) == 4:\n",
    "        arr = torch.permute(arr, (3, 2, 0, 1))\n",
    "    elif len(arr.shape) == 2:\n",
    "        arr = torch.permute(arr, (1, 0))\n",
    "    state_dict[key] = arr\n",
    "    print(np.shape(arr))"
   ]
  },
  {
   "cell_type": "code",
   "execution_count": 13,
   "id": "7db5ff74",
   "metadata": {},
   "outputs": [],
   "source": [
    "torch.save(state_dict, './weights/networks_2022_weights.pt')"
   ]
  },
  {
   "cell_type": "code",
   "execution_count": null,
   "id": "19bd211b",
   "metadata": {},
   "outputs": [],
   "source": []
  }
 ],
 "metadata": {
  "kernelspec": {
   "display_name": "Python 3 (ipykernel)",
   "language": "python",
   "name": "python3"
  },
  "language_info": {
   "codemirror_mode": {
    "name": "ipython",
    "version": 3
   },
   "file_extension": ".py",
   "mimetype": "text/x-python",
   "name": "python",
   "nbconvert_exporter": "python",
   "pygments_lexer": "ipython3",
   "version": "3.9.7"
  }
 },
 "nbformat": 4,
 "nbformat_minor": 5
}
