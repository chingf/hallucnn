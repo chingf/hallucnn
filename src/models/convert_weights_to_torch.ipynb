{
 "cells": [
  {
   "cell_type": "code",
   "execution_count": 1,
   "id": "76e047c9",
   "metadata": {},
   "outputs": [],
   "source": [
    "import numpy as np\n",
    "import os\n",
    "import sys\n",
    "import torch\n",
    "import pickle\n",
    "import re\n",
    "from collections import OrderedDict\n",
    "sys.path.append('./network/')\n",
    "from networks import BranchedNetwork"
   ]
  },
  {
   "cell_type": "code",
   "execution_count": 6,
   "id": "1fe00d9f",
   "metadata": {},
   "outputs": [],
   "source": [
    "#Load saved weights and biases- split into three .npy files to upload to github\n",
    "weights_dir = os.getcwd() + '/network/weights/'\n",
    "with open(weights_dir + 'network_weights_early_layers.p', 'rb') as f:\n",
    "    weights_biases = pickle.load(f)\n",
    "with open(weights_dir + 'network_weights_genre_branch.p', 'rb') as f:\n",
    "    genre_branch = pickle.load(f)\n",
    "with open(weights_dir + 'network_weights_word_branch.p', 'rb') as f:\n",
    "    word_branch = pickle.load(f)"
   ]
  },
  {
   "cell_type": "code",
   "execution_count": 7,
   "id": "e85d463c",
   "metadata": {},
   "outputs": [],
   "source": [
    "bn = BranchedNetwork()\n",
    "keys = bn.state_dict().keys()"
   ]
  },
  {
   "cell_type": "code",
   "execution_count": 8,
   "id": "6b9b76f4",
   "metadata": {},
   "outputs": [],
   "source": [
    "regex = re.compile('(\\w+_branch)\\.(\\w+)\\.block\\.(?:0\\.)*(\\w+)')"
   ]
  },
  {
   "cell_type": "code",
   "execution_count": 12,
   "id": "a3a3498d",
   "metadata": {},
   "outputs": [
    {
     "name": "stdout",
     "output_type": "stream",
     "text": [
      "conv1\n",
      "(9, 9, 1, 96)\n",
      "\n",
      "conv1\n",
      "(96,)\n",
      "\n",
      "conv2\n",
      "(5, 5, 96, 256)\n",
      "\n",
      "conv2\n",
      "(256,)\n",
      "\n",
      "conv3\n",
      "(3, 3, 256, 512)\n",
      "\n",
      "conv3\n",
      "(512,)\n",
      "\n",
      "conv4_W\n",
      "(3, 3, 512, 1024)\n",
      "\n",
      "conv4_W\n",
      "(1024,)\n",
      "\n",
      "conv5_W\n",
      "(3, 3, 1024, 512)\n",
      "\n",
      "conv5_W\n",
      "(512,)\n",
      "\n",
      "fc6_W\n",
      "(18432, 1024)\n",
      "\n",
      "fc6_W\n",
      "(1024,)\n",
      "\n",
      "fctop_W\n",
      "(1024, 589)\n",
      "\n",
      "fctop_W\n",
      "(589,)\n",
      "\n",
      "conv1\n",
      "(9, 9, 1, 96)\n",
      "\n",
      "conv1\n",
      "(96,)\n",
      "\n",
      "conv2\n",
      "(5, 5, 96, 256)\n",
      "\n",
      "conv2\n",
      "(256,)\n",
      "\n",
      "conv3\n",
      "(3, 3, 256, 512)\n",
      "\n",
      "conv3\n",
      "(512,)\n",
      "\n",
      "conv4_G\n",
      "(3, 3, 512, 1024)\n",
      "\n",
      "conv4_G\n",
      "(1024,)\n",
      "\n",
      "conv5_G\n",
      "(3, 3, 1024, 512)\n",
      "\n",
      "conv5_G\n",
      "(512,)\n",
      "\n",
      "fc6_G\n",
      "(18432, 1024)\n",
      "\n",
      "fc6_G\n",
      "(1024,)\n",
      "\n",
      "fctop_G\n",
      "(1024, 43)\n",
      "\n",
      "fctop_G\n",
      "(43,)\n",
      "\n"
     ]
    }
   ],
   "source": [
    "state_dict = OrderedDict()\n",
    "for key in keys:\n",
    "    key_groups = regex.match(key)\n",
    "    branch = key_groups.group(1)\n",
    "    layer = key_groups.group(2)\n",
    "    struct = key_groups.group(3)\n",
    "    struct = 'W' if 'weight' in struct else 'b'\n",
    "    if layer.startswith('fc') and layer.endswith('W'):\n",
    "        arr = word_branch[layer][struct]\n",
    "    elif layer.startswith('fc') and layer.endswith('G'):\n",
    "        arr = genre_branch[layer][struct]\n",
    "    else:\n",
    "        arr = weights_biases[layer][struct]\n",
    "    arr = torch.tensor(arr)\n",
    "    if len(arr.shape) == 4:\n",
    "        arr = torch.permute(arr, (3, 2, 0, 1))\n",
    "    elif len(arr.shape) == 2:\n",
    "        arr = torch.permute(arr, (1, 0))\n",
    "    state_dict[key] = arr"
   ]
  },
  {
   "cell_type": "code",
   "execution_count": 10,
   "id": "e6d6b107",
   "metadata": {},
   "outputs": [],
   "source": [
    "bn.load(state_dict)"
   ]
  },
  {
   "cell_type": "code",
   "execution_count": 11,
   "id": "7db5ff74",
   "metadata": {},
   "outputs": [],
   "source": [
    "torch.save(state_dict, 'branched_network_weights.pt')"
   ]
  },
  {
   "cell_type": "code",
   "execution_count": null,
   "id": "19bd211b",
   "metadata": {},
   "outputs": [],
   "source": []
  }
 ],
 "metadata": {
  "kernelspec": {
   "display_name": "Python 3 (ipykernel)",
   "language": "python",
   "name": "python3"
  },
  "language_info": {
   "codemirror_mode": {
    "name": "ipython",
    "version": 3
   },
   "file_extension": ".py",
   "mimetype": "text/x-python",
   "name": "python",
   "nbconvert_exporter": "python",
   "pygments_lexer": "ipython3",
   "version": "3.9.7"
  }
 },
 "nbformat": 4,
 "nbformat_minor": 5
}
