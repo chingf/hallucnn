{
 "cells": [
  {
   "cell_type": "code",
   "execution_count": 1,
   "id": "76e047c9",
   "metadata": {},
   "outputs": [],
   "source": [
    "import numpy as np\n",
    "import os\n",
    "import sys\n",
    "import torch\n",
    "import pickle\n",
    "import re\n",
    "from collections import OrderedDict\n",
    "sys.path.append('./network/')\n",
    "from networks import BranchedNetwork"
   ]
  },
  {
   "cell_type": "markdown",
   "id": "88f230ef",
   "metadata": {},
   "source": [
    "# Verified for the 2022 network"
   ]
  },
  {
   "cell_type": "code",
   "execution_count": null,
   "id": "1fe00d9f",
   "metadata": {},
   "outputs": [],
   "source": [
    "#Load saved weights and biases- split into three .npy files to upload to github\n",
    "weights_dir = os.getcwd() + '/network/weights/'\n",
    "with open(weights_dir + 'network_weights_early_layers.p', 'rb') as f:\n",
    "    weights_biases = pickle.load(f)\n",
    "with open(weights_dir + 'network_weights_genre_branch.p', 'rb') as f:\n",
    "    genre_branch = pickle.load(f)\n",
    "with open(weights_dir + 'network_weights_word_branch.p', 'rb') as f:\n",
    "    word_branch = pickle.load(f)"
   ]
  },
  {
   "cell_type": "code",
   "execution_count": 3,
   "id": "8e62bcbf",
   "metadata": {},
   "outputs": [],
   "source": [
    "# process raw weights "
   ]
  },
  {
   "cell_type": "code",
   "execution_count": 2,
   "id": "e891a740",
   "metadata": {},
   "outputs": [],
   "source": [
    "import pickle"
   ]
  },
  {
   "cell_type": "code",
   "execution_count": 3,
   "id": "3eb925e0",
   "metadata": {},
   "outputs": [],
   "source": [
    "weights_path = './weights/'\n",
    "with open(weights_path+ 'net7_tf_2020w_naturalistic_not_resampled_held_out_speaker_NOTIMIT_seed_0_1en4.0.0001.sum_0.0001_ckpt_7conv5_W_py3.cpy', 'rb') as f:\n",
    "    weights_biases = pickle.load(f,  encoding=\"latin1\")\n"
   ]
  },
  {
   "cell_type": "code",
   "execution_count": 4,
   "id": "8ec386d6",
   "metadata": {},
   "outputs": [],
   "source": [
    "# Have weights and biases just need to compile them into the same dict as you did with the 2018 paper "
   ]
  },
  {
   "cell_type": "code",
   "execution_count": 5,
   "id": "950cbea0",
   "metadata": {},
   "outputs": [],
   "source": [
    "files = os.listdir(weights_path)\n"
   ]
  },
  {
   "cell_type": "code",
   "execution_count": 6,
   "id": "3a2f4ab1",
   "metadata": {},
   "outputs": [
    {
     "name": "stdout",
     "output_type": "stream",
     "text": [
      "['net7_tf_2020w_naturalistic_not_resampled_held_out_speaker_NOTIMIT_seed_0_1en4.0.0001.sum_0.0001_ckpt_7conv4_W.cpy', 'branched_network_weights.pt', 'net7_tf_2020w_naturalistic_not_resampled_held_out_speaker_NOTIMIT_seed_0_1en4.0.0001.sum_0.0001_ckpt_7conv5_G_py3.cpy', '.DS_Store', 'net7_tf_2020w_naturalistic_not_resampled_held_out_speaker_NOTIMIT_seed_0_1en4.0.0001.sum_0.0001_ckpt_7conv4_G.cpy', 'net7_tf_2020w_naturalistic_not_resampled_held_out_speaker_NOTIMIT_seed_0_1en4.0.0001.sum_0.0001_ckpt_7fctop_W_py3.cpy', 'net7_tf_2020w_naturalistic_not_resampled_held_out_speaker_NOTIMIT_seed_0_1en4.0.0001.sum_0.0001_ckpt_7conv5_W.cpy', 'net7_tf_2020w_naturalistic_not_resampled_held_out_speaker_NOTIMIT_seed_0_1en4.0.0001.sum_0.0001_ckpt_7conv4_G_py3.cpy', 'net7_tf_2020w_naturalistic_not_resampled_held_out_speaker_NOTIMIT_seed_0_1en4.0.0001.sum_0.0001_ckpt_7fc6_W_py3.cpy', 'net7_tf_2020w_naturalistic_not_resampled_held_out_speaker_NOTIMIT_seed_0_1en4.0.0001.sum_0.0001_ckpt_7conv1.cpy', 'net7_tf_2020w_naturalistic_not_resampled_held_out_speaker_NOTIMIT_seed_0_1en4.0.0001.sum_0.0001_ckpt_7conv3.cpy', 'net7_tf_2020w_naturalistic_not_resampled_held_out_speaker_NOTIMIT_seed_0_1en4.0.0001.sum_0.0001_ckpt_7conv5_G.cpy', 'net7_tf_2020w_naturalistic_not_resampled_held_out_speaker_NOTIMIT_seed_0_1en4.0.0001.sum_0.0001_ckpt_7conv2.cpy', 'net7_tf_2020w_naturalistic_not_resampled_held_out_speaker_NOTIMIT_seed_0_1en4.0.0001.sum_0.0001_ckpt_7fc6_W.cpy', 'net7_tf_2020w_naturalistic_not_resampled_held_out_speaker_NOTIMIT_seed_0_1en4.0.0001.sum_0.0001_ckpt_7fc6_G_py3.cpy', 'net7_tf_2020w_naturalistic_not_resampled_held_out_speaker_NOTIMIT_seed_0_1en4.0.0001.sum_0.0001_ckpt_7fctop_G.cpy', 'net7_tf_2020w_naturalistic_not_resampled_held_out_speaker_NOTIMIT_seed_0_1en4.0.0001.sum_0.0001_ckpt_7conv3_py3.cpy', 'net7_tf_2020w_naturalistic_not_resampled_held_out_speaker_NOTIMIT_seed_0_1en4.0.0001.sum_0.0001_ckpt_7conv4_W_py3.cpy', 'pickle3_weights.py', 'net7_tf_2020w_naturalistic_not_resampled_held_out_speaker_NOTIMIT_seed_0_1en4.0.0001.sum_0.0001_ckpt_7conv2_py3.cpy', 'net7_tf_2020w_naturalistic_not_resampled_held_out_speaker_NOTIMIT_seed_0_1en4.0.0001.sum_0.0001_ckpt_7fctop_G_py3.cpy', 'net7_tf_2020w_naturalistic_not_resampled_held_out_speaker_NOTIMIT_seed_0_1en4.0.0001.sum_0.0001_ckpt_7fctop_W.cpy', 'net7_tf_2020w_naturalistic_not_resampled_held_out_speaker_NOTIMIT_seed_0_1en4.0.0001.sum_0.0001_ckpt_7fc6_G.cpy', 'net7_tf_2020w_naturalistic_not_resampled_held_out_speaker_NOTIMIT_seed_0_1en4.0.0001.sum_0.0001_ckpt_7conv5_W_py3.cpy', 'net7_tf_2020w_naturalistic_not_resampled_held_out_speaker_NOTIMIT_seed_0_1en4.0.0001.sum_0.0001_ckpt_7conv1_py3.cpy']\n",
      "conv5_G\n",
      "fctop_W\n",
      "conv4_G\n",
      "fc6_W\n",
      "fc6_G\n",
      "conv3\n",
      "conv4_W\n",
      "conv2\n",
      "fctop_G\n",
      "conv5_W\n",
      "conv1\n"
     ]
    }
   ],
   "source": [
    "print(files)\n",
    "\n",
    "weights_biases = {}\n",
    "for f in files:\n",
    "    if 'py3' in f:\n",
    "        \n",
    "        layer = f.split('7')[2].split('.cpy')[0].split('_py3')[0]\n",
    "        print(layer)\n",
    "        with open(weights_path+ f, 'rb') as f_:\n",
    "            wb = pickle.load(f_,  encoding=\"latin1\")\n",
    "            weights_biases[layer] = wb"
   ]
  },
  {
   "cell_type": "code",
   "execution_count": 7,
   "id": "c1072bb9",
   "metadata": {},
   "outputs": [],
   "source": [
    "word_branch = weights_biases"
   ]
  },
  {
   "cell_type": "code",
   "execution_count": 8,
   "id": "3e527545",
   "metadata": {},
   "outputs": [],
   "source": [
    "genre_branch= weights_biases"
   ]
  },
  {
   "cell_type": "raw",
   "id": "fd378cc8",
   "metadata": {},
   "source": [
    "print(weights_biases)"
   ]
  },
  {
   "cell_type": "code",
   "execution_count": 9,
   "id": "e85d463c",
   "metadata": {},
   "outputs": [
    {
     "name": "stderr",
     "output_type": "stream",
     "text": [
      "/Users/erica/Documents/hallucnn/src/models/layers.py:54: UserWarning: Inconsistent tf pad calculation in ConvLayer.\n",
      "  warnings.warn('Inconsistent tf pad calculation in ConvLayer.')\n",
      "/Users/erica/Documents/hallucnn/src/models/layers.py:130: UserWarning: Inconsistent tf pad calculation: 0, 1\n",
      "  warnings.warn(f'Inconsistent tf pad calculation: {pad_left}, {pad_right}')\n"
     ]
    }
   ],
   "source": [
    "bn = BranchedNetwork()\n",
    "keys = bn.state_dict().keys()"
   ]
  },
  {
   "cell_type": "code",
   "execution_count": 10,
   "id": "6b9b76f4",
   "metadata": {},
   "outputs": [],
   "source": [
    "regex = re.compile('(\\w+_branch)\\.(\\w+)\\.block\\.(?:0\\.)*(\\w+)')"
   ]
  },
  {
   "cell_type": "code",
   "execution_count": 11,
   "id": "a3a3498d",
   "metadata": {},
   "outputs": [
    {
     "name": "stdout",
     "output_type": "stream",
     "text": [
      "speech_branch.conv1.block.0.weight\n",
      "torch.Size([96, 1, 6, 14])\n",
      "speech_branch.conv1.block.0.bias\n",
      "torch.Size([96])\n",
      "speech_branch.conv2.block.0.weight\n",
      "torch.Size([256, 96, 5, 5])\n",
      "speech_branch.conv2.block.0.bias\n",
      "torch.Size([256])\n",
      "speech_branch.conv3.block.0.weight\n",
      "torch.Size([512, 256, 3, 3])\n",
      "speech_branch.conv3.block.0.bias\n",
      "torch.Size([512])\n",
      "speech_branch.conv4_W.block.0.weight\n",
      "torch.Size([1024, 512, 3, 3])\n",
      "speech_branch.conv4_W.block.0.bias\n",
      "torch.Size([1024])\n",
      "speech_branch.conv5_W.block.0.weight\n",
      "torch.Size([512, 1024, 3, 3])\n",
      "speech_branch.conv5_W.block.0.bias\n",
      "torch.Size([512])\n",
      "speech_branch.fc6_W.block.0.weight\n",
      "torch.Size([4096, 18432])\n",
      "speech_branch.fc6_W.block.0.bias\n",
      "torch.Size([4096])\n",
      "speech_branch.fctop_W.block.weight\n",
      "torch.Size([531, 4096])\n",
      "speech_branch.fctop_W.block.bias\n",
      "torch.Size([531])\n",
      "genre_branch.conv1.block.0.weight\n",
      "torch.Size([96, 1, 6, 14])\n",
      "genre_branch.conv1.block.0.bias\n",
      "torch.Size([96])\n",
      "genre_branch.conv2.block.0.weight\n",
      "torch.Size([256, 96, 5, 5])\n",
      "genre_branch.conv2.block.0.bias\n",
      "torch.Size([256])\n",
      "genre_branch.conv3.block.0.weight\n",
      "torch.Size([512, 256, 3, 3])\n",
      "genre_branch.conv3.block.0.bias\n",
      "torch.Size([512])\n",
      "genre_branch.conv4_G.block.0.weight\n",
      "torch.Size([1024, 512, 3, 3])\n",
      "genre_branch.conv4_G.block.0.bias\n",
      "torch.Size([1024])\n",
      "genre_branch.conv5_G.block.0.weight\n",
      "torch.Size([512, 1024, 3, 3])\n",
      "genre_branch.conv5_G.block.0.bias\n",
      "torch.Size([512])\n",
      "genre_branch.fc6_G.block.0.weight\n",
      "torch.Size([4096, 18432])\n",
      "genre_branch.fc6_G.block.0.bias\n",
      "torch.Size([4096])\n",
      "genre_branch.fctop_G.block.weight\n",
      "torch.Size([42, 4096])\n",
      "genre_branch.fctop_G.block.bias\n",
      "torch.Size([42])\n"
     ]
    }
   ],
   "source": [
    "state_dict = OrderedDict()\n",
    "for key in keys:\n",
    "    print(key)\n",
    "    key_groups = regex.match(key)\n",
    "    branch = key_groups.group(1)\n",
    "    layer = key_groups.group(2)\n",
    "    struct = key_groups.group(3)\n",
    "    struct = 'W' if 'weight' in struct else 'b'\n",
    "    if layer.startswith('fc') and layer.endswith('W'):\n",
    "        arr = word_branch[layer][struct]\n",
    "    elif layer.startswith('fc') and layer.endswith('G'):\n",
    "        arr = genre_branch[layer][struct]\n",
    "    else:\n",
    "        arr = weights_biases[layer][struct]\n",
    "    arr = torch.tensor(arr)\n",
    "    if len(arr.shape) == 4:\n",
    "        arr = torch.permute(arr, (3, 2, 0, 1))\n",
    "    elif len(arr.shape) == 2:\n",
    "        arr = torch.permute(arr, (1, 0))\n",
    "    state_dict[key] = arr\n",
    "    print(np.shape(arr))"
   ]
  },
  {
   "cell_type": "code",
   "execution_count": 12,
   "id": "e6d6b107",
   "metadata": {},
   "outputs": [
    {
     "ename": "AttributeError",
     "evalue": "'BranchedNetwork' object has no attribute 'load'",
     "output_type": "error",
     "traceback": [
      "\u001b[0;31m---------------------------------------------------------------------------\u001b[0m",
      "\u001b[0;31mAttributeError\u001b[0m                            Traceback (most recent call last)",
      "Input \u001b[0;32mIn [12]\u001b[0m, in \u001b[0;36m<module>\u001b[0;34m\u001b[0m\n\u001b[0;32m----> 1\u001b[0m \u001b[43mbn\u001b[49m\u001b[38;5;241;43m.\u001b[39;49m\u001b[43mload\u001b[49m(state_dict)\n",
      "File \u001b[0;32m~/miniforge3/envs/py38/lib/python3.8/site-packages/torch/nn/modules/module.py:1177\u001b[0m, in \u001b[0;36mModule.__getattr__\u001b[0;34m(self, name)\u001b[0m\n\u001b[1;32m   1175\u001b[0m     \u001b[38;5;28;01mif\u001b[39;00m name \u001b[38;5;129;01min\u001b[39;00m modules:\n\u001b[1;32m   1176\u001b[0m         \u001b[38;5;28;01mreturn\u001b[39;00m modules[name]\n\u001b[0;32m-> 1177\u001b[0m \u001b[38;5;28;01mraise\u001b[39;00m \u001b[38;5;167;01mAttributeError\u001b[39;00m(\u001b[38;5;124m\"\u001b[39m\u001b[38;5;124m'\u001b[39m\u001b[38;5;132;01m{}\u001b[39;00m\u001b[38;5;124m'\u001b[39m\u001b[38;5;124m object has no attribute \u001b[39m\u001b[38;5;124m'\u001b[39m\u001b[38;5;132;01m{}\u001b[39;00m\u001b[38;5;124m'\u001b[39m\u001b[38;5;124m\"\u001b[39m\u001b[38;5;241m.\u001b[39mformat(\n\u001b[1;32m   1178\u001b[0m     \u001b[38;5;28mtype\u001b[39m(\u001b[38;5;28mself\u001b[39m)\u001b[38;5;241m.\u001b[39m\u001b[38;5;18m__name__\u001b[39m, name))\n",
      "\u001b[0;31mAttributeError\u001b[0m: 'BranchedNetwork' object has no attribute 'load'"
     ]
    }
   ],
   "source": [
    "bn.load(state_dict)"
   ]
  },
  {
   "cell_type": "code",
   "execution_count": 13,
   "id": "7db5ff74",
   "metadata": {},
   "outputs": [],
   "source": [
    "torch.save(state_dict, 'branched_network_weights.pt')"
   ]
  },
  {
   "cell_type": "code",
   "execution_count": null,
   "id": "19bd211b",
   "metadata": {},
   "outputs": [],
   "source": []
  }
 ],
 "metadata": {
  "kernelspec": {
   "display_name": "Python 3 (ipykernel)",
   "language": "python",
   "name": "python3"
  },
  "language_info": {
   "codemirror_mode": {
    "name": "ipython",
    "version": 3
   },
   "file_extension": ".py",
   "mimetype": "text/x-python",
   "name": "python",
   "nbconvert_exporter": "python",
   "pygments_lexer": "ipython3",
   "version": "3.9.7"
  }
 },
 "nbformat": 4,
 "nbformat_minor": 5
}
