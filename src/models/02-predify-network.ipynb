{
 "cells": [
  {
   "cell_type": "code",
   "execution_count": 1,
   "id": "f6b53ab0",
   "metadata": {},
   "outputs": [],
   "source": [
    "import predify\n",
    "from networks_2022 import BranchedNetwork"
   ]
  },
  {
   "cell_type": "code",
   "execution_count": 2,
   "id": "a5c2d5a5",
   "metadata": {},
   "outputs": [
    {
     "name": "stderr",
     "output_type": "stream",
     "text": [
      "/share/issa/users/es3773/hallucnn/src/models/layers.py:78: UserWarning: Inconsistent tf pad calculation in ConvLayer.\n",
      "  warnings.warn('Inconsistent tf pad calculation in ConvLayer.')\n",
      "/share/issa/users/es3773/hallucnn/src/models/layers.py:173: UserWarning: Inconsistent tf pad calculation: 0, 1\n",
      "  warnings.warn(f'Inconsistent tf pad calculation: {pad_left}, {pad_right}')\n"
     ]
    }
   ],
   "source": [
    "net = BranchedNetwork()"
   ]
  },
  {
   "cell_type": "code",
   "execution_count": 3,
   "id": "1237af1a",
   "metadata": {},
   "outputs": [],
   "source": [
    "toml_file = 'cortex'\n",
    "# all, cortex, early"
   ]
  },
  {
   "cell_type": "code",
   "execution_count": 4,
   "id": "78a8a954",
   "metadata": {},
   "outputs": [
    {
     "name": "stderr",
     "output_type": "stream",
     "text": [
      "/home/es3773/.conda/envs/hcnn/lib/python3.6/site-packages/predify/base.py:158: UserWarning: 'predictor' is not defined for PCoder number 0. A default module will be inferred based on the other PCoders.\n",
      "  config = parse_toml(config_file)\n",
      "/home/es3773/.conda/envs/hcnn/lib/python3.6/site-packages/predify/base.py:158: UserWarning: 'hyperparameters' is not defined for PCoder number 0. Default values of feedforward=0.3, feedback=0.3, pc=0.01 will be set.\n",
      "  config = parse_toml(config_file)\n",
      "/home/es3773/.conda/envs/hcnn/lib/python3.6/site-packages/predify/base.py:158: UserWarning: 'predictor' is not defined for PCoder number 1. A default module will be inferred based on the other PCoders.\n",
      "  config = parse_toml(config_file)\n",
      "/home/es3773/.conda/envs/hcnn/lib/python3.6/site-packages/predify/base.py:158: UserWarning: 'hyperparameters' is not defined for PCoder number 1. Default values of feedforward=0.3, feedback=0.3, pc=0.01 will be set.\n",
      "  config = parse_toml(config_file)\n",
      "/home/es3773/.conda/envs/hcnn/lib/python3.6/site-packages/predify/base.py:158: UserWarning: 'predictor' is not defined for PCoder number 2. A default module will be inferred based on the other PCoders.\n",
      "  config = parse_toml(config_file)\n",
      "/home/es3773/.conda/envs/hcnn/lib/python3.6/site-packages/predify/base.py:158: UserWarning: 'hyperparameters' is not defined for PCoder number 2. Default values of feedforward=0.3, feedback=0.3, pc=0.01 will be set.\n",
      "  config = parse_toml(config_file)\n"
     ]
    }
   ],
   "source": [
    "predify.predify(net, f'pconfigs/{toml_file}.toml')"
   ]
  },
  {
   "cell_type": "code",
   "execution_count": null,
   "id": "e2595f0b",
   "metadata": {},
   "outputs": [],
   "source": []
  }
 ],
 "metadata": {
  "kernelspec": {
   "display_name": "Python 3",
   "language": "python",
   "name": "python3"
  },
  "language_info": {
   "codemirror_mode": {
    "name": "ipython",
    "version": 3
   },
   "file_extension": ".py",
   "mimetype": "text/x-python",
   "name": "python",
   "nbconvert_exporter": "python",
   "pygments_lexer": "ipython3",
   "version": "3.6.13"
  }
 },
 "nbformat": 4,
 "nbformat_minor": 5
}
