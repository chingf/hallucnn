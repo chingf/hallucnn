{
 "cells": [
  {
   "cell_type": "code",
   "execution_count": 1,
   "metadata": {},
   "outputs": [
    {
     "name": "stderr",
     "output_type": "stream",
     "text": [
      "/home/es3773/.local/lib/python3.7/site-packages/pandas/compat/_optional.py:138: UserWarning: Pandas requires version '2.7.0' or newer of 'numexpr' (version '2.6.9' currently installed).\n",
      "  warnings.warn(msg, UserWarning)\n"
     ]
    }
   ],
   "source": [
    "import os\n",
    "import sys\n",
    "import numpy as np\n",
    "import matplotlib.pyplot as plt\n",
    "import pickle\n",
    "import h5py\n",
    "import seaborn as sns\n",
    "import pandas as pd\n",
    "from scipy.stats import pearsonr\n",
    "root = os.path.dirname(os.path.abspath(os.curdir))\n",
    "sys.path.append(root)\n",
    "\n",
    "import torch\n",
    "from torch.utils.tensorboard import SummaryWriter\n",
    "from torch.utils.data import DataLoader\n",
    "from torch.utils.data import Subset\n",
    "\n",
    "from predify.utils.training import train_pcoders, eval_pcoders\n",
    "\n",
    "from networks_2022 import BranchedNetwork\n",
    "from data.CleanSoundsDataset import CleanSoundsDataset"
   ]
  },
  {
   "cell_type": "markdown",
   "metadata": {},
   "source": [
    "# Choose which network you're running"
   ]
  },
  {
   "cell_type": "code",
   "execution_count": 2,
   "metadata": {},
   "outputs": [],
   "source": [
    "args = []"
   ]
  },
  {
   "cell_type": "code",
   "execution_count": 3,
   "metadata": {},
   "outputs": [],
   "source": [
    "from pbranchednetwork_all import PBranchedNetwork_AllSeparateHP\n",
    "PNetClass = PBranchedNetwork_AllSeparateHP\n",
    "pnet_name = 'all'\n",
    "p_layers = 'All Layers'\n",
    "chckpt = 25\n",
    "args.append((PNetClass, pnet_name, p_layers, chckpt))"
   ]
  },
  {
   "cell_type": "code",
   "execution_count": 4,
   "metadata": {},
   "outputs": [],
   "source": [
    "from pbranchednetwork_conv345 import PBranchedNetwork_Conv345SeparateHP\n",
    "PNetClass = PBranchedNetwork_Conv345SeparateHP\n",
    "pnet_name = 'conv345'\n",
    "p_layers = 'Layers 3-5'\n",
    "chckpt = 50\n",
    "args.append((PNetClass, pnet_name, p_layers, chckpt))"
   ]
  },
  {
   "cell_type": "markdown",
   "metadata": {},
   "source": [
    "# Parameters"
   ]
  },
  {
   "cell_type": "code",
   "execution_count": 5,
   "metadata": {},
   "outputs": [],
   "source": [
    "engram_dir = '/mnt/smb/locker/issa-locker/users/Erica/'"
   ]
  },
  {
   "cell_type": "code",
   "execution_count": 6,
   "metadata": {},
   "outputs": [],
   "source": [
    "fig_dir = f'{engram_dir}hcnn/figures/'\n",
    "pickle_dir = f'{engram_dir}hcnn/pickles/'"
   ]
  },
  {
   "cell_type": "code",
   "execution_count": 7,
   "metadata": {},
   "outputs": [
    {
     "name": "stdout",
     "output_type": "stream",
     "text": [
      "Device: cuda:0\n"
     ]
    }
   ],
   "source": [
    "DEVICE = 'cuda:0' if torch.cuda.is_available() else 'cpu'\n",
    "print(f'Device: {DEVICE}')\n",
    "\n",
    "checkpoints_dir = f'{engram_dir}hcnn/checkpoints/'\n",
    "tensorboard_dir = f'{engram_dir}hcnn/tensorboard/'"
   ]
  },
  {
   "cell_type": "markdown",
   "metadata": {},
   "source": [
    "# Helper functions"
   ]
  },
  {
   "cell_type": "code",
   "execution_count": 8,
   "metadata": {},
   "outputs": [],
   "source": [
    "def load_pnet(PNetClass, pnet_name, chckpt):\n",
    "    net = BranchedNetwork()\n",
    "    net.load_state_dict(torch.load(f'{engram_dir}networks_2022_weights.pt'))\n",
    "    pnet = PNetClass(net, build_graph=False)\n",
    "    pnet.load_state_dict(torch.load(\n",
    "        f\"{checkpoints_dir}{pnet_name}/{pnet_name}-{chckpt}-regular.pth\",\n",
    "        map_location='cpu'\n",
    "        ))\n",
    "    pnet.to(DEVICE)\n",
    "    pnet.eval();\n",
    "    print(f'Loaded Pnet: {pnet_name}')\n",
    "    print_hps(pnet)\n",
    "    return pnet"
   ]
  },
  {
   "cell_type": "code",
   "execution_count": 9,
   "metadata": {},
   "outputs": [],
   "source": [
    "def print_hps(pnet):\n",
    "    for pc in range(pnet.number_of_pcoders):\n",
    "        print (f\"PCoder{pc+1} : ffm: {getattr(pnet,f'ffm{pc+1}'):0.3f} \\t fbm: {getattr(pnet,f'fbm{pc+1}'):0.3f} \\t erm: {getattr(pnet,f'erm{pc+1}'):0.3f}\")"
   ]
  },
  {
   "cell_type": "code",
   "execution_count": 10,
   "metadata": {},
   "outputs": [],
   "source": [
    "def row_rms(A, B, do_compare_rows=True):\n",
    "    \"\"\"\n",
    "    RMS the rows of a matrix\n",
    "\n",
    "    given A, B, returns vector of pearson correleation coefficients where r[ii] = corr(A[:,ii],B[:,ii])\n",
    "    \"\"\"\n",
    "    \n",
    "    if torch.is_tensor(A):\n",
    "        A = A.numpy()\n",
    "    if torch.is_tensor(B):\n",
    "        B = B.numpy()\n",
    "    A = A.squeeze()\n",
    "    B = B.squeeze()\n",
    "\n",
    "    if do_compare_rows:\n",
    "        A, B = A.T, B.T\n",
    "        \n",
    "    stim = (A.astype(float)-B.astype(float)) \n",
    "    out = np.sqrt(np.mean(stim * stim, axis = 0))\n",
    "\n",
    "    return out"
   ]
  },
  {
   "cell_type": "code",
   "execution_count": 11,
   "metadata": {},
   "outputs": [],
   "source": [
    "def eval_correlations(\n",
    "    pnet, bg_type='n/a', noise_std=0,\n",
    "    exclude_timit=True, exclude_correct=True, exclude_incorrect=False\n",
    "    ):\n",
    "    \n",
    "    bg_idxs = bg==bg_type\n",
    "    if exclude_timit:\n",
    "        bg_idxs = np.logical_and(bg_idxs, orig_dset=='WSJ')\n",
    "    if exclude_correct:\n",
    "        bg_idxs = np.logical_and(bg_idxs, net_mistakes)\n",
    "    if exclude_incorrect:\n",
    "        bg_idxs = np.logical_and(bg_idxs, np.logical_not(net_mistakes))\n",
    "    \n",
    "    timesteps = []\n",
    "    correlations = []\n",
    "    snrs = []\n",
    "    \n",
    "    n_timesteps = 5\n",
    "    for snr_type in np.unique(snr):\n",
    "        dset_idxs = np.logical_and(bg_idxs, snr==snr_type)\n",
    "        dset_idxs = np.argwhere(dset_idxs).squeeze()\n",
    "        for idx in dset_idxs:\n",
    "            _input = torch.tensor(f_in['data'][idx].reshape((1, 1, 164, 400)))\n",
    "            if snr_type is None:\n",
    "                clean_input = _input.clone()\n",
    "            else:\n",
    "                clean_input = clean_in[idx]\n",
    "                clean_input = torch.tensor(clean_input.reshape((1, 1, 164, 400))).clone()\n",
    "            pnet.reset()\n",
    "            with torch.no_grad():\n",
    "                for j in range(n_timesteps):\n",
    "                    _input = _input if j == 0 else None\n",
    "                    if _input is not None:\n",
    "                        _input = _input + torch.normal(0, noise_std, size=_input.shape)\n",
    "                        _input = _input.to(DEVICE)\n",
    "                    outputs, _ = pnet(_input)\n",
    "                    output = outputs.max(-1)[1].item()\n",
    "                    reconstruction = np.array(pnet.pcoder1.prd[0,0].cpu())\n",
    "                    rms = row_rms(reconstruction, clean_input)\n",
    "                    rms = np.mean(rms)\n",
    "                    timesteps.append(j)\n",
    "                    correlations.append(rms)\n",
    "                    snrs.append(snr_type)\n",
    "    df = pd.DataFrame({\n",
    "        'Timesteps': timesteps,\n",
    "        'Correlation': correlations,\n",
    "        'SNR': snrs\n",
    "    })\n",
    "    return timesteps, correlations, snrs, df"
   ]
  },
  {
   "cell_type": "markdown",
   "metadata": {},
   "source": [
    "# Load PsychoPhysics Dataset"
   ]
  },
  {
   "cell_type": "code",
   "execution_count": 12,
   "metadata": {},
   "outputs": [],
   "source": [
    "f_in = h5py.File(f\"{engram_dir}PsychophysicsWord2017W_not_resampled.hdf5\", 'r')"
   ]
  },
  {
   "cell_type": "code",
   "execution_count": 13,
   "metadata": {},
   "outputs": [],
   "source": [
    "f_metadata = np.load(f\"{engram_dir}PsychophysicsWord2017W_999c6fc475be1e82e114ab9865aa5459e4fd329d.__META.npy\", 'r')"
   ]
  },
  {
   "cell_type": "code",
   "execution_count": 14,
   "metadata": {},
   "outputs": [],
   "source": [
    "f_key = np.load(f\"{engram_dir}PsychophysicsWord2017W_999c6fc475be1e82e114ab9865aa5459e4fd329d.__META_key.npy\", 'r')"
   ]
  },
  {
   "cell_type": "code",
   "execution_count": 15,
   "metadata": {},
   "outputs": [],
   "source": [
    "with open(f\"{engram_dir}PsychophysicsWord2017W_net_performance.p\", 'rb') as f:\n",
    "    net_mistakes = pickle.load(f)['net_mistakes']"
   ]
  },
  {
   "cell_type": "code",
   "execution_count": 16,
   "metadata": {},
   "outputs": [],
   "source": [
    "def getPsychophysics2017WCleanCochleagrams():\n",
    "    \n",
    "    cochleagrams_clean = []\n",
    "   \n",
    "    cochleagrams = []\n",
    "    for batch_ii in range(0,15300,100):\n",
    "        hdf5_path = '/mnt/smb/locker/issa-locker/users/Erica/cgrams_for_noise_robustness_analysis/PsychophysicsWord2017W_clean/batch_'+str(batch_ii)+'_to_'+str(batch_ii+100)+'.hdf5'\n",
    "        with h5py.File(hdf5_path, 'r') as f_in:\n",
    "            cochleagrams += list(f_in['data'])\n",
    "\n",
    "    return cochleagrams\n",
    "clean_in = getPsychophysics2017WCleanCochleagrams()"
   ]
  },
  {
   "cell_type": "code",
   "execution_count": 17,
   "metadata": {},
   "outputs": [],
   "source": [
    "labels = []\n",
    "for word in f_metadata['word']:\n",
    "    idx = np.argwhere(f_key == word)\n",
    "    if len(idx) == 0:\n",
    "        labels.append(-1)\n",
    "    else:\n",
    "        labels.append(idx.item())\n",
    "labels = np.array(labels)\n",
    "labels += 1"
   ]
  },
  {
   "cell_type": "code",
   "execution_count": 18,
   "metadata": {},
   "outputs": [],
   "source": [
    "bg = []\n",
    "for _bg in f_metadata['bg']:\n",
    "    bg.append(str(_bg, 'utf-8'))\n",
    "bg = np.array(bg)"
   ]
  },
  {
   "cell_type": "code",
   "execution_count": 19,
   "metadata": {},
   "outputs": [],
   "source": [
    "snr = []\n",
    "for _snr in f_metadata['snr']:\n",
    "    _snr = str(_snr, 'utf-8')\n",
    "    if 'inf' in _snr:\n",
    "        _snr = np.inf\n",
    "    elif 'neg' in _snr:\n",
    "        if '3' in _snr:\n",
    "            _snr = -3\n",
    "        elif '6' in _snr:\n",
    "            _snr = -6\n",
    "        elif '9' in _snr:\n",
    "            _snr = -9\n",
    "        else:\n",
    "            raise ValueError('Not found')\n",
    "    else:\n",
    "        if '0' in _snr:\n",
    "            _snr = 0\n",
    "        elif '3' in _snr:\n",
    "            _snr = 3\n",
    "        else:\n",
    "            raise ValueError('Not found')\n",
    "    snr.append(_snr)\n",
    "snr = np.array(snr)"
   ]
  },
  {
   "cell_type": "code",
   "execution_count": 20,
   "metadata": {},
   "outputs": [],
   "source": [
    "orig_dset = []\n",
    "for _orig_dset in f_metadata['orig_dset']:\n",
    "    _orig_dset = str(_orig_dset, 'utf-8')\n",
    "    _orig_dset = 'WSJ' if 'WSJ' in _orig_dset else 'Timit'\n",
    "    orig_dset.append(_orig_dset)\n",
    "orig_dset = np.array(orig_dset)"
   ]
  },
  {
   "cell_type": "markdown",
   "metadata": {},
   "source": [
    "# Auditory Background, Incorrect"
   ]
  },
  {
   "cell_type": "code",
   "execution_count": 21,
   "metadata": {},
   "outputs": [],
   "source": [
    "# This is bad practice! But the warnings are real annoying\n",
    "import warnings\n",
    "warnings.filterwarnings(\"ignore\")"
   ]
  },
  {
   "cell_type": "code",
   "execution_count": 22,
   "metadata": {},
   "outputs": [
    {
     "name": "stdout",
     "output_type": "stream",
     "text": [
      "Loaded Pnet: all\n",
      "PCoder1 : ffm: 0.300 \t fbm: 0.300 \t erm: 0.010\n",
      "PCoder2 : ffm: 0.300 \t fbm: 0.300 \t erm: 0.010\n",
      "PCoder3 : ffm: 0.300 \t fbm: 0.300 \t erm: 0.010\n",
      "PCoder4 : ffm: 0.300 \t fbm: 0.300 \t erm: 0.010\n",
      "PCoder5 : ffm: 0.300 \t fbm: 0.300 \t erm: 0.010\n"
     ]
    },
    {
     "ename": "OSError",
     "evalue": "[Errno 28] No space left on device",
     "output_type": "error",
     "traceback": [
      "\u001b[0;31m---------------------------------------------------------------------------\u001b[0m",
      "\u001b[0;31mOSError\u001b[0m                                   Traceback (most recent call last)",
      "\u001b[0;32m<ipython-input-22-041d7a82c226>\u001b[0m in \u001b[0;36m<module>\u001b[0;34m\u001b[0m\n\u001b[1;32m      7\u001b[0m         \u001b[0;32mwith\u001b[0m \u001b[0mopen\u001b[0m\u001b[0;34m(\u001b[0m\u001b[0mpickle_dir\u001b[0m \u001b[0;34m+\u001b[0m \u001b[0;34mf'cochrecon_{pnet_name}_{_bg_type}.p'\u001b[0m\u001b[0;34m,\u001b[0m \u001b[0;34m'wb'\u001b[0m\u001b[0;34m)\u001b[0m \u001b[0;32mas\u001b[0m \u001b[0mf\u001b[0m\u001b[0;34m:\u001b[0m\u001b[0;34m\u001b[0m\u001b[0;34m\u001b[0m\u001b[0m\n\u001b[0;32m----> 8\u001b[0;31m             \u001b[0mpickle\u001b[0m\u001b[0;34m.\u001b[0m\u001b[0mdump\u001b[0m\u001b[0;34m(\u001b[0m\u001b[0mdf\u001b[0m\u001b[0;34m,\u001b[0m \u001b[0mf\u001b[0m\u001b[0;34m)\u001b[0m\u001b[0;34m\u001b[0m\u001b[0;34m\u001b[0m\u001b[0m\n\u001b[0m\u001b[1;32m      9\u001b[0m         \u001b[0mplt\u001b[0m\u001b[0;34m.\u001b[0m\u001b[0mfigure\u001b[0m\u001b[0;34m(\u001b[0m\u001b[0;34m)\u001b[0m\u001b[0;34m\u001b[0m\u001b[0;34m\u001b[0m\u001b[0m\n",
      "\u001b[0;31mOSError\u001b[0m: [Errno 28] No space left on device",
      "\nDuring handling of the above exception, another exception occurred:\n",
      "\u001b[0;31mOSError\u001b[0m                                   Traceback (most recent call last)",
      "\u001b[0;32m<ipython-input-22-041d7a82c226>\u001b[0m in \u001b[0;36m<module>\u001b[0;34m\u001b[0m\n\u001b[1;32m      6\u001b[0m         \u001b[0mtimesteps\u001b[0m\u001b[0;34m,\u001b[0m \u001b[0mcorrelations\u001b[0m\u001b[0;34m,\u001b[0m \u001b[0msnrs\u001b[0m\u001b[0;34m,\u001b[0m \u001b[0mdf\u001b[0m \u001b[0;34m=\u001b[0m \u001b[0meval_correlations\u001b[0m\u001b[0;34m(\u001b[0m\u001b[0mpnet\u001b[0m\u001b[0;34m,\u001b[0m \u001b[0mbg_type\u001b[0m\u001b[0;34m=\u001b[0m\u001b[0m_bg_type\u001b[0m\u001b[0;34m)\u001b[0m\u001b[0;34m\u001b[0m\u001b[0;34m\u001b[0m\u001b[0m\n\u001b[1;32m      7\u001b[0m         \u001b[0;32mwith\u001b[0m \u001b[0mopen\u001b[0m\u001b[0;34m(\u001b[0m\u001b[0mpickle_dir\u001b[0m \u001b[0;34m+\u001b[0m \u001b[0;34mf'cochrecon_{pnet_name}_{_bg_type}.p'\u001b[0m\u001b[0;34m,\u001b[0m \u001b[0;34m'wb'\u001b[0m\u001b[0;34m)\u001b[0m \u001b[0;32mas\u001b[0m \u001b[0mf\u001b[0m\u001b[0;34m:\u001b[0m\u001b[0;34m\u001b[0m\u001b[0;34m\u001b[0m\u001b[0m\n\u001b[0;32m----> 8\u001b[0;31m             \u001b[0mpickle\u001b[0m\u001b[0;34m.\u001b[0m\u001b[0mdump\u001b[0m\u001b[0;34m(\u001b[0m\u001b[0mdf\u001b[0m\u001b[0;34m,\u001b[0m \u001b[0mf\u001b[0m\u001b[0;34m)\u001b[0m\u001b[0;34m\u001b[0m\u001b[0;34m\u001b[0m\u001b[0m\n\u001b[0m\u001b[1;32m      9\u001b[0m         \u001b[0mplt\u001b[0m\u001b[0;34m.\u001b[0m\u001b[0mfigure\u001b[0m\u001b[0;34m(\u001b[0m\u001b[0;34m)\u001b[0m\u001b[0;34m\u001b[0m\u001b[0;34m\u001b[0m\u001b[0m\n\u001b[1;32m     10\u001b[0m         g = sns.lineplot(\n",
      "\u001b[0;31mOSError\u001b[0m: [Errno 28] No space left on device"
     ]
    }
   ],
   "source": [
    "for arg in args:\n",
    "    PNetClass, pnet_name, p_layers, chckpt = arg\n",
    "    pnet = load_pnet(PNetClass, pnet_name, chckpt)\n",
    "    for _bg_type in np.unique(bg):\n",
    "        if _bg_type =='n/a': continue\n",
    "        timesteps, correlations, snrs, df = eval_correlations(pnet, bg_type=_bg_type)\n",
    "        with open(pickle_dir + f'cochrecon_{pnet_name}_{_bg_type}.p', 'wb') as f:\n",
    "            pickle.dump(df, f)\n",
    "        plt.figure()\n",
    "        g = sns.lineplot(\n",
    "            x='Timesteps', y='Correlation',\n",
    "            hue='SNR',\n",
    "            data=df\n",
    "            )\n",
    "        plt.title(f'{p_layers}: {_bg_type}')\n",
    "        plt.ylabel('RMS of Cochleagram Row')\n",
    "        plt.xticks([0, 1, 2, 3, 4])\n",
    "        plt.legend(title='SNR', labels=[-11, -9, -3, 0, 3])\n",
    "        plt.savefig(fig_dir + f'cochrecon_{pnet_name}_{_bg_type}.png', dpi=300)\n",
    "        plt.show(g)"
   ]
  },
  {
   "cell_type": "markdown",
   "metadata": {},
   "source": [
    "# Auditory Background, Correct"
   ]
  },
  {
   "cell_type": "code",
   "execution_count": null,
   "metadata": {},
   "outputs": [],
   "source": [
    "for arg in args:\n",
    "    PNetClass, pnet_name, p_layers, chckpt = arg\n",
    "    pnet = load_pnet(PNetClass, pnet_name, chckpt)\n",
    "    for _bg_type in np.unique(bg):\n",
    "        if _bg_type =='n/a': continue\n",
    "        timesteps, correlations, snrs, df = eval_correlations(\n",
    "            pnet, bg_type=_bg_type,\n",
    "            exclude_correct=False, exclude_incorrect=True\n",
    "            )\n",
    "        with open(pickle_dir + f'cochrecon_correct_{pnet_name}_{_bg_type}.p', 'wb') as f:\n",
    "            pickle.dump(df, f)\n",
    "        plt.figure()\n",
    "        g = sns.lineplot(\n",
    "            x='Timesteps', y='Correlation',\n",
    "            hue='SNR',\n",
    "            data=df\n",
    "            )\n",
    "        plt.title(f'{p_layers}: {_bg_type}')\n",
    "        plt.ylabel('RMS of Cochleagram Row')\n",
    "        plt.xticks([0, 1, 2, 3, 4])\n",
    "        plt.legend(title='SNR', labels=[-11, -9, -3, 0, 3])\n",
    "        plt.savefig(fig_dir + f'cochrecon_correct_{pnet_name}_{_bg_type}.png', dpi=300)\n",
    "        plt.show(g)"
   ]
  },
  {
   "cell_type": "code",
   "execution_count": null,
   "metadata": {},
   "outputs": [],
   "source": []
  },
  {
   "cell_type": "code",
   "execution_count": null,
   "metadata": {},
   "outputs": [],
   "source": []
  },
  {
   "cell_type": "code",
   "execution_count": null,
   "metadata": {},
   "outputs": [],
   "source": []
  },
  {
   "cell_type": "code",
   "execution_count": null,
   "metadata": {},
   "outputs": [],
   "source": []
  },
  {
   "cell_type": "code",
   "execution_count": null,
   "metadata": {},
   "outputs": [],
   "source": []
  },
  {
   "cell_type": "code",
   "execution_count": null,
   "metadata": {},
   "outputs": [],
   "source": []
  },
  {
   "cell_type": "markdown",
   "metadata": {},
   "source": [
    "# Plots for Guillermo"
   ]
  },
  {
   "cell_type": "code",
   "execution_count": 2,
   "metadata": {},
   "outputs": [],
   "source": [
    "pick_names = ['all', 'a1', 'conv1']\n",
    "leg_names = ['All', 'A1', 'Layer 1']"
   ]
  },
  {
   "cell_type": "code",
   "execution_count": 11,
   "metadata": {},
   "outputs": [
    {
     "data": {
      "image/png": "[encoded data removed]",
      "text/plain": [
       "<Figure size 432x288 with 1 Axes>"
      ]
     },
     "metadata": {
      "needs_background": "light"
     },
     "output_type": "display_data"
    }
   ],
   "source": [
    "fig, ax = plt.subplots()\n",
    "for pick_name, leg_name in zip(pick_names, leg_names):\n",
    "    acc_file = f'{pickle_dir}{pick_name}_acc_Babble8Spkr.p'\n",
    "    with open(acc_file, 'rb') as f:\n",
    "        df = pickle.load(f)\n",
    "    sns.lineplot(x='Timesteps', y='Accuracy', label=leg_name, data=df)\n",
    "plt.savefig(fig_dir + f'layer_accuracy.png', dpi=300)\n",
    "plt.savefig(fig_dir + f'layer_accuracy.pdf', dpi=300)\n",
    "plt.show()"
   ]
  },
  {
   "cell_type": "code",
   "execution_count": 12,
   "metadata": {},
   "outputs": [
    {
     "data": {
      "image/png": "[encoded data removed]",
      "text/plain": [
       "<Figure size 432x288 with 1 Axes>"
      ]
     },
     "metadata": {
      "needs_background": "light"
     },
     "output_type": "display_data"
    }
   ],
   "source": [
    "fig, ax = plt.subplots()\n",
    "for pick_name, leg_name in zip(pick_names, leg_names):\n",
    "    acc_file = f'{pickle_dir}{pick_name}_corr_Babble8Spkr.p'\n",
    "    with open(acc_file, 'rb') as f:\n",
    "        df = pickle.load(f)\n",
    "    sns.lineplot(x='Timesteps', y='Correlation', label=leg_name, data=df)\n",
    "plt.ylabel('RMS of Cochleagram Row')\n",
    "plt.savefig(fig_dir + f'layer_rms.png', dpi=300)\n",
    "plt.savefig(fig_dir + f'layer_rms.pdf', dpi=300)\n",
    "plt.show()"
   ]
  },
  {
   "cell_type": "code",
   "execution_count": null,
   "metadata": {},
   "outputs": [],
   "source": []
  }
 ],
 "metadata": {
  "kernelspec": {
   "display_name": "Python 3",
   "language": "python",
   "name": "python3"
  },
  "language_info": {
   "codemirror_mode": {
    "name": "ipython",
    "version": 3
   },
   "file_extension": ".py",
   "mimetype": "text/x-python",
   "name": "python",
   "nbconvert_exporter": "python",
   "pygments_lexer": "ipython3",
   "version": "3.7.3"
  }
 },
 "nbformat": 4,
 "nbformat_minor": 5
}
