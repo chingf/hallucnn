{
 "cells": [
  {
   "cell_type": "code",
   "execution_count": 4,
   "metadata": {},
   "outputs": [
    {
     "name": "stderr",
     "output_type": "stream",
     "text": [
      "/home/es3773/.local/lib/python3.7/site-packages/pandas/compat/_optional.py:138: UserWarning: Pandas requires version '2.7.0' or newer of 'numexpr' (version '2.6.9' currently installed).\n",
      "  warnings.warn(msg, UserWarning)\n"
     ]
    }
   ],
   "source": [
    "import os\n",
    "import sys\n",
    "import numpy as np\n",
    "import matplotlib.pyplot as plt\n",
    "import pickle\n",
    "import h5py\n",
    "import seaborn as sns\n",
    "import pandas as pd\n",
    "from scipy.stats import pearsonr\n",
    "root = os.path.dirname(os.path.abspath(os.curdir))\n",
    "sys.path.append(root)\n",
    "\n",
    "import torch\n",
    "from torch.utils.tensorboard import SummaryWriter\n",
    "from torch.utils.data import DataLoader\n",
    "from torch.utils.data import Subset\n",
    "\n",
    "from predify.utils.training import train_pcoders, eval_pcoders\n",
    "\n",
    "from networks_2022 import BranchedNetwork\n",
    "from data.CleanSoundsDataset import CleanSoundsDataset"
   ]
  },
  {
   "cell_type": "markdown",
   "metadata": {},
   "source": [
    "# Choose which network you're running"
   ]
  },
  {
   "cell_type": "code",
   "execution_count": 5,
   "metadata": {},
   "outputs": [],
   "source": [
    "args = ['all', 'a1']"
   ]
  },
  {
   "cell_type": "markdown",
   "metadata": {},
   "source": [
    "# Parameters"
   ]
  },
  {
   "cell_type": "code",
   "execution_count": 6,
   "metadata": {},
   "outputs": [],
   "source": [
    "engram_dir = '/mnt/smb/locker/issa-locker/users/Erica/'"
   ]
  },
  {
   "cell_type": "code",
   "execution_count": 7,
   "metadata": {},
   "outputs": [],
   "source": [
    "fig_dir = f'{engram_dir}hcnn/figures/'\n",
    "pickle_dir = f'{engram_dir}hcnn/pickles/'\n",
    "activations_dir = f'{engram_dir}hcnn/activations/'"
   ]
  },
  {
   "cell_type": "code",
   "execution_count": 8,
   "metadata": {},
   "outputs": [
    {
     "name": "stdout",
     "output_type": "stream",
     "text": [
      "Device: cuda:0\n"
     ]
    }
   ],
   "source": [
    "DEVICE = 'cuda:0' if torch.cuda.is_available() else 'cpu'\n",
    "print(f'Device: {DEVICE}')\n",
    "\n",
    "checkpoints_dir = f'{engram_dir}hcnn/checkpoints/'\n",
    "tensorboard_dir = f'{engram_dir}hcnn/tensorboard/'"
   ]
  },
  {
   "cell_type": "markdown",
   "metadata": {},
   "source": [
    "# Helper functions"
   ]
  },
  {
   "cell_type": "code",
   "execution_count": 9,
   "metadata": {},
   "outputs": [],
   "source": [
    "def load_pnet(PNetClass, pnet_name, chckpt):\n",
    "    net = BranchedNetwork(track_encoder_representations=True)\n",
    "    net.load_state_dict(torch.load(f'{engram_dir}networks_2022_weights.pt'))\n",
    "    pnet = PNetClass(net, build_graph=False)\n",
    "    pnet.load_state_dict(torch.load(\n",
    "        f\"{checkpoints_dir}{pnet_name}/{pnet_name}-{chckpt}-regular.pth\",\n",
    "        map_location='cpu'\n",
    "        ))\n",
    "    pnet.to(DEVICE)\n",
    "    pnet.eval();\n",
    "    print(f'Loaded Pnet: {pnet_name}')\n",
    "    print_hps(pnet)\n",
    "    return pnet"
   ]
  },
  {
   "cell_type": "code",
   "execution_count": 10,
   "metadata": {},
   "outputs": [],
   "source": [
    "def print_hps(pnet):\n",
    "    for pc in range(pnet.number_of_pcoders):\n",
    "        print (f\"PCoder{pc+1} : ffm: {getattr(pnet,f'ffm{pc+1}'):0.3f} \\t fbm: {getattr(pnet,f'fbm{pc+1}'):0.3f} \\t erm: {getattr(pnet,f'erm{pc+1}'):0.3f}\")"
   ]
  },
  {
   "cell_type": "code",
   "execution_count": 11,
   "metadata": {},
   "outputs": [],
   "source": [
    "# A few distance metrics\n",
    "\n",
    "def row_rms(A, B):\n",
    "    \"\"\"\n",
    "    RMS across rows\n",
    "    \"\"\"\n",
    "    \n",
    "    if torch.is_tensor(A):\n",
    "        A = A.numpy()\n",
    "    if torch.is_tensor(B):\n",
    "        B = B.numpy()\n",
    "    A = A.astype(float)\n",
    "    B = B.astype(float)\n",
    "    \n",
    "    if len(A.shape) == 1:\n",
    "        stim = A - B\n",
    "        return np.sqrt(np.mean(stim * stim, axis = 0))\n",
    "    \n",
    "    rmses = []\n",
    "    for idx in range(A.shape[0]):\n",
    "        a = A[idx]\n",
    "        b = B[idx]\n",
    "        a, b = a.T, b.T\n",
    "        stim = (a - b)\n",
    "        out = np.sqrt(np.mean(stim * stim, axis = 0))\n",
    "        rmses.append(out)\n",
    "    return np.mean(rmses)\n",
    "\n",
    "def rms(A, B):\n",
    "    \"\"\"\n",
    "    RMS of flattened vectors\n",
    "    \"\"\"\n",
    "    \n",
    "    if torch.is_tensor(A):\n",
    "        A = A.numpy()\n",
    "    if torch.is_tensor(B):\n",
    "        B = B.numpy()\n",
    "    A = A.astype(float)\n",
    "    B = B.astype(float)\n",
    "    A = A.flatten()\n",
    "    B = B.flatten()\n",
    "        \n",
    "    stim = A - B\n",
    "    out = np.sqrt(np.mean(stim * stim))\n",
    "\n",
    "    return out\n",
    "\n",
    "def tanimoto_distance(A, B):\n",
    "    \"\"\"\n",
    "    Tanimoto distance of flattened vector\n",
    "    \"\"\"\n",
    "    \n",
    "    if torch.is_tensor(A):\n",
    "        A = A.numpy()\n",
    "    if torch.is_tensor(B):\n",
    "        B = B.numpy()\n",
    "    A = A.astype(float)\n",
    "    B = B.astype(float)\n",
    "    A = A.flatten()\n",
    "    B = B.flatten()\n",
    "    \n",
    "    _out = np.dot(A, B)/(np.linalg.norm(A)**2 + np.linalg.norm(B)**2 - np.dot(A,B))\n",
    "    return _out\n",
    "    \n",
    "def cosine_similarity(A, B):\n",
    "    \"\"\"\n",
    "    Cosine similarity of flattened vector\n",
    "    \"\"\"\n",
    "    \n",
    "    if torch.is_tensor(A):\n",
    "        A = A.numpy()\n",
    "    if torch.is_tensor(B):\n",
    "        B = B.numpy()\n",
    "    A = A.astype(float)\n",
    "    B = B.astype(float)\n",
    "    A = A.flatten()\n",
    "    B = B.flatten()\n",
    "    \n",
    "    if len(A.shape) == 1:\n",
    "        return np.dot(A, B)/(np.linalg.norm(A)*np.linalg.norm(B))\n",
    "    \n",
    "    out = []\n",
    "    for channel in range(n_channels):\n",
    "        a = A[channel]\n",
    "        b = B[channel]\n",
    "        _out = np.dot(a, b)/(np.linalg.norm(a)*np.linalg.norm(b))\n",
    "        if np.isnan(_out):\n",
    "            print(f'nan: {np.linalg.norm(a)}, {np.linalg.norm(b)}')\n",
    "            _out = np.dot(a, b)/(np.linalg.norm(a)*np.linalg.norm(b)+1E-5)\n",
    "        out.append(_out)\n",
    "\n",
    "    return np.mean(out)"
   ]
  },
  {
   "cell_type": "markdown",
   "metadata": {},
   "source": [
    "# Load PsychoPhysics Dataset"
   ]
  },
  {
   "cell_type": "code",
   "execution_count": 12,
   "metadata": {},
   "outputs": [],
   "source": [
    "f_in = h5py.File(f\"{engram_dir}PsychophysicsWord2017W_not_resampled.hdf5\", 'r')"
   ]
  },
  {
   "cell_type": "code",
   "execution_count": 13,
   "metadata": {},
   "outputs": [],
   "source": [
    "f_metadata = np.load(f\"{engram_dir}PsychophysicsWord2017W_999c6fc475be1e82e114ab9865aa5459e4fd329d.__META.npy\", 'r')"
   ]
  },
  {
   "cell_type": "code",
   "execution_count": 14,
   "metadata": {},
   "outputs": [],
   "source": [
    "f_key = np.load(f\"{engram_dir}PsychophysicsWord2017W_999c6fc475be1e82e114ab9865aa5459e4fd329d.__META_key.npy\", 'r')"
   ]
  },
  {
   "cell_type": "code",
   "execution_count": 15,
   "metadata": {},
   "outputs": [],
   "source": [
    "with open(f\"{engram_dir}PsychophysicsWord2017W_net_performance.p\", 'rb') as f:\n",
    "    net_mistakes = pickle.load(f)['net_mistakes']"
   ]
  },
  {
   "cell_type": "code",
   "execution_count": 16,
   "metadata": {},
   "outputs": [],
   "source": [
    "def getPsychophysics2017WCleanCochleagrams():\n",
    "    \n",
    "    cochleagrams_clean = []\n",
    "   \n",
    "    cochleagrams = []\n",
    "    for batch_ii in range(0,15300,100):\n",
    "        hdf5_path = '/mnt/smb/locker/issa-locker/users/Erica/cgrams_for_noise_robustness_analysis/PsychophysicsWord2017W_clean/batch_'+str(batch_ii)+'_to_'+str(batch_ii+100)+'.hdf5'\n",
    "        with h5py.File(hdf5_path, 'r') as f_in:\n",
    "            cochleagrams += list(f_in['data'])\n",
    "\n",
    "    return cochleagrams\n",
    "clean_in = getPsychophysics2017WCleanCochleagrams()"
   ]
  },
  {
   "cell_type": "code",
   "execution_count": 17,
   "metadata": {},
   "outputs": [],
   "source": [
    "labels = []\n",
    "for word in f_metadata['word']:\n",
    "    idx = np.argwhere(f_key == word)\n",
    "    if len(idx) == 0:\n",
    "        labels.append(-1)\n",
    "    else:\n",
    "        labels.append(idx.item())\n",
    "labels = np.array(labels)\n",
    "labels += 1"
   ]
  },
  {
   "cell_type": "code",
   "execution_count": 18,
   "metadata": {},
   "outputs": [],
   "source": [
    "bg = []\n",
    "for _bg in f_metadata['bg']:\n",
    "    bg.append(str(_bg, 'utf-8'))\n",
    "bg = np.array(bg)"
   ]
  },
  {
   "cell_type": "code",
   "execution_count": 19,
   "metadata": {},
   "outputs": [],
   "source": [
    "snr = []\n",
    "for _snr in f_metadata['snr']:\n",
    "    _snr = str(_snr, 'utf-8')\n",
    "    if 'inf' in _snr:\n",
    "        _snr = np.inf\n",
    "    elif 'neg' in _snr:\n",
    "        if '3' in _snr:\n",
    "            _snr = -3\n",
    "        elif '6' in _snr:\n",
    "            _snr = -6\n",
    "        elif '9' in _snr:\n",
    "            _snr = -9\n",
    "        else:\n",
    "            raise ValueError('Not found')\n",
    "    else:\n",
    "        if '0' in _snr:\n",
    "            _snr = 0\n",
    "        elif '3' in _snr:\n",
    "            _snr = 3\n",
    "        else:\n",
    "            raise ValueError('Not found')\n",
    "    snr.append(_snr)\n",
    "snr = np.array(snr)"
   ]
  },
  {
   "cell_type": "code",
   "execution_count": 20,
   "metadata": {},
   "outputs": [],
   "source": [
    "orig_dset = []\n",
    "for _orig_dset in f_metadata['orig_dset']:\n",
    "    _orig_dset = str(_orig_dset, 'utf-8')\n",
    "    _orig_dset = 'WSJ' if 'WSJ' in _orig_dset else 'Timit'\n",
    "    orig_dset.append(_orig_dset)\n",
    "orig_dset = np.array(orig_dset)"
   ]
  },
  {
   "cell_type": "markdown",
   "metadata": {},
   "source": [
    "# Layer denoising shuffles"
   ]
  },
  {
   "cell_type": "code",
   "execution_count": 21,
   "metadata": {},
   "outputs": [],
   "source": [
    "# This is bad practice! But the warnings are real annoying\n",
    "import warnings\n",
    "warnings.filterwarnings(\"ignore\")"
   ]
  },
  {
   "cell_type": "code",
   "execution_count": 27,
   "metadata": {},
   "outputs": [],
   "source": [
    "def get_df(results, distance_func, keep_idxs=None, ts=[0], shuffle='vals'):\n",
    "    timesteps = []\n",
    "    distances = []\n",
    "    encoders = []\n",
    "    encoder_depths = []\n",
    "    clean_accs = []\n",
    "    pred_accs = []\n",
    "    idxs = []\n",
    "    \n",
    "    for idx in results.keys():\n",
    "        if (keep_idxs is not None) and (not keep_idxs[idx]):\n",
    "            continue\n",
    "            \n",
    "        if shuffle == 'labels':\n",
    "            clean_idx = np.random.choice(list(results.keys()))\n",
    "        else:\n",
    "            clean_idx = idx\n",
    "            \n",
    "        clean_output = results[clean_idx]['clean_output']\n",
    "        clean_repr_dict = results[clean_idx]['clean_repr_dict']\n",
    "        clean_acc = clean_output == labels[clean_idx]\n",
    "        timestep_results = results[idx]['timestep_results']\n",
    "        \n",
    "        base_distance = {}\n",
    "        for timestep in ts:\n",
    "            noisy_output = timestep_results[timestep]['noisy_output']\n",
    "            noisy_repr_dict = timestep_results[timestep]['noisy_repr_dict']\n",
    "            pnet_acc = noisy_output == labels[idx]\n",
    "            enc_names = ['conv1', 'conv2', 'conv3', 'conv4_W', 'conv5_W', 'fc6_W']\n",
    "            for enc_depth, enc_name in enumerate(enc_names):\n",
    "                noisy_repr = noisy_repr_dict[enc_name]\n",
    "                clean_repr = clean_repr_dict[enc_name].copy()\n",
    "                \n",
    "                if shuffle == 'vals':\n",
    "                    np.random.shuffle(clean_repr)\n",
    "                \n",
    "                distance = distance_func(noisy_repr, clean_repr)\n",
    "                if timestep == 0:\n",
    "                    base_distance[enc_name] = distance\n",
    "                timesteps.append(timestep)\n",
    "                distances.append(distance) #/base_distance[enc_name])\n",
    "                encoders.append(enc_name)\n",
    "                encoder_depths.append(enc_depth)\n",
    "                clean_accs.append(clean_acc)\n",
    "                pred_accs.append(pnet_acc)\n",
    "                idxs.append(idx)\n",
    "                        \n",
    "    df = pd.DataFrame({\n",
    "        'Timesteps': timesteps,\n",
    "        'Distance Metric': distances,\n",
    "        'Encoder': encoders,\n",
    "        'Encoder Depth': encoder_depths,\n",
    "        'Clean Accuracy': clean_accs,\n",
    "        'PNet Accuracy': pred_accs,\n",
    "        'Idx': idxs\n",
    "    })\n",
    "    return df"
   ]
  },
  {
   "cell_type": "code",
   "execution_count": 35,
   "metadata": {},
   "outputs": [
    {
     "data": {
      "image/png": "[encoded data removed]",
      "text/plain": [
       "<Figure size 432x288 with 1 Axes>"
      ]
     },
     "metadata": {
      "needs_background": "light"
     },
     "output_type": "display_data"
    },
    {
     "data": {
      "image/png": "[encoded data removed]",
      "text/plain": [
       "<Figure size 432x288 with 1 Axes>"
      ]
     },
     "metadata": {
      "needs_background": "light"
     },
     "output_type": "display_data"
    }
   ],
   "source": [
    "shuffle_results = {}\n",
    "for pnet_name in args:\n",
    "    pfiles = [\n",
    "        k for k in os.listdir(\n",
    "            activations_dir) if k.startswith(pnet_name)\n",
    "        ]\n",
    "    dfs = []\n",
    "    for pfile in pfiles:\n",
    "        with open(f'{activations_dir}{pfile}', 'rb') as f:\n",
    "            results = pickle.load(f)\n",
    "        dfs.append(get_df(\n",
    "            results, cosine_similarity,\n",
    "            keep_idxs=np.ones(net_mistakes.shape),\n",
    "            ts=[0, 4], shuffle='labels'\n",
    "            ))\n",
    "    df = pd.concat(dfs)\n",
    "    \n",
    "    fig, ax = plt.subplots()\n",
    "    g = sns.lineplot(\n",
    "        x='Encoder Depth', y='Distance Metric', hue='Timesteps',\n",
    "        data=df#[(df['Clean Accuracy'] == True) & (df['PNet Accuracy'] == True)]\n",
    "        )\n",
    "    plt.xticks([0, 1, 2, 3, 4])\n",
    "    #plt.axhline(1, color='gray', linestyle='--')\n",
    "    plt.show(g)\n",
    "    \n",
    "    shuffle_results[pnet_name] = {}\n",
    "    for encoder_depth in np.unique(df['Encoder Depth']):\n",
    "        shuffle_results[pnet_name][encoder_depth] = {}\n",
    "        for timestep in np.unique(df['Timesteps']):\n",
    "            shuffle_val = np.mean(df[\n",
    "                (df['Encoder Depth'] == encoder_depth) & (df['Timesteps'] == timestep)\n",
    "                ]['Distance Metric'])\n",
    "            shuffle_results[pnet_name][encoder_depth][timestep] = shuffle_val"
   ]
  },
  {
   "cell_type": "code",
   "execution_count": 36,
   "metadata": {},
   "outputs": [
    {
     "data": {
      "text/plain": [
       "{'all': {0.0: {0.0: 0.8384310223388163, 4.0: 0.8307635982506325},\n",
       "  1.0: {0.0: 0.2341064368265914, 4.0: 0.19929759695937005},\n",
       "  2.0: {0.0: 0.2036934267082749, 4.0: 0.2649455903801719},\n",
       "  3.0: {0.0: 0.13000446072807703, 4.0: 0.10935634763453805},\n",
       "  4.0: {0.0: 0.030943368222556923, 4.0: 0.03522226518258364},\n",
       "  5.0: {0.0: 0.13804638466075575, 4.0: 0.13273063541169122}},\n",
       " 'a1': {0.0: {0.0: 0.8400538277383043, 4.0: 0.836833782746997},\n",
       "  1.0: {0.0: 0.23627810976033553, 4.0: 0.35473395151456844},\n",
       "  2.0: {0.0: 0.2066393097796506, 4.0: 0.2955302954785217},\n",
       "  3.0: {0.0: 0.13170936091195326, 4.0: 0.14981976610779554},\n",
       "  4.0: {0.0: 0.029096974027582795, 4.0: 0.0335354570385546},\n",
       "  5.0: {0.0: 0.13633976115711416, 4.0: 0.13221150397728798}}}"
      ]
     },
     "execution_count": 36,
     "metadata": {},
     "output_type": "execute_result"
    }
   ],
   "source": [
    "shuffle_results"
   ]
  },
  {
   "cell_type": "code",
   "execution_count": 37,
   "metadata": {},
   "outputs": [],
   "source": [
    "with open('15_layer_denoising_shuffle.p', 'wb') as f:\n",
    "    pickle.dump(shuffle_results, f)"
   ]
  },
  {
   "cell_type": "markdown",
   "metadata": {},
   "source": [
    "# Layer discriminability shuffle"
   ]
  },
  {
   "cell_type": "code",
   "execution_count": 26,
   "metadata": {},
   "outputs": [],
   "source": [
    "def get_df(results, distance_func, keep_idxs=None):\n",
    "    distances = []\n",
    "    encoders = []\n",
    "    encoder_depths = []\n",
    "    idxs = []\n",
    "    \n",
    "    for idx in results.keys():\n",
    "        if (keep_idxs is not None) and (not keep_idxs[idx]):\n",
    "            continue\n",
    "        \n",
    "        # Sound 1\n",
    "        c1_output = results[idx]['clean_output']\n",
    "        c1_repr_dict = results[idx]['clean_repr_dict']\n",
    "        c1_label = labels[idx]\n",
    "        c1_acc = c1_output == c1_label\n",
    "        \n",
    "        # Sound 2\n",
    "        c2_label = c1_label\n",
    "        while c2_label == c1_label:\n",
    "            c2_idx = np.random.choice(list(results.keys()))\n",
    "            c2_output = results[c2_idx]['clean_output']\n",
    "            c2_repr_dict = results[c2_idx]['clean_repr_dict']\n",
    "            c2_label = labels[c2_idx]\n",
    "            c2_acc = c2_output == c2_label\n",
    "            \n",
    "        # Start comparing across encoders\n",
    "        enc_names = ['conv1', 'conv2', 'conv3', 'conv4_W', 'conv5_W', 'fc6_W'] \n",
    "        for enc_depth, enc_name in enumerate(enc_names):\n",
    "            c1_repr = c1_repr_dict[enc_name]\n",
    "            c2_repr = c2_repr_dict[enc_name]\n",
    "            distance = distance_func(c1_repr, c2_repr)\n",
    "            distances.append(distance)\n",
    "            encoders.append(enc_name)\n",
    "            encoder_depths.append(enc_depth)\n",
    "            idxs.append(idx)\n",
    "                        \n",
    "    df = pd.DataFrame({\n",
    "        'Distance Metric': distances,\n",
    "        'Encoder': encoders,\n",
    "        'Encoder Depth': encoder_depths,\n",
    "        'Idx': idxs\n",
    "    })\n",
    "    return df"
   ]
  },
  {
   "cell_type": "code",
   "execution_count": 27,
   "metadata": {},
   "outputs": [
    {
     "data": {
      "image/png": "[encoded data removed]",
      "text/plain": [
       "<Figure size 432x288 with 1 Axes>"
      ]
     },
     "metadata": {
      "needs_background": "light"
     },
     "output_type": "display_data"
    },
    {
     "data": {
      "image/png": "[encoded data removed]",
      "text/plain": [
       "<Figure size 432x288 with 1 Axes>"
      ]
     },
     "metadata": {
      "needs_background": "light"
     },
     "output_type": "display_data"
    }
   ],
   "source": [
    "shuffle_results = {}\n",
    "for pnet_name in args:\n",
    "    pfiles = [\n",
    "        k for k in os.listdir(\n",
    "            activations_dir) if k.startswith(pnet_name)\n",
    "        ]\n",
    "    dfs = []\n",
    "    for pfile in pfiles:\n",
    "        with open(f'{activations_dir}{pfile}', 'rb') as f:\n",
    "            results = pickle.load(f)\n",
    "        dfs.append(get_df(\n",
    "            results, cosine_similarity\n",
    "            ))\n",
    "    df = pd.concat(dfs)\n",
    "    \n",
    "    fig, ax = plt.subplots()\n",
    "    g = sns.lineplot(\n",
    "        x='Encoder Depth', y='Distance Metric',\n",
    "        data=df\n",
    "        )\n",
    "    plt.xticks([0, 1, 2, 3, 4])\n",
    "    plt.show(g)\n",
    "    \n",
    "    shuffle_results[pnet_name] = {}\n",
    "    for encoder_depth in np.unique(df['Encoder Depth']):\n",
    "        shuffle_val = np.mean(df[\n",
    "            df['Encoder Depth'] == encoder_depth\n",
    "            ]['Distance Metric'])\n",
    "        shuffle_results[pnet_name][encoder_depth] = shuffle_val"
   ]
  },
  {
   "cell_type": "code",
   "execution_count": 28,
   "metadata": {},
   "outputs": [
    {
     "data": {
      "text/plain": [
       "{'all': {0.0: 0.7651886409083812,\n",
       "  1.0: 0.32189241884025277,\n",
       "  2.0: 0.3224212432344102,\n",
       "  3.0: 0.16947779033593816,\n",
       "  4.0: 0.02977144849359274,\n",
       "  5.0: 0.1436777997295101},\n",
       " 'a1': {0.0: 0.7633175985361342,\n",
       "  1.0: 0.32121245273943216,\n",
       "  2.0: 0.3212113081766506,\n",
       "  3.0: 0.16878983896837255,\n",
       "  4.0: 0.028771362917852015,\n",
       "  5.0: 0.14354980508351123}}"
      ]
     },
     "execution_count": 28,
     "metadata": {},
     "output_type": "execute_result"
    }
   ],
   "source": [
    "shuffle_results"
   ]
  },
  {
   "cell_type": "code",
   "execution_count": 30,
   "metadata": {},
   "outputs": [],
   "source": [
    "with open('15_layer_discriminability_shuffle.p', 'wb') as f:\n",
    "    pickle.dump(shuffle_results, f)"
   ]
  },
  {
   "cell_type": "code",
   "execution_count": null,
   "metadata": {},
   "outputs": [],
   "source": []
  },
  {
   "cell_type": "markdown",
   "metadata": {},
   "source": [
    "# Layer discriminability"
   ]
  },
  {
   "cell_type": "code",
   "execution_count": 33,
   "metadata": {},
   "outputs": [],
   "source": [
    "def get_df(results, distance_func, keep_idxs=None, ts=[0], shuffle_results=None):\n",
    "    timesteps = []\n",
    "    distances = []\n",
    "    encoders = []\n",
    "    encoder_depths = []\n",
    "    idxs = []\n",
    "    \n",
    "    for idx in results.keys():\n",
    "        if (keep_idxs is not None) and (not keep_idxs[idx]):\n",
    "            continue\n",
    "\n",
    "        # Sound 1\n",
    "        s1_results = results[idx]['timestep_results']\n",
    "        s1_label = labels[idx]\n",
    "        \n",
    "        # Sound 2\n",
    "        s2_label = s1_label\n",
    "        while s2_label == s1_label:\n",
    "            idx_list = np.array(list(results.keys()))\n",
    "            if keep_idxs is not None:\n",
    "                idx_list = idx_list[keep_idxs]\n",
    "            s2_idx = np.random.choice(idx_list)\n",
    "            s2_results = results[s2_idx]['timestep_results']\n",
    "            s2_label = labels[s2_idx]\n",
    "            \n",
    "        for timestep in ts:\n",
    "            s1_repr_dict = s1_results[timestep]['noisy_repr_dict']\n",
    "            s2_repr_dict = s2_results[timestep]['noisy_repr_dict']\n",
    "            enc_names = ['conv1', 'conv2', 'conv3', 'conv4_W', 'conv5_W', 'fc6_W']\n",
    "            for enc_depth, enc_name in enumerate(enc_names):\n",
    "                s1_repr = s1_repr_dict[enc_name]\n",
    "                s2_repr = s2_repr_dict[enc_name]\n",
    "                \n",
    "                distance = distance_func(s1_repr, s2_repr)\n",
    "                if shuffle_results is not None:\n",
    "                    distance /= shuffle_results[enc_depth]\n",
    "                \n",
    "                timesteps.append(timestep)\n",
    "                distances.append(distance)\n",
    "                encoders.append(enc_name)\n",
    "                encoder_depths.append(enc_depth)\n",
    "                idxs.append(idx)\n",
    "                        \n",
    "    df = pd.DataFrame({\n",
    "        'Timesteps': timesteps,\n",
    "        'Distance Metric': distances,\n",
    "        'Encoder': encoders,\n",
    "        'Encoder Depth': encoder_depths,\n",
    "        'Idx': idxs\n",
    "    })\n",
    "    return df"
   ]
  },
  {
   "cell_type": "code",
   "execution_count": 39,
   "metadata": {},
   "outputs": [
    {
     "data": {
      "image/png": "[encoded data removed]",
      "text/plain": [
       "<Figure size 432x288 with 1 Axes>"
      ]
     },
     "metadata": {
      "needs_background": "light"
     },
     "output_type": "display_data"
    },
    {
     "data": {
      "image/png": "[encoded data removed]",
      "text/plain": [
       "<Figure size 432x288 with 1 Axes>"
      ]
     },
     "metadata": {
      "needs_background": "light"
     },
     "output_type": "display_data"
    }
   ],
   "source": [
    "for pnet_name in args:\n",
    "    pfiles = [\n",
    "        k for k in os.listdir(\n",
    "            activations_dir) if k.startswith(pnet_name)\n",
    "        ]\n",
    "    dfs = []\n",
    "    for pfile in pfiles:\n",
    "        with open(f'{activations_dir}{pfile}', 'rb') as f:\n",
    "            results = pickle.load(f)\n",
    "        dfs.append(get_df(\n",
    "            results, cosine_similarity, ts=[0,4],\n",
    "            shuffle_results=shuffle_results[pnet_name],\n",
    "            ))\n",
    "    df = pd.concat(dfs)\n",
    "    \n",
    "    fig, ax = plt.subplots()\n",
    "    g = sns.lineplot(\n",
    "        x='Encoder Depth', y='Distance Metric', hue='Timesteps',\n",
    "        data=df\n",
    "        )\n",
    "    plt.xticks([0, 1, 2, 3, 4])\n",
    "    plt.axhline(1, color='k', linestyle='--')\n",
    "    plt.show(g)"
   ]
  },
  {
   "cell_type": "code",
   "execution_count": null,
   "metadata": {},
   "outputs": [],
   "source": []
  }
 ],
 "metadata": {
  "kernelspec": {
   "display_name": "Python 3",
   "language": "python",
   "name": "python3"
  },
  "language_info": {
   "codemirror_mode": {
    "name": "ipython",
    "version": 3
   },
   "file_extension": ".py",
   "mimetype": "text/x-python",
   "name": "python",
   "nbconvert_exporter": "python",
   "pygments_lexer": "ipython3",
   "version": "3.7.3"
  }
 },
 "nbformat": 4,
 "nbformat_minor": 5
}
