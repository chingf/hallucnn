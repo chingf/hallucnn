{
 "cells": [
  {
   "cell_type": "code",
   "execution_count": 1,
   "id": "df4ba8d7",
   "metadata": {},
   "outputs": [],
   "source": [
    "import os\n",
    "import sys\n",
    "import numpy as np\n",
    "import matplotlib.pyplot as plt\n",
    "import pickle\n",
    "import h5py\n",
    "import seaborn as sns\n",
    "import pandas as pd\n",
    "from tensorboard.backend.event_processing import event_accumulator\n",
    "from scipy.stats import pearsonr\n",
    "root = os.path.dirname(os.path.abspath(os.curdir))\n",
    "sys.path.append(root)\n",
    "\n",
    "import torch\n",
    "from torch.utils.tensorboard import SummaryWriter\n",
    "from torch.utils.data import DataLoader\n",
    "\n",
    "from predify.utils.training import train_pcoders, eval_pcoders\n",
    "\n",
    "from networks_2022 import BranchedNetwork\n",
    "from data.CleanSoundsDataset import CleanSoundsDataset\n",
    "from data.NoisyDataset import NoisyDataset, FullNoisyDataset"
   ]
  },
  {
   "cell_type": "markdown",
   "id": "357aa1c8",
   "metadata": {},
   "source": [
    "# PNet parameters"
   ]
  },
  {
   "cell_type": "code",
   "execution_count": 2,
   "id": "d6f5ad85",
   "metadata": {},
   "outputs": [],
   "source": [
    "from pbranchednetwork_all import PBranchedNetwork_AllSeparateHP\n",
    "PNetClass = PBranchedNetwork_AllSeparateHP\n",
    "pnet_name = 'pnet'\n",
    "chckpt = 50"
   ]
  },
  {
   "cell_type": "code",
   "execution_count": 3,
   "id": "0d8454d6",
   "metadata": {},
   "outputs": [],
   "source": [
    "n_timesteps = 5\n",
    "layers = ['conv1', 'conv2', 'conv3', 'conv4_W', 'conv5_W']"
   ]
  },
  {
   "cell_type": "markdown",
   "id": "63c37aed",
   "metadata": {},
   "source": [
    "# Paths to relevant directories"
   ]
  },
  {
   "cell_type": "code",
   "execution_count": 4,
   "id": "47644abf",
   "metadata": {},
   "outputs": [],
   "source": [
    "engram_dir = '/mnt/smb/locker/abbott-locker/hcnn/'\n",
    "activations_dir = f'{engram_dir}activations_pnet_all/'\n",
    "checkpoints_dir = f'{engram_dir}checkpoints/'\n",
    "tensorboard_dir = f'{engram_dir}tensorboard/'\n",
    "pickle_dir = f'{engram_dir}pickles/'"
   ]
  },
  {
   "cell_type": "code",
   "execution_count": 5,
   "id": "a57121cd",
   "metadata": {},
   "outputs": [
    {
     "name": "stdout",
     "output_type": "stream",
     "text": [
      "Device: cpu\n"
     ]
    }
   ],
   "source": [
    "DEVICE = 'cuda:0' if torch.cuda.is_available() else 'cpu'\n",
    "print(f'Device: {DEVICE}')"
   ]
  },
  {
   "cell_type": "markdown",
   "id": "842c5281",
   "metadata": {},
   "source": [
    "# Helper functions to save activations"
   ]
  },
  {
   "cell_type": "code",
   "execution_count": 6,
   "id": "acd6bd3a",
   "metadata": {},
   "outputs": [],
   "source": [
    "bgs = ['pinkNoise', 'AudScene', 'Babble8Spkr']\n",
    "snrs = [-9.0, -6.0, -3.0, 0.0, 3.0]"
   ]
  },
  {
   "cell_type": "code",
   "execution_count": 7,
   "id": "42c14857",
   "metadata": {},
   "outputs": [],
   "source": [
    "dead_units = {}\n",
    "for l in layers:\n",
    "    dead_units[l] = []"
   ]
  },
  {
   "cell_type": "code",
   "execution_count": 8,
   "id": "4eaffda3",
   "metadata": {},
   "outputs": [],
   "source": [
    "from functools import reduce"
   ]
  },
  {
   "cell_type": "code",
   "execution_count": 9,
   "id": "bc563fca",
   "metadata": {},
   "outputs": [],
   "source": [
    "dead_units = {}\n",
    "for bg in bgs:\n",
    "    for snr in snrs:\n",
    "        for l in layers:\n",
    "            dead_units[l] = []\n",
    "        results_path = f'{activations_dir}{bg}_snr{int(snr)}.hdf5'\n",
    "        results = h5py.File(results_path, 'r')\n",
    "        labels = np.array(results['label'])\n",
    "        for i in range(labels.size):\n",
    "            for l in layers:\n",
    "                activs = []\n",
    "                for t in range(1): #n_timesteps):\n",
    "                    noisy_activ = results[f'{l}_{t}_activations'][i]\n",
    "                    activs.append(noisy_activ.flatten())\n",
    "                activs = np.array(activs)\n",
    "                dead_u = np.argwhere(np.sum(activs, axis=0)==0)\n",
    "                dead_units[l].append(dead_u)\n",
    "        for l in layers:\n",
    "            x = reduce(np.intersect1d, dead_units[l])\n",
    "            dead_units[l] = [x.tolist()]"
   ]
  },
  {
   "cell_type": "code",
   "execution_count": 12,
   "id": "0098a687",
   "metadata": {},
   "outputs": [],
   "source": [
    "for l in layers:\n",
    "    dead_units[l] = dead_units[l][0]"
   ]
  },
  {
   "cell_type": "code",
   "execution_count": null,
   "id": "3f9b4289",
   "metadata": {},
   "outputs": [],
   "source": [
    "from functools import reduce\n",
    "undead_units = {}\n",
    "for l in dead_units.keys():\n",
    "    n_units = reduce(np.multiply, n_units_per_layer[l])\n",
    "    undead = np.ones(n_units).astype(bool)\n",
    "    undead[dead_units[l]] = False\n",
    "    undead_units[l] = undead\n",
    "undead_units['fc6_W'] = np.ones(4096).astype(bool)"
   ]
  },
  {
   "cell_type": "code",
   "execution_count": 15,
   "id": "b4fdb226",
   "metadata": {},
   "outputs": [],
   "source": [
    "with open(f'{pickle_dir}dead_units.p', 'wb') as f:\n",
    "    results = {}\n",
    "    results['dead_units'] = dead_units\n",
    "    results['undead_units'] = undead_units\n",
    "    pickle.dump(results, f)"
   ]
  },
  {
   "cell_type": "code",
   "execution_count": null,
   "id": "4d91fc0e",
   "metadata": {},
   "outputs": [],
   "source": []
  },
  {
   "cell_type": "code",
   "execution_count": null,
   "id": "2fe13eb5",
   "metadata": {},
   "outputs": [],
   "source": []
  }
 ],
 "metadata": {
  "kernelspec": {
   "display_name": "Python 3",
   "language": "python",
   "name": "python3"
  },
  "language_info": {
   "codemirror_mode": {
    "name": "ipython",
    "version": 3
   },
   "file_extension": ".py",
   "mimetype": "text/x-python",
   "name": "python",
   "nbconvert_exporter": "python",
   "pygments_lexer": "ipython3",
   "version": "3.6.13"
  }
 },
 "nbformat": 4,
 "nbformat_minor": 5
}
