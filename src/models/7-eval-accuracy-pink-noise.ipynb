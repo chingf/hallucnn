{
 "cells": [
  {
   "cell_type": "code",
   "execution_count": 1,
   "metadata": {},
   "outputs": [
    {
     "name": "stderr",
     "output_type": "stream",
     "text": [
      "/home/es3773/.local/lib/python3.7/site-packages/pandas/compat/_optional.py:138: UserWarning: Pandas requires version '2.7.0' or newer of 'numexpr' (version '2.6.9' currently installed).\n",
      "  warnings.warn(msg, UserWarning)\n"
     ]
    }
   ],
   "source": [
    "import os\n",
    "import sys\n",
    "import numpy as np\n",
    "import h5py\n",
    "import matplotlib.pyplot as plt\n",
    "import pandas as pd\n",
    "import pickle\n",
    "import seaborn as sns\n",
    "root = os.path.dirname(os.path.abspath(os.curdir))\n",
    "sys.path.append(root)\n",
    "\n",
    "import torch\n",
    "from torch.utils.tensorboard import SummaryWriter\n",
    "from torch.utils.data import DataLoader\n",
    "from torch.utils.data import Subset\n",
    "\n",
    "from predify.utils.training import train_pcoders, eval_pcoders\n",
    "\n",
    "from networks_2022 import BranchedNetwork\n",
    "from data.CleanSoundsDataset import CleanSoundsDataset"
   ]
  },
  {
   "cell_type": "markdown",
   "metadata": {},
   "source": [
    "# Choose which network you're running"
   ]
  },
  {
   "cell_type": "code",
   "execution_count": 2,
   "metadata": {},
   "outputs": [],
   "source": [
    "args = []"
   ]
  },
  {
   "cell_type": "code",
   "execution_count": 3,
   "metadata": {},
   "outputs": [],
   "source": [
    "from pbranchednetwork_all import PBranchedNetwork_AllSeparateHP\n",
    "PNetClass = PBranchedNetwork_AllSeparateHP\n",
    "pnet_name = 'all'\n",
    "p_layers = 'All Layers'\n",
    "args.append((PNetClass, pnet_name, p_layers))"
   ]
  },
  {
   "cell_type": "code",
   "execution_count": 4,
   "metadata": {},
   "outputs": [],
   "source": [
    "from pbranchednetwork_a1 import PBranchedNetwork_A1SeparateHP\n",
    "PNetClass = PBranchedNetwork_A1SeparateHP\n",
    "pnet_name = 'a1'\n",
    "p_layers = 'Layers 1-3'\n",
    "args.append((PNetClass, pnet_name, p_layers))"
   ]
  },
  {
   "cell_type": "code",
   "execution_count": 5,
   "metadata": {},
   "outputs": [],
   "source": [
    "from pbranchednetwork_conv1 import PBranchedNetwork_Conv1SeparateHP\n",
    "PNetClass = PBranchedNetwork_Conv1SeparateHP\n",
    "pnet_name = 'conv1'\n",
    "p_layers = 'Layer 1'\n",
    "args.append((PNetClass, pnet_name, p_layers))"
   ]
  },
  {
   "cell_type": "markdown",
   "metadata": {},
   "source": [
    "# Parameters"
   ]
  },
  {
   "cell_type": "code",
   "execution_count": 6,
   "metadata": {},
   "outputs": [],
   "source": [
    "engram_dir = '/mnt/smb/locker/issa-locker/users/Erica/'"
   ]
  },
  {
   "cell_type": "code",
   "execution_count": 7,
   "metadata": {},
   "outputs": [],
   "source": [
    "fig_dir = f'{engram_dir}hcnn/figures/'\n",
    "pickle_dir = f'{engram_dir}hcnn/pickles/'"
   ]
  },
  {
   "cell_type": "code",
   "execution_count": 8,
   "metadata": {},
   "outputs": [
    {
     "name": "stdout",
     "output_type": "stream",
     "text": [
      "Device: cuda:0\n"
     ]
    }
   ],
   "source": [
    "DEVICE = 'cuda:0' if torch.cuda.is_available() else 'cpu'\n",
    "print(f'Device: {DEVICE}')\n",
    "\n",
    "checkpoints_dir = f'{engram_dir}hcnn/checkpoints/'\n",
    "tensorboard_dir = f'{engram_dir}hcnn/tensorboard/'"
   ]
  },
  {
   "cell_type": "markdown",
   "metadata": {},
   "source": [
    "# Helper functions"
   ]
  },
  {
   "cell_type": "code",
   "execution_count": 9,
   "metadata": {},
   "outputs": [],
   "source": [
    "def load_pnet(PNetClass, pnet_name):\n",
    "    net = BranchedNetwork()\n",
    "    net.load_state_dict(torch.load(f'{engram_dir}networks_2022_weights.pt'))\n",
    "    pnet = PNetClass(net, build_graph=False)\n",
    "    pnet.load_state_dict(torch.load(\n",
    "        f\"{checkpoints_dir}{pnet_name}/{pnet_name}-50-regular.pth\",\n",
    "        map_location='cpu'\n",
    "        ))\n",
    "    pnet.to(DEVICE)\n",
    "    pnet.eval();\n",
    "    print(f'Loaded Pnet: {pnet_name}')\n",
    "    print_hps(pnet)\n",
    "    return pnet"
   ]
  },
  {
   "cell_type": "code",
   "execution_count": 10,
   "metadata": {},
   "outputs": [],
   "source": [
    "def print_hps(pnet):\n",
    "    for pc in range(pnet.number_of_pcoders):\n",
    "        print (f\"PCoder{pc+1} : ffm: {getattr(pnet,f'ffm{pc+1}'):0.3f} \\t fbm: {getattr(pnet,f'fbm{pc+1}'):0.3f} \\t erm: {getattr(pnet,f'erm{pc+1}'):0.3f}\")"
   ]
  },
  {
   "cell_type": "markdown",
   "metadata": {},
   "source": [
    "# Load PsychoPhysics Dataset"
   ]
  },
  {
   "cell_type": "code",
   "execution_count": 11,
   "metadata": {},
   "outputs": [],
   "source": [
    "f_in = h5py.File(f\"{engram_dir}PsychophysicsWord2017W_not_resampled.hdf5\", 'r')"
   ]
  },
  {
   "cell_type": "code",
   "execution_count": 12,
   "metadata": {},
   "outputs": [],
   "source": [
    "f_metadata = np.load(f\"{engram_dir}PsychophysicsWord2017W_999c6fc475be1e82e114ab9865aa5459e4fd329d.__META.npy\", 'r')"
   ]
  },
  {
   "cell_type": "code",
   "execution_count": 13,
   "metadata": {},
   "outputs": [],
   "source": [
    "f_key = np.load(f\"{engram_dir}PsychophysicsWord2017W_999c6fc475be1e82e114ab9865aa5459e4fd329d.__META_key.npy\", 'r')"
   ]
  },
  {
   "cell_type": "code",
   "execution_count": 14,
   "metadata": {},
   "outputs": [],
   "source": [
    "with open(f\"{engram_dir}PsychophysicsWord2017W_net_performance.p\", 'rb') as f:\n",
    "    net_mistakes = pickle.load(f)['net_mistakes']"
   ]
  },
  {
   "cell_type": "code",
   "execution_count": 15,
   "metadata": {},
   "outputs": [],
   "source": [
    "def getPsychophysics2017WCleanCochleagrams():\n",
    "    \n",
    "    cochleagrams_clean = []\n",
    "   \n",
    "    cochleagrams = []\n",
    "    for batch_ii in range(0,15300,100):\n",
    "        hdf5_path = '/mnt/smb/locker/issa-locker/users/Erica/cgrams_for_noise_robustness_analysis/PsychophysicsWord2017W_clean/batch_'+str(batch_ii)+'_to_'+str(batch_ii+100)+'.hdf5'\n",
    "        with h5py.File(hdf5_path, 'r') as f_in:\n",
    "            cochleagrams += list(f_in['data'])\n",
    "\n",
    "    return cochleagrams\n",
    "clean_in = getPsychophysics2017WCleanCochleagrams()"
   ]
  },
  {
   "cell_type": "code",
   "execution_count": 16,
   "metadata": {},
   "outputs": [],
   "source": [
    "labels = []\n",
    "for word in f_metadata['word']:\n",
    "    idx = np.argwhere(f_key == word)\n",
    "    if len(idx) == 0:\n",
    "        labels.append(-1)\n",
    "    else:\n",
    "        labels.append(idx.item())\n",
    "labels = np.array(labels)\n",
    "labels += 1"
   ]
  },
  {
   "cell_type": "code",
   "execution_count": 17,
   "metadata": {},
   "outputs": [],
   "source": [
    "bg = []\n",
    "for _bg in f_metadata['bg']:\n",
    "    bg.append(str(_bg, 'utf-8'))\n",
    "bg = np.array(bg)"
   ]
  },
  {
   "cell_type": "code",
   "execution_count": 18,
   "metadata": {},
   "outputs": [],
   "source": [
    "snr = []\n",
    "for _snr in f_metadata['snr']:\n",
    "    _snr = str(_snr, 'utf-8')\n",
    "    if 'inf' in _snr:\n",
    "        _snr = np.inf\n",
    "    elif 'neg' in _snr:\n",
    "        if '3' in _snr:\n",
    "            _snr = -3\n",
    "        elif '6' in _snr:\n",
    "            _snr = -6\n",
    "        elif '9' in _snr:\n",
    "            _snr = -9\n",
    "        else:\n",
    "            raise ValueError('Not found')\n",
    "    else:\n",
    "        if '0' in _snr:\n",
    "            _snr = 0\n",
    "        elif '3' in _snr:\n",
    "            _snr = 3\n",
    "        else:\n",
    "            raise ValueError('Not found')\n",
    "    snr.append(_snr)\n",
    "snr = np.array(snr)"
   ]
  },
  {
   "cell_type": "code",
   "execution_count": 19,
   "metadata": {},
   "outputs": [],
   "source": [
    "orig_dset = []\n",
    "for _orig_dset in f_metadata['orig_dset']:\n",
    "    _orig_dset = str(_orig_dset, 'utf-8')\n",
    "    _orig_dset = 'WSJ' if 'WSJ' in _orig_dset else 'Timit'\n",
    "    orig_dset.append(_orig_dset)\n",
    "orig_dset = np.array(orig_dset)"
   ]
  },
  {
   "cell_type": "markdown",
   "metadata": {},
   "source": [
    "# Plot Function"
   ]
  },
  {
   "cell_type": "markdown",
   "metadata": {},
   "source": [
    "import colorednoise as cn\n",
    "from matplotlib import pylab as plt\n",
    "\n",
    "#input values\n",
    "beta = 0         # the exponent: 0=white noite; 1=pink noise;  2=red noise (also \"brownian noise\")\n",
    "samples = 2**16  # number of samples to generate (time series extension)\n",
    "\n",
    "#Deffing some colores\n",
    "A = cn.powerlaw_psd_gaussian(beta, samples)\n",
    "\n",
    "#Ploting first subfiure\n",
    "plt.plot(A, color='black', linewidth=1)\n",
    "plt.title('Colored Noise for β='+str(beta))\n",
    "plt.xlabel('Samples (time-steps)')\n",
    "plt.ylabel('Amplitude(t)', fontsize='large')\n",
    "plt.xlim(1,5000)\n",
    "plt.show()"
   ]
  },
  {
   "cell_type": "markdown",
   "metadata": {},
   "source": [
    "from pycochleagram import cochleagram as cgram"
   ]
  },
  {
   "cell_type": "markdown",
   "metadata": {},
   "source": [
    "cgram.human_cochleagram(A, 100, n=4, sample_factor=2, downsample=None, nonlinearity=None, strict=False)"
   ]
  },
  {
   "cell_type": "code",
   "execution_count": 20,
   "metadata": {},
   "outputs": [],
   "source": [
    "def eval_acc(\n",
    "    pnet, bg_type='n/a',\n",
    "    exclude_timit=True, exclude_correct=True\n",
    "    ):\n",
    "    \n",
    "    bg_idxs = bg==bg_type\n",
    "    if exclude_timit:\n",
    "        bg_idxs = np.logical_and(bg_idxs, orig_dset=='WSJ')\n",
    "    if exclude_correct:\n",
    "        bg_idxs = np.logical_and(bg_idxs, net_mistakes)\n",
    "\n",
    "    timesteps = []\n",
    "    accs = []\n",
    "    snrs = []\n",
    "\n",
    "    n_timesteps = 5\n",
    "    for snr_type in np.unique(snr):\n",
    "        dset_idxs = np.logical_and(bg_idxs, snr==snr_type)\n",
    "        dset_idxs = np.argwhere(dset_idxs).squeeze()\n",
    "        for idx in dset_idxs:\n",
    "            label = labels[idx]\n",
    "            _input = torch.tensor(f_in['data'][idx].reshape((1, 1, 164, 400)))\n",
    "            _input = _input + torch.normal(0, 80, size=_input.shape)\n",
    "            _input = _input.to(DEVICE)\n",
    "            pnet.reset()\n",
    "            with torch.no_grad():\n",
    "                for j in range(n_timesteps):\n",
    "                    _input = _input if j == 0 else None\n",
    "                    outputs, _ = pnet(_input)\n",
    "                    output = outputs.max(-1)[1].item()\n",
    "                    timesteps.append(j)\n",
    "                    accs.append(float((output == label).item()))\n",
    "                    snrs.append(snr_type)\n",
    "\n",
    "    df = pd.DataFrame({\n",
    "        'Timesteps': timesteps,\n",
    "        'Accuracy': accs,\n",
    "        'SNR': snrs\n",
    "    })\n",
    "    return timesteps, accs, snrs, df"
   ]
  },
  {
   "cell_type": "markdown",
   "metadata": {},
   "source": [
    "# Evaluate on background noises"
   ]
  },
  {
   "cell_type": "code",
   "execution_count": 21,
   "metadata": {},
   "outputs": [],
   "source": [
    "# This is bad practice! But the warnings are real annoying\n",
    "import warnings\n",
    "warnings.filterwarnings(\"ignore\")"
   ]
  },
  {
   "cell_type": "code",
   "execution_count": 23,
   "metadata": {},
   "outputs": [
    {
     "name": "stdout",
     "output_type": "stream",
     "text": [
      "Loaded Pnet: all\n",
      "PCoder1 : ffm: 0.300 \t fbm: 0.300 \t erm: 0.010\n",
      "PCoder2 : ffm: 0.300 \t fbm: 0.300 \t erm: 0.010\n",
      "PCoder3 : ffm: 0.300 \t fbm: 0.300 \t erm: 0.010\n",
      "PCoder4 : ffm: 0.300 \t fbm: 0.300 \t erm: 0.010\n",
      "PCoder5 : ffm: 0.300 \t fbm: 0.300 \t erm: 0.010\n"
     ]
    },
    {
     "data": {
      "image/png": "[encoded data removed]",
      "text/plain": [
       "<Figure size 432x288 with 1 Axes>"
      ]
     },
     "metadata": {
      "needs_background": "light"
     },
     "output_type": "display_data"
    },
    {
     "name": "stdout",
     "output_type": "stream",
     "text": [
      "Loaded Pnet: a1\n",
      "PCoder1 : ffm: 0.300 \t fbm: 0.300 \t erm: 0.010\n",
      "PCoder2 : ffm: 0.300 \t fbm: 0.300 \t erm: 0.010\n",
      "PCoder3 : ffm: 0.300 \t fbm: 0.300 \t erm: 0.010\n"
     ]
    },
    {
     "data": {
      "image/png": "[encoded data removed]",
      "text/plain": [
       "<Figure size 432x288 with 1 Axes>"
      ]
     },
     "metadata": {
      "needs_background": "light"
     },
     "output_type": "display_data"
    },
    {
     "name": "stdout",
     "output_type": "stream",
     "text": [
      "Loaded Pnet: conv1\n",
      "PCoder1 : ffm: 0.300 \t fbm: 0.300 \t erm: 0.010\n"
     ]
    },
    {
     "data": {
      "image/png": "[encoded data removed]",
      "text/plain": [
       "<Figure size 432x288 with 1 Axes>"
      ]
     },
     "metadata": {
      "needs_background": "light"
     },
     "output_type": "display_data"
    }
   ],
   "source": [
    "for arg in args:\n",
    "    PNetClass, pnet_name, p_layers = arg\n",
    "    pnet = load_pnet(PNetClass, pnet_name)\n",
    "    for _bg_type in np.unique(bg):\n",
    "        if _bg_type != 'n/a': continue\n",
    "        timesteps, accs, snrs, df = eval_acc(pnet, bg_type=_bg_type, exclude_correct=True)\n",
    "        plt.figure()\n",
    "        g = sns.lineplot(\n",
    "            x='Timesteps', y='Accuracy', data=df\n",
    "            )\n",
    "        plt.title(f'{p_layers}: {_bg_type}')\n",
    "        plt.xticks([0, 1, 2, 3, 4])\n",
    "        plt.legend(title='SNR', labels=[-11, -9, -3, 0, 3])\n",
    "        if _bg_type == 'n/a':\n",
    "            _bg_type = 'None'\n",
    "        plt.show(g)"
   ]
  },
  {
   "cell_type": "code",
   "execution_count": 24,
   "metadata": {},
   "outputs": [
    {
     "name": "stdout",
     "output_type": "stream",
     "text": [
      "Loaded Pnet: all\n",
      "PCoder1 : ffm: 0.300 \t fbm: 0.300 \t erm: 0.010\n",
      "PCoder2 : ffm: 0.300 \t fbm: 0.300 \t erm: 0.010\n",
      "PCoder3 : ffm: 0.300 \t fbm: 0.300 \t erm: 0.010\n",
      "PCoder4 : ffm: 0.300 \t fbm: 0.300 \t erm: 0.010\n",
      "PCoder5 : ffm: 0.300 \t fbm: 0.300 \t erm: 0.010\n"
     ]
    },
    {
     "data": {
      "image/png": "[encoded data removed]",
      "text/plain": [
       "<Figure size 432x288 with 1 Axes>"
      ]
     },
     "metadata": {
      "needs_background": "light"
     },
     "output_type": "display_data"
    },
    {
     "name": "stdout",
     "output_type": "stream",
     "text": [
      "Loaded Pnet: a1\n",
      "PCoder1 : ffm: 0.300 \t fbm: 0.300 \t erm: 0.010\n",
      "PCoder2 : ffm: 0.300 \t fbm: 0.300 \t erm: 0.010\n",
      "PCoder3 : ffm: 0.300 \t fbm: 0.300 \t erm: 0.010\n"
     ]
    },
    {
     "data": {
      "image/png": "[encoded data removed]",
      "text/plain": [
       "<Figure size 432x288 with 1 Axes>"
      ]
     },
     "metadata": {
      "needs_background": "light"
     },
     "output_type": "display_data"
    },
    {
     "name": "stdout",
     "output_type": "stream",
     "text": [
      "Loaded Pnet: conv1\n",
      "PCoder1 : ffm: 0.300 \t fbm: 0.300 \t erm: 0.010\n"
     ]
    },
    {
     "data": {
      "image/png": "[encoded data removed]",
      "text/plain": [
       "<Figure size 432x288 with 1 Axes>"
      ]
     },
     "metadata": {
      "needs_background": "light"
     },
     "output_type": "display_data"
    }
   ],
   "source": [
    "for arg in args:\n",
    "    PNetClass, pnet_name, p_layers = arg\n",
    "    pnet = load_pnet(PNetClass, pnet_name)\n",
    "    for _bg_type in np.unique(bg):\n",
    "        if _bg_type != 'n/a': continue\n",
    "        timesteps, accs, snrs, df = eval_acc(pnet, bg_type=_bg_type, exclude_correct=False)\n",
    "        plt.figure()\n",
    "        g = sns.lineplot(\n",
    "            x='Timesteps', y='Accuracy', data=df\n",
    "            )\n",
    "        plt.title(f'{p_layers}: {_bg_type}')\n",
    "        plt.xticks([0, 1, 2, 3, 4])\n",
    "        plt.legend(title='SNR', labels=[-11, -9, -3, 0, 3])\n",
    "        if _bg_type == 'n/a':\n",
    "            _bg_type = 'None'\n",
    "        plt.show(g)"
   ]
  },
  {
   "cell_type": "code",
   "execution_count": null,
   "metadata": {},
   "outputs": [],
   "source": []
  }
 ],
 "metadata": {
  "kernelspec": {
   "display_name": "Python 3",
   "language": "python",
   "name": "python3"
  },
  "language_info": {
   "codemirror_mode": {
    "name": "ipython",
    "version": 3
   },
   "file_extension": ".py",
   "mimetype": "text/x-python",
   "name": "python",
   "nbconvert_exporter": "python",
   "pygments_lexer": "ipython3",
   "version": "3.7.3"
  }
 },
 "nbformat": 4,
 "nbformat_minor": 5
}
